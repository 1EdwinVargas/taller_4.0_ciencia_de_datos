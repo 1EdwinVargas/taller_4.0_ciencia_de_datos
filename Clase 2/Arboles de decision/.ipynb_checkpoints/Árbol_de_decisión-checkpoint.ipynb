{
 "cells": [
  {
   "cell_type": "markdown",
   "metadata": {
    "id": "lblP0pJUjAyK"
   },
   "source": [
    "## Análisis del Problema\n",
    "\n",
    "Uno de los principales retos que ha encontrado la humanidad de la era moderna, ha sido la lucha contra el cáncer. Solo en el 2012, se le atribuyeron 8.2 millones de muertes a nivel mundial. Los cánceres que causan más muertes son los de pulmón, hígado, estómago, colon y mama. (Fuente: http://www.who.int/cancer/about/facts/es/)\n",
    "\n",
    "El cáncer de mama se da principalmente en las mujeres, sin embargo también puede darse en los hombres. Como con los otros tipos de cáncer, no se conoce cómo o por qué se desarrolla, a pesar de que se conocen varios factores generales de riesgo (índice de masa corporal elevado, consumo insuficiente de frutas y erduras, falta de actividad física y consumo de tabaco y alcohol.)\n",
    "\n",
    "A través de los años se han trabajado diferentes enfoques en la lucha contra el cáncer, no de ellos es el de detección temprana. Este enfoque busca detectar los síntomas de la enfermedad apenas están comenzando a desarrollarse, para determinar cómo puede evolucionar y así determinar el mejor tratamiento para el o la paciente.\n",
    "\n",
    "Sobre esta línea, al detectarse los primeros tumores o masas en el cuerpo de un paciente, una de las principales decisiones es determinar si es un tumor benigno o maligno. Como parte de los esfuerzos para entender mejor esta enfermedad, se realizó un estudio de varias características del núcleo de las células en tumores extraídos de pacientes femeninas en Estados Unidos. El propósito de dicho estudio es tratar de predecir, o clasificar automáticamente si un tumor es benigno o maligno basado en dichas carácterísticas del núcleo de sus células.\n"
   ]
  },
  {
   "cell_type": "markdown",
   "metadata": {
    "id": "LQFdtjbsjAyM"
   },
   "source": [
    "\n",
    "## Entendimiento de los Datos\n",
    "\n",
    "Como parte del estudio, se recolectaron los siguientes datos:\n",
    "\n",
    "- Sample.number: número de muestra; números enteros entre 61634 y 13454352.\n",
    "- Thickness: grosor de la masa; números enteros entre 1 y 10.\n",
    "- Uniformity.Size: uniformidad del tamaño de la célula; números enteros entre 1 y 10.\n",
    "- Uniformity.Shape: uniformidad de la forma de la célula; números enteros entre 1 y 10.\n",
    "- Adhesion: adhesión marginal; números enteros entre 1 y 10.\n",
    "- Epithelial.Size: tamaño de la célula epitelial; números enteros entre 1 y 10.\n",
    "- Nuclei: nucleo de la célula; números enteros entre 1 y 10.\n",
    "- Chromatin: cromatina blanda; números enteros entre 1 y 10.\n",
    "- Nucleoli: \"nucleoli\" normal; números enteros entre 1 y 10.\n",
    "- Mitoses: mitosis; números enteros entre 1 y 10.\n",
    "- Class: clase de tumor; 2 para benigno y 4 para maligno."
   ]
  },
  {
   "cell_type": "code",
   "execution_count": 2,
   "metadata": {
    "id": "-utOgBa5oH0A"
   },
   "outputs": [],
   "source": [
    "system(\"pip3 install kb-python\")\n",
    "system(\"wget https://github.com/pachterlab/kallisto/releases/download/v0.46.1/kallisto_linux-v0.46.1.tar.gz\")\n",
    "untar(\"kallisto_linux-v0.46.1.tar.gz\")\n",
    "system(\"cp kallisto/kallisto /usr/local/bin\")"
   ]
  },
  {
   "cell_type": "code",
   "execution_count": 1,
   "metadata": {
    "colab": {
     "base_uri": "https://localhost:8080/",
     "height": 374
    },
    "id": "FRhph6sYoR-h",
    "outputId": "2d57a21d-a504-4479-a1f8-96179befd38b"
   },
   "outputs": [
    {
     "name": "stderr",
     "output_type": "stream",
     "text": [
      "Installing package into 'C:/Users/efren/Documents/R/win-library/4.0'\n",
      "(as 'lib' is unspecified)\n",
      "\n"
     ]
    },
    {
     "name": "stdout",
     "output_type": "stream",
     "text": [
      "package 'caTools' successfully unpacked and MD5 sums checked\n",
      "\n",
      "The downloaded binary packages are in\n",
      "\tC:\\Users\\efren\\AppData\\Local\\Temp\\RtmpqeQ2rh\\downloaded_packages\n"
     ]
    },
    {
     "name": "stderr",
     "output_type": "stream",
     "text": [
      "Installing package into 'C:/Users/efren/Documents/R/win-library/4.0'\n",
      "(as 'lib' is unspecified)\n",
      "\n"
     ]
    },
    {
     "name": "stdout",
     "output_type": "stream",
     "text": [
      "package 'rpart' successfully unpacked and MD5 sums checked\n",
      "\n",
      "The downloaded binary packages are in\n",
      "\tC:\\Users\\efren\\AppData\\Local\\Temp\\RtmpqeQ2rh\\downloaded_packages\n"
     ]
    },
    {
     "name": "stderr",
     "output_type": "stream",
     "text": [
      "Installing package into 'C:/Users/efren/Documents/R/win-library/4.0'\n",
      "(as 'lib' is unspecified)\n",
      "\n"
     ]
    },
    {
     "name": "stdout",
     "output_type": "stream",
     "text": [
      "package 'rpart.plot' successfully unpacked and MD5 sums checked\n",
      "\n",
      "The downloaded binary packages are in\n",
      "\tC:\\Users\\efren\\AppData\\Local\\Temp\\RtmpqeQ2rh\\downloaded_packages\n"
     ]
    },
    {
     "name": "stderr",
     "output_type": "stream",
     "text": [
      "Installing package into 'C:/Users/efren/Documents/R/win-library/4.0'\n",
      "(as 'lib' is unspecified)\n",
      "\n"
     ]
    },
    {
     "name": "stdout",
     "output_type": "stream",
     "text": [
      "package 'ROCR' successfully unpacked and MD5 sums checked\n",
      "\n",
      "The downloaded binary packages are in\n",
      "\tC:\\Users\\efren\\AppData\\Local\\Temp\\RtmpqeQ2rh\\downloaded_packages\n"
     ]
    },
    {
     "name": "stderr",
     "output_type": "stream",
     "text": [
      "Installing package into 'C:/Users/efren/Documents/R/win-library/4.0'\n",
      "(as 'lib' is unspecified)\n",
      "\n"
     ]
    },
    {
     "name": "stdout",
     "output_type": "stream",
     "text": [
      "package 'dplyr' successfully unpacked and MD5 sums checked\n",
      "\n",
      "The downloaded binary packages are in\n",
      "\tC:\\Users\\efren\\AppData\\Local\\Temp\\RtmpqeQ2rh\\downloaded_packages\n"
     ]
    }
   ],
   "source": [
    "install.packages(\"caTools\")\n",
    "install.packages(\"rpart\")\n",
    "install.packages(\"rpart.plot\")\n",
    "install.packages(\"ROCR\")\n",
    "install.packages(\"dplyr\")"
   ]
  },
  {
   "cell_type": "code",
   "execution_count": 2,
   "metadata": {
    "id": "HMEXcovmjAyN"
   },
   "outputs": [
    {
     "name": "stderr",
     "output_type": "stream",
     "text": [
      "\n",
      "Attaching package: 'dplyr'\n",
      "\n",
      "\n",
      "The following objects are masked from 'package:stats':\n",
      "\n",
      "    filter, lag\n",
      "\n",
      "\n",
      "The following objects are masked from 'package:base':\n",
      "\n",
      "    intersect, setdiff, setequal, union\n",
      "\n",
      "\n"
     ]
    },
    {
     "ename": "ERROR",
     "evalue": "Error in file(file, \"rt\"): no se puede abrir la conexión\n",
     "output_type": "error",
     "traceback": [
      "Error in file(file, \"rt\"): no se puede abrir la conexión\nTraceback:\n",
      "1. read.csv(\"sample_data/bcw.csv\", header = F, col.names = c(\"Sample.number\", \n .     \"Thickness\", \"Uniformity.Size\", \"Uniformity.Shape\", \"Adhesion\", \n .     \"Epithelial.Size\", \"Nuclei\", \"Chromatin\", \"Nucleoli\", \"Mitoses\", \n .     \"Class\"), na.strings = \"?\")",
      "2. read.table(file = file, header = header, sep = sep, quote = quote, \n .     dec = dec, fill = fill, comment.char = comment.char, ...)",
      "3. file(file, \"rt\")"
     ]
    }
   ],
   "source": [
    "#Evitar mostrar warning messages\n",
    "options(warn=-1)\n",
    "\n",
    "#librerías utiliadas (puede que necesiten instalar una o más de estas librerías, en ese caso, utilicen install.packages)\n",
    "library(caTools)\n",
    "library(rpart)\n",
    "library(rpart.plot)\n",
    "library(ROCR)\n",
    "library(dplyr)\n",
    "\n",
    "#cargue el archivo a una variable que se llame bcw usando la función read.csv\n",
    "#usen el parámetro col.names para pasarle un vector con los nombres de las columnas.\n",
    "#nombres para las columnas: Sample.number, Thickness, Uniformity.Size, Uniformity.Shape, Adhesion, Epithelial.Size, Nuclei, Chromatin, Nucleoli, Mitoses, Class\n",
    "#ejemplo: col.names = c('nombre1', 'nombre2')\n",
    "#usen el parámetro na.strings = '?' para que interprete los signos de pregunta como valores faltantes\n",
    "bcw <- read.csv('sample_data/bcw.csv', header = F, col.names = c('Sample.number', 'Thickness', 'Uniformity.Size', 'Uniformity.Shape', 'Adhesion', 'Epithelial.Size', 'Nuclei', 'Chromatin', 'Nucleoli', 'Mitoses', 'Class'), na.strings = '?')\n",
    "\n"
   ]
  },
  {
   "cell_type": "markdown",
   "metadata": {
    "id": "Yd9FKzi_jAyS"
   },
   "source": [
    "Luego de cargar los datos, podemos dar un primer vistazo a cómo están estructurados:"
   ]
  },
  {
   "cell_type": "code",
   "execution_count": 10,
   "metadata": {
    "colab": {
     "base_uri": "https://localhost:8080/",
     "height": 221
    },
    "id": "GSixo08MjAyT",
    "outputId": "dee699e7-e3d6-4035-9787-0c1f2290ed0d"
   },
   "outputs": [
    {
     "name": "stdout",
     "output_type": "stream",
     "text": [
      "'data.frame':\t699 obs. of  11 variables:\n",
      " $ Sample.number   : int  1000025 1002945 1015425 1016277 1017023 1017122 1018099 1018561 1033078 1033078 ...\n",
      " $ Thickness       : int  5 5 3 6 4 8 1 2 2 4 ...\n",
      " $ Uniformity.Size : int  1 4 1 8 1 10 1 1 1 2 ...\n",
      " $ Uniformity.Shape: int  1 4 1 8 1 10 1 2 1 1 ...\n",
      " $ Adhesion        : int  1 5 1 1 3 8 1 1 1 1 ...\n",
      " $ Epithelial.Size : int  2 7 2 3 2 7 2 2 2 2 ...\n",
      " $ Nuclei          : int  1 10 2 4 1 10 10 1 1 1 ...\n",
      " $ Chromatin       : int  3 3 3 3 3 9 3 3 1 2 ...\n",
      " $ Nucleoli        : int  1 2 1 7 1 7 1 1 1 1 ...\n",
      " $ Mitoses         : int  1 1 1 1 1 1 1 1 5 1 ...\n",
      " $ Class           : Factor w/ 2 levels \"2\",\"4\": 1 1 1 1 1 2 1 1 1 1 ...\n"
     ]
    }
   ],
   "source": [
    "#sobreescriban la columna Class con el factor de esa columna\n",
    "bcw$Class <- factor(bcw$Class)\n",
    "\n",
    "#Utilice la función str() para ver la estructura del conjunto de datos:\n",
    "str(bcw)"
   ]
  },
  {
   "cell_type": "markdown",
   "metadata": {
    "id": "srSZoTYAjAyW"
   },
   "source": [
    "En total, el conjunto de datos con el cual se va a trabajar tiene 699 observaciones, de las cuales 458 son tumores benignos (clase = 2) y 241 son malignos (clase = 4), para una proporción de 65.5% benignos y 34.5% malignos.\n"
   ]
  },
  {
   "cell_type": "markdown",
   "metadata": {
    "id": "IFIFuqUDjAyX"
   },
   "source": [
    "* Distribución de los datos obtenidos"
   ]
  },
  {
   "cell_type": "code",
   "execution_count": 11,
   "metadata": {
    "colab": {
     "base_uri": "https://localhost:8080/",
     "height": 488
    },
    "id": "Js0aWbGKjAyX",
    "outputId": "f947807d-e4fe-4dd6-da5a-c30b5d54eced"
   },
   "outputs": [
    {
     "data": {
      "text/plain": [
       "\n",
       "  2   4 \n",
       "458 241 "
      ]
     },
     "metadata": {
      "tags": []
     },
     "output_type": "display_data"
    },
    {
     "data": {
      "image/png": "[encoded data removed]",
      "text/plain": [
       "Plot with title “Distribución de las clases”"
      ]
     },
     "metadata": {
      "image/png": {
       "height": 420,
       "width": 420
      },
      "tags": []
     },
     "output_type": "display_data"
    }
   ],
   "source": [
    "#utilicen la función table() para generar un resumen de las observaciones en bcw por la variable clase. Deberían ver 458 valores con clase = 2 y 241 con clase = 4\n",
    "table(bcw$Class)\n",
    "\n",
    "#utilicen la tabla generada en el paso anterior para generar un gráfico de barras usando la función barplot(). Recuerden incluir los parámetros main, xlab y ylab para agregar el título y las etiquetas.\n",
    "barplot(table(bcw$Class), main = 'Distribución de las clases', ylab = 'Observaciones', xlab = 'Clase')"
   ]
  },
  {
   "cell_type": "markdown",
   "metadata": {
    "id": "zDj2cfihjAya"
   },
   "source": [
    "Para poder entrenar un modelo de minería de datos, necesitamos dividir el conjunto de datos original en dos diferentes: uno de entrenamiento, con el 70% de las observaciones, y uno de prueba con el restante 30%."
   ]
  },
  {
   "cell_type": "code",
   "execution_count": 12,
   "metadata": {
    "id": "JnNTNi-yjAyb"
   },
   "outputs": [],
   "source": [
    "#usen la función set.seed para establecer la semilla con el valor 4161\n",
    "set.seed(4161)\n",
    "\n",
    "#las siguientes líneas de código van a crear un vector de valores lógicos\n",
    "#este vector lo vamos a utilizar para dividir nuestro conjunto de datos original\n",
    "#en dos: uno de entrenamiento para nuestro modelo y uno de prueba.\n",
    "#la división se va a hacer con respecto a la columna Class, y vamos a\n",
    "#dejar 70% de las  observaciones en el de entrenamiento y 30% en el de prueba.\n",
    "\n",
    "#paso 1: crear el vector lógico\n",
    "splt <- sample.split(bcw$Class, SplitRatio = 0.7)\n",
    "\n",
    "#paso 2: crear el data frame de entrenamiento usando los valores TRUE del vector splt\n",
    "bcw.entrenamiento <- bcw[splt,] #solo las observaciones para las cuales el vector splt es verdadero, y todas las columnas.\n",
    "\n",
    "#paso 3: crear el data frame de prueba negando los valores de splt, para usar las observaciones que en el paso anterior eran falsas\n",
    "bcw.prueba <- bcw[!splt,]"
   ]
  },
  {
   "cell_type": "markdown",
   "metadata": {
    "id": "R2yO_6ICjAye"
   },
   "source": [
    "Luego de hacer la división, podemos confirmar que no perdimos información y que mantuvimos la proporción del conjunto de datos original:"
   ]
  },
  {
   "cell_type": "code",
   "execution_count": 13,
   "metadata": {
    "colab": {
     "base_uri": "https://localhost:8080/",
     "height": 136
    },
    "id": "YuI6HODEjAyf",
    "outputId": "78589b74-8a5b-4d74-b810-552654979b76"
   },
   "outputs": [
    {
     "data": {
      "text/html": [
       "699"
      ],
      "text/latex": [
       "699"
      ],
      "text/markdown": [
       "699"
      ],
      "text/plain": [
       "[1] 699"
      ]
     },
     "metadata": {
      "tags": []
     },
     "output_type": "display_data"
    },
    {
     "data": {
      "text/plain": [
       "\n",
       "  2   4 \n",
       "321 169 "
      ]
     },
     "metadata": {
      "tags": []
     },
     "output_type": "display_data"
    },
    {
     "data": {
      "text/plain": [
       "\n",
       "  2   4 \n",
       "137  72 "
      ]
     },
     "metadata": {
      "tags": []
     },
     "output_type": "display_data"
    }
   ],
   "source": [
    "#Utilicen la función nrow() para demostrar que en total seguimos trabajando con 699 registros aunque ahora tengamos 2 datasets.\n",
    "nrow(bcw.entrenamiento) + nrow(bcw.prueba)\n",
    "\n",
    "table(bcw.entrenamiento$Class)\n",
    "\n",
    "table(bcw.prueba$Class)"
   ]
  },
  {
   "cell_type": "markdown",
   "metadata": {
    "id": "wBW37o4ijAyk"
   },
   "source": [
    "El conjunto de datos de entrenamiento tiene 321 tumores benignos y 169 malignos (65.5% - 34.5%), y el conjunto de datos de prueba tiene 137 tumores benignos y 72 malignos (65.5% - 34.5%), para un total de 699 observaciones entre ambos).\n"
   ]
  },
  {
   "cell_type": "code",
   "execution_count": 14,
   "metadata": {
    "colab": {
     "base_uri": "https://localhost:8080/",
     "height": 857
    },
    "id": "OvXkapg_jAyk",
    "outputId": "1d45fe93-8eb5-4ff2-e012-0f99ec166cd9"
   },
   "outputs": [
    {
     "data": {
      "image/png": "[encoded data removed]",
      "text/plain": [
       "Plot with title “Distribución de las clases en bcw.entrenamiento”"
      ]
     },
     "metadata": {
      "image/png": {
       "height": 420,
       "width": 420
      },
      "tags": []
     },
     "output_type": "display_data"
    },
    {
     "data": {
      "image/png": "[encoded data removed]",
      "text/plain": [
       "Plot with title “Distribución de las clases en bcw.prueba”"
      ]
     },
     "metadata": {
      "image/png": {
       "height": 420,
       "width": 420
      },
      "tags": []
     },
     "output_type": "display_data"
    }
   ],
   "source": [
    "#Creen dos gráficos de barra usando barplot(), uno sobre bcw.entrenamiento y otro bcw.prueba para demostrar que se mantiene (o es similar) la proporción de clase = 2 y clase = 4 en los 2 datasets.\n",
    "\n",
    "barplot(table(bcw.entrenamiento$Class), main = 'Distribución de las clases en bcw.entrenamiento', ylab = 'Observaciones', xlab = 'Clase')\n",
    "\n",
    "barplot(table(bcw.prueba$Class), main = 'Distribución de las clases en bcw.prueba', ylab = 'Observaciones', xlab = 'Clase')\n"
   ]
  },
  {
   "cell_type": "markdown",
   "metadata": {
    "id": "dKJWoUB2jAyo"
   },
   "source": [
    "## Modelo de Minería de Datos\n",
    "\n",
    "A partir de los conjuntos de datos de prueba y entrenamiento, vamos a crear un modelo de minería de datos que utilice un árbol de decisión para clasificar observaciones una de las dos clases: 2 (benigno) o 4 (maligno).\n",
    "\n",
    "Primero, utilizamos el conjunto de datos de entrenamiento para crear el modelo:"
   ]
  },
  {
   "cell_type": "code",
   "execution_count": 15,
   "metadata": {
    "id": "C_jRk2q0jAyo"
   },
   "outputs": [],
   "source": [
    "#crear el modelo (esto lo veremos en detalle luego, pero debería haber algunas partes de la sintaxis que ya entiendan)\n",
    "modelo.arbol <- rpart(Class ~ ., data = bcw.entrenamiento[,-which(colnames(bcw.entrenamiento) == \"Sample.number\")], method =  'class')"
   ]
  },
  {
   "cell_type": "markdown",
   "metadata": {
    "id": "tCTmmehdjAyr"
   },
   "source": [
    "Una vez creado el modelo, procedemos a hacer las predicciones de las classes en nuestro conjunto de datos de prueba, y almacenamos dichas predicciones en un vector llamado \"predicciones\"."
   ]
  },
  {
   "cell_type": "code",
   "execution_count": 16,
   "metadata": {
    "colab": {
     "base_uri": "https://localhost:8080/",
     "height": 1000
    },
    "id": "6_HejJzzjAys",
    "outputId": "3af7df64-7f50-4683-b97d-70bf113e9fcd"
   },
   "outputs": [
    {
     "data": {
      "text/html": [
       "<table>\n",
       "<caption>A matrix: 209 × 2 of type dbl</caption>\n",
       "<thead>\n",
       "\t<tr><th></th><th scope=col>2</th><th scope=col>4</th></tr>\n",
       "</thead>\n",
       "<tbody>\n",
       "\t<tr><th scope=row>2</th><td>0.08187135</td><td>0.91812865</td></tr>\n",
       "\t<tr><th scope=row>3</th><td>0.98996656</td><td>0.01003344</td></tr>\n",
       "\t<tr><th scope=row>6</th><td>0.08187135</td><td>0.91812865</td></tr>\n",
       "\t<tr><th scope=row>7</th><td>0.98996656</td><td>0.01003344</td></tr>\n",
       "\t<tr><th scope=row>10</th><td>0.98996656</td><td>0.01003344</td></tr>\n",
       "\t<tr><th scope=row>11</th><td>0.98996656</td><td>0.01003344</td></tr>\n",
       "\t<tr><th scope=row>13</th><td>0.08187135</td><td>0.91812865</td></tr>\n",
       "\t<tr><th scope=row>14</th><td>0.98996656</td><td>0.01003344</td></tr>\n",
       "\t<tr><th scope=row>15</th><td>0.08187135</td><td>0.91812865</td></tr>\n",
       "\t<tr><th scope=row>18</th><td>0.98996656</td><td>0.01003344</td></tr>\n",
       "\t<tr><th scope=row>21</th><td>0.75000000</td><td>0.25000000</td></tr>\n",
       "\t<tr><th scope=row>24</th><td>0.08187135</td><td>0.91812865</td></tr>\n",
       "\t<tr><th scope=row>25</th><td>0.98996656</td><td>0.01003344</td></tr>\n",
       "\t<tr><th scope=row>26</th><td>0.98996656</td><td>0.01003344</td></tr>\n",
       "\t<tr><th scope=row>29</th><td>0.98996656</td><td>0.01003344</td></tr>\n",
       "\t<tr><th scope=row>37</th><td>0.08187135</td><td>0.91812865</td></tr>\n",
       "\t<tr><th scope=row>41</th><td>0.08187135</td><td>0.91812865</td></tr>\n",
       "\t<tr><th scope=row>46</th><td>0.98996656</td><td>0.01003344</td></tr>\n",
       "\t<tr><th scope=row>48</th><td>0.98996656</td><td>0.01003344</td></tr>\n",
       "\t<tr><th scope=row>49</th><td>0.98996656</td><td>0.01003344</td></tr>\n",
       "\t<tr><th scope=row>51</th><td>0.08187135</td><td>0.91812865</td></tr>\n",
       "\t<tr><th scope=row>55</th><td>0.08187135</td><td>0.91812865</td></tr>\n",
       "\t<tr><th scope=row>62</th><td>0.98996656</td><td>0.01003344</td></tr>\n",
       "\t<tr><th scope=row>64</th><td>0.08187135</td><td>0.91812865</td></tr>\n",
       "\t<tr><th scope=row>66</th><td>0.75000000</td><td>0.25000000</td></tr>\n",
       "\t<tr><th scope=row>71</th><td>0.98996656</td><td>0.01003344</td></tr>\n",
       "\t<tr><th scope=row>77</th><td>0.98996656</td><td>0.01003344</td></tr>\n",
       "\t<tr><th scope=row>84</th><td>0.98996656</td><td>0.01003344</td></tr>\n",
       "\t<tr><th scope=row>89</th><td>0.98996656</td><td>0.01003344</td></tr>\n",
       "\t<tr><th scope=row>90</th><td>0.98996656</td><td>0.01003344</td></tr>\n",
       "\t<tr><th scope=row>⋮</th><td>⋮</td><td>⋮</td></tr>\n",
       "\t<tr><th scope=row>618</th><td>0.98996656</td><td>0.01003344</td></tr>\n",
       "\t<tr><th scope=row>620</th><td>0.98996656</td><td>0.01003344</td></tr>\n",
       "\t<tr><th scope=row>626</th><td>0.98996656</td><td>0.01003344</td></tr>\n",
       "\t<tr><th scope=row>627</th><td>0.08187135</td><td>0.91812865</td></tr>\n",
       "\t<tr><th scope=row>632</th><td>0.98996656</td><td>0.01003344</td></tr>\n",
       "\t<tr><th scope=row>635</th><td>0.98996656</td><td>0.01003344</td></tr>\n",
       "\t<tr><th scope=row>637</th><td>0.08187135</td><td>0.91812865</td></tr>\n",
       "\t<tr><th scope=row>640</th><td>0.98996656</td><td>0.01003344</td></tr>\n",
       "\t<tr><th scope=row>641</th><td>0.98996656</td><td>0.01003344</td></tr>\n",
       "\t<tr><th scope=row>642</th><td>0.98996656</td><td>0.01003344</td></tr>\n",
       "\t<tr><th scope=row>651</th><td>0.98996656</td><td>0.01003344</td></tr>\n",
       "\t<tr><th scope=row>658</th><td>0.08187135</td><td>0.91812865</td></tr>\n",
       "\t<tr><th scope=row>660</th><td>0.98996656</td><td>0.01003344</td></tr>\n",
       "\t<tr><th scope=row>663</th><td>0.98996656</td><td>0.01003344</td></tr>\n",
       "\t<tr><th scope=row>665</th><td>0.98996656</td><td>0.01003344</td></tr>\n",
       "\t<tr><th scope=row>668</th><td>0.98996656</td><td>0.01003344</td></tr>\n",
       "\t<tr><th scope=row>670</th><td>0.08187135</td><td>0.91812865</td></tr>\n",
       "\t<tr><th scope=row>671</th><td>0.08187135</td><td>0.91812865</td></tr>\n",
       "\t<tr><th scope=row>673</th><td>0.98996656</td><td>0.01003344</td></tr>\n",
       "\t<tr><th scope=row>674</th><td>0.75000000</td><td>0.25000000</td></tr>\n",
       "\t<tr><th scope=row>677</th><td>0.98996656</td><td>0.01003344</td></tr>\n",
       "\t<tr><th scope=row>678</th><td>0.98996656</td><td>0.01003344</td></tr>\n",
       "\t<tr><th scope=row>680</th><td>0.98996656</td><td>0.01003344</td></tr>\n",
       "\t<tr><th scope=row>682</th><td>0.08187135</td><td>0.91812865</td></tr>\n",
       "\t<tr><th scope=row>683</th><td>0.98996656</td><td>0.01003344</td></tr>\n",
       "\t<tr><th scope=row>686</th><td>0.98996656</td><td>0.01003344</td></tr>\n",
       "\t<tr><th scope=row>689</th><td>0.98996656</td><td>0.01003344</td></tr>\n",
       "\t<tr><th scope=row>695</th><td>0.98996656</td><td>0.01003344</td></tr>\n",
       "\t<tr><th scope=row>697</th><td>0.08187135</td><td>0.91812865</td></tr>\n",
       "\t<tr><th scope=row>698</th><td>0.08187135</td><td>0.91812865</td></tr>\n",
       "</tbody>\n",
       "</table>\n"
      ],
      "text/latex": [
       "A matrix: 209 × 2 of type dbl\n",
       "\\begin{tabular}{r|ll}\n",
       "  & 2 & 4\\\\\n",
       "\\hline\n",
       "\t2 & 0.08187135 & 0.91812865\\\\\n",
       "\t3 & 0.98996656 & 0.01003344\\\\\n",
       "\t6 & 0.08187135 & 0.91812865\\\\\n",
       "\t7 & 0.98996656 & 0.01003344\\\\\n",
       "\t10 & 0.98996656 & 0.01003344\\\\\n",
       "\t11 & 0.98996656 & 0.01003344\\\\\n",
       "\t13 & 0.08187135 & 0.91812865\\\\\n",
       "\t14 & 0.98996656 & 0.01003344\\\\\n",
       "\t15 & 0.08187135 & 0.91812865\\\\\n",
       "\t18 & 0.98996656 & 0.01003344\\\\\n",
       "\t21 & 0.75000000 & 0.25000000\\\\\n",
       "\t24 & 0.08187135 & 0.91812865\\\\\n",
       "\t25 & 0.98996656 & 0.01003344\\\\\n",
       "\t26 & 0.98996656 & 0.01003344\\\\\n",
       "\t29 & 0.98996656 & 0.01003344\\\\\n",
       "\t37 & 0.08187135 & 0.91812865\\\\\n",
       "\t41 & 0.08187135 & 0.91812865\\\\\n",
       "\t46 & 0.98996656 & 0.01003344\\\\\n",
       "\t48 & 0.98996656 & 0.01003344\\\\\n",
       "\t49 & 0.98996656 & 0.01003344\\\\\n",
       "\t51 & 0.08187135 & 0.91812865\\\\\n",
       "\t55 & 0.08187135 & 0.91812865\\\\\n",
       "\t62 & 0.98996656 & 0.01003344\\\\\n",
       "\t64 & 0.08187135 & 0.91812865\\\\\n",
       "\t66 & 0.75000000 & 0.25000000\\\\\n",
       "\t71 & 0.98996656 & 0.01003344\\\\\n",
       "\t77 & 0.98996656 & 0.01003344\\\\\n",
       "\t84 & 0.98996656 & 0.01003344\\\\\n",
       "\t89 & 0.98996656 & 0.01003344\\\\\n",
       "\t90 & 0.98996656 & 0.01003344\\\\\n",
       "\t⋮ & ⋮ & ⋮\\\\\n",
       "\t618 & 0.98996656 & 0.01003344\\\\\n",
       "\t620 & 0.98996656 & 0.01003344\\\\\n",
       "\t626 & 0.98996656 & 0.01003344\\\\\n",
       "\t627 & 0.08187135 & 0.91812865\\\\\n",
       "\t632 & 0.98996656 & 0.01003344\\\\\n",
       "\t635 & 0.98996656 & 0.01003344\\\\\n",
       "\t637 & 0.08187135 & 0.91812865\\\\\n",
       "\t640 & 0.98996656 & 0.01003344\\\\\n",
       "\t641 & 0.98996656 & 0.01003344\\\\\n",
       "\t642 & 0.98996656 & 0.01003344\\\\\n",
       "\t651 & 0.98996656 & 0.01003344\\\\\n",
       "\t658 & 0.08187135 & 0.91812865\\\\\n",
       "\t660 & 0.98996656 & 0.01003344\\\\\n",
       "\t663 & 0.98996656 & 0.01003344\\\\\n",
       "\t665 & 0.98996656 & 0.01003344\\\\\n",
       "\t668 & 0.98996656 & 0.01003344\\\\\n",
       "\t670 & 0.08187135 & 0.91812865\\\\\n",
       "\t671 & 0.08187135 & 0.91812865\\\\\n",
       "\t673 & 0.98996656 & 0.01003344\\\\\n",
       "\t674 & 0.75000000 & 0.25000000\\\\\n",
       "\t677 & 0.98996656 & 0.01003344\\\\\n",
       "\t678 & 0.98996656 & 0.01003344\\\\\n",
       "\t680 & 0.98996656 & 0.01003344\\\\\n",
       "\t682 & 0.08187135 & 0.91812865\\\\\n",
       "\t683 & 0.98996656 & 0.01003344\\\\\n",
       "\t686 & 0.98996656 & 0.01003344\\\\\n",
       "\t689 & 0.98996656 & 0.01003344\\\\\n",
       "\t695 & 0.98996656 & 0.01003344\\\\\n",
       "\t697 & 0.08187135 & 0.91812865\\\\\n",
       "\t698 & 0.08187135 & 0.91812865\\\\\n",
       "\\end{tabular}\n"
      ],
      "text/markdown": [
       "\n",
       "A matrix: 209 × 2 of type dbl\n",
       "\n",
       "| <!--/--> | 2 | 4 |\n",
       "|---|---|---|\n",
       "| 2 | 0.08187135 | 0.91812865 |\n",
       "| 3 | 0.98996656 | 0.01003344 |\n",
       "| 6 | 0.08187135 | 0.91812865 |\n",
       "| 7 | 0.98996656 | 0.01003344 |\n",
       "| 10 | 0.98996656 | 0.01003344 |\n",
       "| 11 | 0.98996656 | 0.01003344 |\n",
       "| 13 | 0.08187135 | 0.91812865 |\n",
       "| 14 | 0.98996656 | 0.01003344 |\n",
       "| 15 | 0.08187135 | 0.91812865 |\n",
       "| 18 | 0.98996656 | 0.01003344 |\n",
       "| 21 | 0.75000000 | 0.25000000 |\n",
       "| 24 | 0.08187135 | 0.91812865 |\n",
       "| 25 | 0.98996656 | 0.01003344 |\n",
       "| 26 | 0.98996656 | 0.01003344 |\n",
       "| 29 | 0.98996656 | 0.01003344 |\n",
       "| 37 | 0.08187135 | 0.91812865 |\n",
       "| 41 | 0.08187135 | 0.91812865 |\n",
       "| 46 | 0.98996656 | 0.01003344 |\n",
       "| 48 | 0.98996656 | 0.01003344 |\n",
       "| 49 | 0.98996656 | 0.01003344 |\n",
       "| 51 | 0.08187135 | 0.91812865 |\n",
       "| 55 | 0.08187135 | 0.91812865 |\n",
       "| 62 | 0.98996656 | 0.01003344 |\n",
       "| 64 | 0.08187135 | 0.91812865 |\n",
       "| 66 | 0.75000000 | 0.25000000 |\n",
       "| 71 | 0.98996656 | 0.01003344 |\n",
       "| 77 | 0.98996656 | 0.01003344 |\n",
       "| 84 | 0.98996656 | 0.01003344 |\n",
       "| 89 | 0.98996656 | 0.01003344 |\n",
       "| 90 | 0.98996656 | 0.01003344 |\n",
       "| ⋮ | ⋮ | ⋮ |\n",
       "| 618 | 0.98996656 | 0.01003344 |\n",
       "| 620 | 0.98996656 | 0.01003344 |\n",
       "| 626 | 0.98996656 | 0.01003344 |\n",
       "| 627 | 0.08187135 | 0.91812865 |\n",
       "| 632 | 0.98996656 | 0.01003344 |\n",
       "| 635 | 0.98996656 | 0.01003344 |\n",
       "| 637 | 0.08187135 | 0.91812865 |\n",
       "| 640 | 0.98996656 | 0.01003344 |\n",
       "| 641 | 0.98996656 | 0.01003344 |\n",
       "| 642 | 0.98996656 | 0.01003344 |\n",
       "| 651 | 0.98996656 | 0.01003344 |\n",
       "| 658 | 0.08187135 | 0.91812865 |\n",
       "| 660 | 0.98996656 | 0.01003344 |\n",
       "| 663 | 0.98996656 | 0.01003344 |\n",
       "| 665 | 0.98996656 | 0.01003344 |\n",
       "| 668 | 0.98996656 | 0.01003344 |\n",
       "| 670 | 0.08187135 | 0.91812865 |\n",
       "| 671 | 0.08187135 | 0.91812865 |\n",
       "| 673 | 0.98996656 | 0.01003344 |\n",
       "| 674 | 0.75000000 | 0.25000000 |\n",
       "| 677 | 0.98996656 | 0.01003344 |\n",
       "| 678 | 0.98996656 | 0.01003344 |\n",
       "| 680 | 0.98996656 | 0.01003344 |\n",
       "| 682 | 0.08187135 | 0.91812865 |\n",
       "| 683 | 0.98996656 | 0.01003344 |\n",
       "| 686 | 0.98996656 | 0.01003344 |\n",
       "| 689 | 0.98996656 | 0.01003344 |\n",
       "| 695 | 0.98996656 | 0.01003344 |\n",
       "| 697 | 0.08187135 | 0.91812865 |\n",
       "| 698 | 0.08187135 | 0.91812865 |\n",
       "\n"
      ],
      "text/plain": [
       "    2          4         \n",
       "2   0.08187135 0.91812865\n",
       "3   0.98996656 0.01003344\n",
       "6   0.08187135 0.91812865\n",
       "7   0.98996656 0.01003344\n",
       "10  0.98996656 0.01003344\n",
       "11  0.98996656 0.01003344\n",
       "13  0.08187135 0.91812865\n",
       "14  0.98996656 0.01003344\n",
       "15  0.08187135 0.91812865\n",
       "18  0.98996656 0.01003344\n",
       "21  0.75000000 0.25000000\n",
       "24  0.08187135 0.91812865\n",
       "25  0.98996656 0.01003344\n",
       "26  0.98996656 0.01003344\n",
       "29  0.98996656 0.01003344\n",
       "37  0.08187135 0.91812865\n",
       "41  0.08187135 0.91812865\n",
       "46  0.98996656 0.01003344\n",
       "48  0.98996656 0.01003344\n",
       "49  0.98996656 0.01003344\n",
       "51  0.08187135 0.91812865\n",
       "55  0.08187135 0.91812865\n",
       "62  0.98996656 0.01003344\n",
       "64  0.08187135 0.91812865\n",
       "66  0.75000000 0.25000000\n",
       "71  0.98996656 0.01003344\n",
       "77  0.98996656 0.01003344\n",
       "84  0.98996656 0.01003344\n",
       "89  0.98996656 0.01003344\n",
       "90  0.98996656 0.01003344\n",
       "⋮   ⋮          ⋮         \n",
       "618 0.98996656 0.01003344\n",
       "620 0.98996656 0.01003344\n",
       "626 0.98996656 0.01003344\n",
       "627 0.08187135 0.91812865\n",
       "632 0.98996656 0.01003344\n",
       "635 0.98996656 0.01003344\n",
       "637 0.08187135 0.91812865\n",
       "640 0.98996656 0.01003344\n",
       "641 0.98996656 0.01003344\n",
       "642 0.98996656 0.01003344\n",
       "651 0.98996656 0.01003344\n",
       "658 0.08187135 0.91812865\n",
       "660 0.98996656 0.01003344\n",
       "663 0.98996656 0.01003344\n",
       "665 0.98996656 0.01003344\n",
       "668 0.98996656 0.01003344\n",
       "670 0.08187135 0.91812865\n",
       "671 0.08187135 0.91812865\n",
       "673 0.98996656 0.01003344\n",
       "674 0.75000000 0.25000000\n",
       "677 0.98996656 0.01003344\n",
       "678 0.98996656 0.01003344\n",
       "680 0.98996656 0.01003344\n",
       "682 0.08187135 0.91812865\n",
       "683 0.98996656 0.01003344\n",
       "686 0.98996656 0.01003344\n",
       "689 0.98996656 0.01003344\n",
       "695 0.98996656 0.01003344\n",
       "697 0.08187135 0.91812865\n",
       "698 0.08187135 0.91812865"
      ]
     },
     "metadata": {
      "tags": []
     },
     "output_type": "display_data"
    },
    {
     "data": {
      "image/png": "[encoded data removed]",
      "text/plain": [
       "Plot with title “Clasificación cáncer de mama \n",
       "(Arbol de decisión)\n",
       "”"
      ]
     },
     "metadata": {
      "image/png": {
       "height": 420,
       "width": 420
      },
      "tags": []
     },
     "output_type": "display_data"
    }
   ],
   "source": [
    "#predecir utilizando el conjunto de datos de prueba\n",
    "predicciones <- predict(modelo.arbol, newdata = bcw.prueba, type = 'prob')\n",
    "predicciones\n",
    "rpart.plot(modelo.arbol,\n",
    "           shadow.col = \"gray\", #Agregar sombras\n",
    "           main = \"Clasificación cáncer de mama \\n(Arbol de decisión)\\n\")"
   ]
  },
  {
   "cell_type": "markdown",
   "metadata": {
    "id": "WKiVvDzCjAyv"
   },
   "source": [
    "## Evaluación\n",
    "\n",
    "Para evaluar la eficacion del modelo de minería de datos, podemos tabular las predicciones (columnas) con los valores reales del conjunto de prueba (hileras):\n",
    "\n",
    "*Notas Importantes*:\n",
    "\n",
    "![Proceso ROC](https://i.ibb.co/QHhTvHn/matriz-de-confusi-n.png)"
   ]
  },
  {
   "cell_type": "code",
   "execution_count": 17,
   "metadata": {
    "colab": {
     "base_uri": "https://localhost:8080/",
     "height": 85
    },
    "id": "pYziNxJrjAyw",
    "outputId": "ab367cfa-6a8b-4237-8bdc-080d65379047"
   },
   "outputs": [
    {
     "name": "stdout",
     "output_type": "stream",
     "text": [
      "   predicciones\n",
      "      2   4\n",
      "  2 128   9\n",
      "  4   4  68\n"
     ]
    }
   ],
   "source": [
    "#Utilicen la función table() para comparar el resultado de las predicciones con el valor de la columna Class en el conjunto de datos de prueba\n",
    "#ejemplo: table(vector1, vector2)\n",
    "#el resultado les va a decir cuántas observaciones eran realmente 2 y fueron clasificadas como 2, y cuántas eran 4 y fueron clasificadas como 4\n",
    "#también les va a decir cuántas eran 2 y fueron clasificadas como 4, y cuáles eran 4 y fueron clasificadas como 2\n",
    "\n",
    "predicciones <- predict(modelo.arbol, newdata = bcw.prueba, type = 'class')\n",
    "\n",
    "data<-table(bcw.prueba$Class, predicciones)\n",
    "print(data)"
   ]
  },
  {
   "cell_type": "markdown",
   "metadata": {
    "id": "dONcQvVyjAyy"
   },
   "source": [
    "En general, podemos sacar las siguientes métricas a partir de la tabulación anterior:"
   ]
  },
  {
   "cell_type": "markdown",
   "metadata": {
    "id": "Ygs7Rg7SjAyz"
   },
   "source": [
    "\\begin{equation}Exactitud=\\frac{VP+VN}{Total}\\end{equation}"
   ]
  },
  {
   "cell_type": "markdown",
   "metadata": {
    "id": "Yzv9yQX1jAy0"
   },
   "source": [
    "- *Exactitud Total* (observaciones clasificadas apropiadamente) = 93.78% (128 benignos y 68 malignos clasificados correctamente)."
   ]
  },
  {
   "cell_type": "code",
   "execution_count": 18,
   "metadata": {
    "colab": {
     "base_uri": "https://localhost:8080/",
     "height": 34
    },
    "id": "xwHUWx2njAy0",
    "outputId": "8bd9f34c-3a05-47de-a46b-c7aedb4bb9a1"
   },
   "outputs": [
    {
     "name": "stdout",
     "output_type": "stream",
     "text": [
      "[1] 0.937799\n"
     ]
    }
   ],
   "source": [
    "print((data[1,1]+data[2,2]) / sum(data) )"
   ]
  },
  {
   "cell_type": "markdown",
   "metadata": {
    "id": "gGFFoLywjAy3"
   },
   "source": [
    "\\begin{equation}\\text{Sensibilidad}=\\frac{VP}{\\text{Total Positivos}}\\end{equation}\n",
    "- *Sensibilidad* (procentaje de positivos verdaderos - de las observaciones que realmente son benignas, ¿cuántas clasificó apropiadamente el modelo?) = 93.42% (de las 137 observaciones que son benignos, 128 fueron correctamente identificadas)."
   ]
  },
  {
   "cell_type": "code",
   "execution_count": 19,
   "metadata": {
    "colab": {
     "base_uri": "https://localhost:8080/",
     "height": 34
    },
    "id": "wGmdrR29jAy3",
    "outputId": "5d5f07c0-0cf6-4aa9-d8a9-4bab16115eae"
   },
   "outputs": [
    {
     "name": "stdout",
     "output_type": "stream",
     "text": [
      "[1] 0.9343066\n"
     ]
    }
   ],
   "source": [
    "print( data[1,1] /(data[1,1]+data[1,2]))"
   ]
  },
  {
   "cell_type": "markdown",
   "metadata": {
    "id": "Hy5P-yAFjAy6"
   },
   "source": [
    "\\begin{equation}\\text{Precisión}=\\frac{VP}{\\text{Total clasificados positivos}}\\end{equation}\n",
    "- *Precisión* (de las observaciones que el modelo determinó que eran benignas, ¿cuántas realmente eran benignas?) = 96.97% (de las 132 observaciones que fueron clasificadas como clase 2, 128 sí eran de esa clase)."
   ]
  },
  {
   "cell_type": "code",
   "execution_count": 20,
   "metadata": {
    "colab": {
     "base_uri": "https://localhost:8080/",
     "height": 34
    },
    "id": "6YKgPIYnjAy6",
    "outputId": "3b73d8f0-6540-4330-acec-6953b6490b8f"
   },
   "outputs": [
    {
     "name": "stdout",
     "output_type": "stream",
     "text": [
      "[1] 0.969697\n"
     ]
    }
   ],
   "source": [
    "print(data[1,1] /(data[1,1]+data[2,1] ))"
   ]
  },
  {
   "cell_type": "markdown",
   "metadata": {
    "id": "O5WCDwHHjAy9"
   },
   "source": [
    "\\begin{equation}\\text{Especificidad}=\\frac{VN}{\\text{Total Negativos}}\\end{equation}\n",
    "- *Especificidad* (porcentaje de negativos verdaderos - en este caso, de las observaciones que realmente son malignas, ¿cuántas clasificó apropiadamente el modelo?) = 94.44% (de las 72 observaciones que son malignas, 68 fueron correctamente identificadas)."
   ]
  },
  {
   "cell_type": "code",
   "execution_count": 21,
   "metadata": {
    "colab": {
     "base_uri": "https://localhost:8080/",
     "height": 34
    },
    "id": "_yD15TCYjAy9",
    "outputId": "4314395b-b4ad-4036-da3d-19340a38c759"
   },
   "outputs": [
    {
     "name": "stdout",
     "output_type": "stream",
     "text": [
      "[1] 0.8831169\n"
     ]
    }
   ],
   "source": [
    "print( data[2,2] /(data[1,2]+data[2,2]))"
   ]
  },
  {
   "cell_type": "code",
   "execution_count": 22,
   "metadata": {
    "colab": {
     "base_uri": "https://localhost:8080/",
     "height": 454
    },
    "id": "rgPxLnljjAzA",
    "outputId": "e55aa68b-3704-45df-de93-a0dcb8e940a7"
   },
   "outputs": [
    {
     "data": {
      "text/html": [
       "0.939375506893755"
      ],
      "text/latex": [
       "0.939375506893755"
      ],
      "text/markdown": [
       "0.939375506893755"
      ],
      "text/plain": [
       "[1] 0.9393755"
      ]
     },
     "metadata": {
      "tags": []
     },
     "output_type": "display_data"
    },
    {
     "data": {
      "image/png": "[encoded data removed]",
      "text/plain": [
       "Plot with title “Curva ROC del modelo”"
      ]
     },
     "metadata": {
      "image/png": {
       "height": 420,
       "width": 420
      },
      "tags": []
     },
     "output_type": "display_data"
    }
   ],
   "source": [
    "prediccionesROC=prediction(c(predicciones),c(bcw.prueba[,'Class']))\n",
    "as.numeric(performance(prediccionesROC, \"auc\")@y.values)\n",
    "plot(performance(prediccionesROC, \"tpr\", \"fpr\"),\n",
    "colorize = T,\n",
    "print.cutoffs.at=seq(0,1,by=0.1),\n",
    "text.adj=c(-0.2,1.7),\n",
    "main = 'Curva ROC del modelo')"
   ]
  },
  {
   "cell_type": "markdown",
   "metadata": {
    "id": "NJs3yWmxjAzD"
   },
   "source": [
    "*Proceso ROC*\n",
    "\n",
    "![Proceso ROC](https://habrastorage.org/files/267/36b/ff1/26736bff158a4d82893ff85b2022cc5b.gif)"
   ]
  },
  {
   "cell_type": "markdown",
   "metadata": {
    "id": "0lwCtVXqjAzE"
   },
   "source": [
    "*Proceso ROC -2*\n",
    "\n",
    "![Proceso ROC](https://i.stack.imgur.com/QY5BJ.png)"
   ]
  },
  {
   "cell_type": "markdown",
   "metadata": {
    "id": "-G16q3XGjAzE"
   },
   "source": [
    "*Proceso ROC -3*\n",
    "\n",
    "![Proceso ROC](https://i.stack.imgur.com/aVFCa.png)"
   ]
  },
  {
   "cell_type": "markdown",
   "metadata": {
    "id": "euRPsXMOjAzF"
   },
   "source": [
    "## Resultados\n",
    "\n",
    "En general, los resultados del modelo son considerablemente buenos, a pesar de ser un modelo relativamente sencillo. De las observaciones clasificadas, el 94% se hizo apropiadamente. \n",
    "\n",
    "Con respecto al tipo de decisiones que se pueden tomar en este caso, la decisión que puede ser más dañina para un paciente es que tenga un tumor maligno y erróneamente se diga que es benigno, pues el paciente podría no recibir tratamiento alguno y eventualmente fallecer. La *especificidad* del modelo es del 94.44%, así que podemos decir que el modelo solo tiene alrededor de un 5% de posibilidades de cometer este error. \n",
    "\n",
    "Alternativamente, se le podría decir al paciente que tiene un tumor maligno cuando en realidad el tumor es benigno. En este caso, el paciente podría pasar un mal rato emocionalmente y puede ser sujeto de más pruebas que eventualmente mostrarían la verdad. La *sensitividad* del modelo es del 93.42%, lo cual quiere decir que el modelo tiene cerca de un 7% probabilidad de cometer este error. Asimismo, la *precisión* es muy alta cerca del 97%, por lo que queda al criterio de los tomadores de decisiones usar o no este modelo."
   ]
  },
  {
   "cell_type": "code",
   "execution_count": null,
   "metadata": {
    "id": "nW5H-pnwjAzF"
   },
   "outputs": [],
   "source": []
  }
 ],
 "metadata": {
  "colab": {
   "name": "Árbol de decisión.ipynb",
   "provenance": []
  },
  "kernelspec": {
   "display_name": "R",
   "language": "R",
   "name": "ir"
  },
  "language_info": {
   "codemirror_mode": "r",
   "file_extension": ".r",
   "mimetype": "text/x-r-source",
   "name": "R",
   "pygments_lexer": "r",
   "version": "4.0.2"
  }
 },
 "nbformat": 4,
 "nbformat_minor": 1
}
