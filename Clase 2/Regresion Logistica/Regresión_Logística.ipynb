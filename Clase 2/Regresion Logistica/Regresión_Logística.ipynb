{
  "nbformat": 4,
  "nbformat_minor": 0,
  "metadata": {
    "kernelspec": {
      "display_name": "R",
      "language": "R",
      "name": "ir"
    },
    "language_info": {
      "codemirror_mode": "r",
      "file_extension": ".r",
      "mimetype": "text/x-r-source",
      "name": "R",
      "pygments_lexer": "r",
      "version": "3.5.1"
    },
    "colab": {
      "name": "Regresión Logística.ipynb",
      "provenance": []
    }
  },
  "cells": [
    {
      "cell_type": "markdown",
      "metadata": {
        "id": "rArjrkL-0AtS"
      },
      "source": [
        "\n"
      ]
    },
    {
      "cell_type": "markdown",
      "metadata": {
        "id": "JD2cbAd62QzU"
      },
      "source": [
        "# Regresión Logística\n",
        "\n",
        "En estadística, la regresión logística es un tipo de análisis de regresión utilizado para predecir el resultado de una variable categórica (una variable que puede adoptar un número limitado de categorías) en función de las variables independientes o predictoras.\\n\n",
        "\n",
        "### Autores\n",
        "* Efrén Jiménez\n",
        "\n",
        "## Análisis del Problema\n",
        "Cuando sucede un accidente en un medio de transporte colectivo de gran tamaño como un barco o un avión, una de las situaciones más sensibles es cómo saber las posibilidades de que un pasajero sobreviva. En el caso del Titanic, ya no hay nada que se pueda hacer sobre los pasajeros, no hay decisión que se pueda tomar. Sin embargo, la forma en que se van a manejar los datos para determinar si un pasajero sobrevivió o no se puede transportar a otros escenarios actuales.\n",
        "\"Al momento en que sucede un accidente, conforme se empiecen a encontrar los primeros sobrevivientes y los primeros cuerpos, podríamos comenzar a crear un modelo que permita predecir las probabilidades de otros pasajeros de haber sobrevivido. Esto podría ayudar en el momento a los cuerpos de rescate a saber qué es necesario tener en la escena del accidente, para poder reaccionar inmediatamente ante cualquier situación.\n",
        "![titanic](https://i.ibb.co/QpJyhmN/titanic.png)\n",
        "\n"
      ]
    },
    {
      "cell_type": "code",
      "metadata": {
        "id": "kjJAQ63Z2DSO"
      },
      "source": [
        "system(\"pip3 install kb-python\")\n",
        "system(\"wget https://github.com/pachterlab/kallisto/releases/download/v0.46.1/kallisto_linux-v0.46.1.tar.gz\")\n",
        "untar(\"kallisto_linux-v0.46.1.tar.gz\")\n",
        "system(\"cp kallisto/kallisto /usr/local/bin\")"
      ],
      "execution_count": 1,
      "outputs": []
    },
    {
      "cell_type": "code",
      "metadata": {
        "id": "pSGIDbmo2uaI",
        "outputId": "8f22739d-14c9-4874-e193-06f127580d32",
        "colab": {
          "base_uri": "https://localhost:8080/",
          "height": 323
        }
      },
      "source": [
        "install.packages(\"titanic\")\n",
        "install.packages(\"lattice\")\n",
        "install.packages(\"caTools\")\n",
        "install.packages(\"ROCR\")"
      ],
      "execution_count": 2,
      "outputs": [
        {
          "output_type": "stream",
          "text": [
            "Installing package into ‘/usr/local/lib/R/site-library’\n",
            "(as ‘lib’ is unspecified)\n",
            "\n",
            "Installing package into ‘/usr/local/lib/R/site-library’\n",
            "(as ‘lib’ is unspecified)\n",
            "\n",
            "Installing package into ‘/usr/local/lib/R/site-library’\n",
            "(as ‘lib’ is unspecified)\n",
            "\n",
            "also installing the dependency ‘bitops’\n",
            "\n",
            "\n",
            "Installing package into ‘/usr/local/lib/R/site-library’\n",
            "(as ‘lib’ is unspecified)\n",
            "\n",
            "also installing the dependencies ‘gtools’, ‘gplots’\n",
            "\n",
            "\n"
          ],
          "name": "stderr"
        }
      ]
    },
    {
      "cell_type": "markdown",
      "metadata": {
        "id": "CsWM5IlQ2CMX"
      },
      "source": [
        "## Entendimiento de los Datos\n"
      ]
    },
    {
      "cell_type": "markdown",
      "metadata": {
        "id": "Rs3ZKEAa0AtT"
      },
      "source": [
        "El conjunto de datos que se va a analizar cuenta con 891 observaciones y 12 variables:\n",
        "- PassengerID: Número de pasajero; numérico, rango de 1 a 891.\n",
        "- Survived: Indica si el pasajero sobrevivió o no; valores posibles: 0 (no), 1 (sí).\n",
        "- Pclass: Clase en la cual viajaba el pasajero; valores posibles: 1, 2 ó 3.\n",
        "- Name: Nombre del pasajero; variable cualitativa categórica.\n",
        "- Sex: Género del pasajero; valores posibles: male (hombre) y female (mujer).\n",
        "- Age: Edad del pasajero; rango: 0.42 a 80 años, con 177 valores faltantes.\n",
        "- SibSp: Cantidad de hermanos o cónyuges en el barco; numérica, rango de 0 a 8.\n",
        "- Parch: Cantidad de hij@s o padres a bordo; numérica, rango de 0 a 6.\n",
        "- Ticket: Número de tiquete; variable cualitativa categórica.\n",
        "- Fare: Monto pagado por el pasajero por su tiquete; rango: de 0 a 512.33.\n",
        "- Cabin: Cabina en la cual esaba hospedado el pasajero; variable cualitiva categórica.\n",
        "- Embarked: Puerto en el cual embarcó el pasajero; variable cualitiva categórica."
      ]
    },
    {
      "cell_type": "code",
      "metadata": {
        "id": "eYFyZYVR0AtU"
      },
      "source": [
        "#librerías utiliadas (puede que necesiten instalar una o más de estas librerías, en ese caso, utilicen install.packages)\n",
        "options(warn=-1)\n",
        "library(titanic)\n",
        "library(lattice)\n",
        "library(caTools)\n",
        "library(ROCR)"
      ],
      "execution_count": 25,
      "outputs": []
    },
    {
      "cell_type": "code",
      "metadata": {
        "id": "2NUvioJ50Atb",
        "outputId": "f7d2106a-4cca-44c7-fe18-694f08160e6b",
        "colab": {
          "base_uri": "https://localhost:8080/",
          "height": 238
        }
      },
      "source": [
        "data(titanic_train)\n",
        "data(titanic_test)\n",
        "#crear factores\n",
        "titanic_train$Survived <- factor(titanic_train$Survived)\n",
        "titanic_train$Pclass <- factor(titanic_train$Pclass)\n",
        "titanic_train$Sex <- factor(titanic_train$Sex)\n",
        "titanic_train$Cabin <- factor(titanic_train$Cabin)\n",
        "titanic_train$Embarked <- factor(titanic_train$Embarked)\n",
        "str(titanic_train)"
      ],
      "execution_count": 4,
      "outputs": [
        {
          "output_type": "stream",
          "text": [
            "'data.frame':\t891 obs. of  12 variables:\n",
            " $ PassengerId: int  1 2 3 4 5 6 7 8 9 10 ...\n",
            " $ Survived   : Factor w/ 2 levels \"0\",\"1\": 1 2 2 2 1 1 1 1 2 2 ...\n",
            " $ Pclass     : Factor w/ 3 levels \"1\",\"2\",\"3\": 3 1 3 1 3 3 1 3 3 2 ...\n",
            " $ Name       : chr  \"Braund, Mr. Owen Harris\" \"Cumings, Mrs. John Bradley (Florence Briggs Thayer)\" \"Heikkinen, Miss. Laina\" \"Futrelle, Mrs. Jacques Heath (Lily May Peel)\" ...\n",
            " $ Sex        : Factor w/ 2 levels \"female\",\"male\": 2 1 1 1 2 2 2 2 1 1 ...\n",
            " $ Age        : num  22 38 26 35 35 NA 54 2 27 14 ...\n",
            " $ SibSp      : int  1 1 0 1 0 0 0 3 0 1 ...\n",
            " $ Parch      : int  0 0 0 0 0 0 0 1 2 0 ...\n",
            " $ Ticket     : chr  \"A/5 21171\" \"PC 17599\" \"STON/O2. 3101282\" \"113803\" ...\n",
            " $ Fare       : num  7.25 71.28 7.92 53.1 8.05 ...\n",
            " $ Cabin      : Factor w/ 148 levels \"\",\"A10\",\"A14\",..: 1 83 1 57 1 1 131 1 1 1 ...\n",
            " $ Embarked   : Factor w/ 4 levels \"\",\"C\",\"Q\",\"S\": 4 2 4 4 4 3 4 4 4 2 ...\n"
          ],
          "name": "stdout"
        }
      ]
    },
    {
      "cell_type": "code",
      "metadata": {
        "id": "rKYNnjTa0Atg"
      },
      "source": [
        "#Dividir el conjunto de datos en entrenamiento y prueba\n",
        "set.seed(351)\n",
        "splt <- sample.split(titanic_train$Survived, SplitRatio = 0.7)\n",
        "datos.entrenamiento <- titanic_train[splt,]\n",
        "datos.prueba <- titanic_train[!splt,]"
      ],
      "execution_count": 5,
      "outputs": []
    },
    {
      "cell_type": "markdown",
      "metadata": {
        "id": "IM26ZFjV0Atk"
      },
      "source": [
        "Una vez cargados los datos, podemos comenzar a explorarlos. Para comenzar, podemos analizar la distribución\n",
        "de la variable Edad, en el contexto de si el pasajero sobrevivió o no:"
      ]
    },
    {
      "cell_type": "code",
      "metadata": {
        "id": "plPgiZKC0Atl",
        "outputId": "07624020-d8cf-4e52-e84e-6ac4e7b78d7e",
        "colab": {
          "base_uri": "https://localhost:8080/",
          "height": 437
        }
      },
      "source": [
        "boxplot(datos.entrenamiento$Age ~ datos.entrenamiento$Survived,\n",
        "main = 'Distribuciones de edad',\n",
        "ylab = 'Edad',\n",
        "xlab = 'Sobrevivió (1 = sí)')"
      ],
      "execution_count": 6,
      "outputs": [
        {
          "output_type": "display_data",
          "data": {
            "image/png": "[encoded data removed]",
            "text/plain": [
              "Plot with title “Distribuciones de edad”"
            ]
          },
          "metadata": {
            "tags": [],
            "image/png": {
              "width": 420,
              "height": 420
            }
          }
        }
      ]
    },
    {
      "cell_type": "markdown",
      "metadata": {
        "id": "xtqopBwY0Atq"
      },
      "source": [
        "Del gráfico anterior, podemos concluir que hubo sobrevivientes y víctimas en diferentes rangos de edades, y\n",
        "que no se aprecia un patrón dictado por la edad que favorezca al a sobrevivir el accidente. Alternativamente,\n",
        "podemos comparar proporciones entre los sobrevivientes y el genero:"
      ]
    },
    {
      "cell_type": "code",
      "metadata": {
        "id": "IQpo_B1X0Atr",
        "outputId": "01bed0b8-cb59-4ea4-d237-fa2aae0b88f4",
        "colab": {
          "base_uri": "https://localhost:8080/",
          "height": 437
        }
      },
      "source": [
        "mosaicplot(~datos.entrenamiento$Survived + datos.entrenamiento$Sex,\n",
        "main = 'Proporción de sobrevivientes por género',\n",
        "ylab = 'Género',\n",
        "xlab = '¿Sobrevivió? (0 = No)')"
      ],
      "execution_count": 7,
      "outputs": [
        {
          "output_type": "display_data",
          "data": {
            "image/png": "[encoded data removed]",
            "text/plain": [
              "Plot with title “Proporción de sobrevivientes por género”"
            ]
          },
          "metadata": {
            "tags": [],
            "image/png": {
              "width": 420,
              "height": 420
            }
          }
        }
      ]
    },
    {
      "cell_type": "markdown",
      "metadata": {
        "id": "8jU1lPn00Atw"
      },
      "source": [
        "En el gráfico de mosaico arriba, podemos apreciar cómo hay un mayor número de víctimas masculinas,\n",
        "complementado por una gran cantidad de mujeres sobrevivientes.\n",
        "Dada la época en la cual sucedió el accidente del Titanic, también es importante analizar la proporción de\n",
        "sobrevivientes por clase en la cual viajaba:"
      ]
    },
    {
      "cell_type": "code",
      "metadata": {
        "id": "SiM-eT8K0Atw",
        "outputId": "6b808a90-9f1f-4998-c7d3-51b3cbebc491",
        "colab": {
          "base_uri": "https://localhost:8080/",
          "height": 437
        }
      },
      "source": [
        "mosaicplot(~datos.entrenamiento$Survived + datos.entrenamiento$Pclass,\n",
        "main = 'Proporción de sobrevivientes por clase',\n",
        "ylab = 'Clase',\n",
        "xlab = '¿Sobrevivió? (0 = No)')"
      ],
      "execution_count": 8,
      "outputs": [
        {
          "output_type": "display_data",
          "data": {
            "image/png": "[encoded data removed]",
            "text/plain": [
              "Plot with title “Proporción de sobrevivientes por clase”"
            ]
          },
          "metadata": {
            "tags": [],
            "image/png": {
              "width": 420,
              "height": 420
            }
          }
        }
      ]
    },
    {
      "cell_type": "markdown",
      "metadata": {
        "id": "g_HlqEir0At1"
      },
      "source": [
        "En el gráfico anterior, se puede apreciar cómo la mayoría de personas que no sobrevivió viajaba en tercera\n",
        "clase , mientras que la proporción de sobrevivientes la domina la gente que iba en primera clase.\n",
        "Adicionalmente, se puede analizar la interacción de variables como el género y la edad, para ver si a pesar de\n",
        "que la edad no parece ser importante por sí sola para determinar quién sobrevivió, pero talvez en combinación\n",
        "con el género sí pueda ser interesante."
      ]
    },
    {
      "cell_type": "code",
      "metadata": {
        "id": "reqwoTLn0At2",
        "outputId": "3e39a05b-8825-49e7-d163-db309279649e",
        "colab": {
          "base_uri": "https://localhost:8080/",
          "height": 437
        }
      },
      "source": [
        "bwplot(datos.entrenamiento$Age ~ datos.entrenamiento$Survived | datos.entrenamiento$Sex,\n",
        "main = 'Distribución de edades por género y si sobrevivieron (1) o no (0)',\n",
        "xlab = '¿Sobrevivieron?',\n",
        "ylab = 'Edad')"
      ],
      "execution_count": 9,
      "outputs": [
        {
          "output_type": "display_data",
          "data": {
            "image/png": "[encoded data removed]",
            "text/plain": [
              "plot without title"
            ]
          },
          "metadata": {
            "tags": [],
            "image/png": {
              "width": 420,
              "height": 420
            }
          }
        }
      ]
    },
    {
      "cell_type": "markdown",
      "metadata": {
        "id": "DTjrgk1O0At6"
      },
      "source": [
        "Del gráfico anterior, se puede observar una mayor tendencia de hombres de mayor edad y mujeres de menos\n",
        "edad a no sobrevivir, por lo cual no vamos a descartar la variable de la edad a la hora de hacer el gráfico.\n",
        "Para terminar, podemos ver la proporción de sobrevivientes de acuerdo con su punto de embarque:"
      ]
    },
    {
      "cell_type": "code",
      "metadata": {
        "id": "VvDmvk5k0At7",
        "outputId": "60ce7511-b236-4633-ad89-bedd5230cb0e",
        "colab": {
          "base_uri": "https://localhost:8080/",
          "height": 437
        }
      },
      "source": [
        "mosaicplot(~datos.entrenamiento$Survived + datos.entrenamiento$Embarked,\n",
        "main = 'Proporción de sobrevivientes por punto de embarque',\n",
        "ylab = 'Punto de Embarque',\n",
        "xlab = '¿Sobrevivió? (0 = No)')"
      ],
      "execution_count": 10,
      "outputs": [
        {
          "output_type": "display_data",
          "data": {
            "image/png": "[encoded data removed]",
            "text/plain": [
              "Plot with title “Proporción de sobrevivientes por punto de embarque”"
            ]
          },
          "metadata": {
            "tags": [],
            "image/png": {
              "width": 420,
              "height": 420
            }
          }
        }
      ]
    },
    {
      "cell_type": "markdown",
      "metadata": {
        "id": "yQnNSXRn0AuA"
      },
      "source": [
        "A primera vista, se puede apreciar cómo ambos valores (sobrevivieron y no sobrevivieron) son dominados\n",
        "por las observaciones del punto de embarque “S”. Esto tiene mucho sentido porque, según la segunda tabla\n",
        "abajo, la mayoría de las personas embarcó en este punto (72%, o 450 observaciones de 623). Lo que sí resulta\n",
        "interesante es ver cómo la mayoría de las personas que embarcaron en el punto “C”, según la tercera table\n",
        "abajo, sobrevivió: 57%, comparado con menos del 46% en los otros dos puntos de embarque, obviando las 2\n",
        "observaciones para las cuales no se tiene esa información."
      ]
    },
    {
      "cell_type": "code",
      "metadata": {
        "id": "OMYwL5GM0AuB",
        "outputId": "83c70aea-3e8d-4b3a-a567-ae90fcd5e9fe",
        "colab": {
          "base_uri": "https://localhost:8080/",
          "height": 68
        }
      },
      "source": [
        "table(datos.entrenamiento$Embarked)"
      ],
      "execution_count": 11,
      "outputs": [
        {
          "output_type": "display_data",
          "data": {
            "text/plain": [
              "\n",
              "      C   Q   S \n",
              "  2 118  53 450 "
            ]
          },
          "metadata": {
            "tags": []
          }
        }
      ]
    },
    {
      "cell_type": "code",
      "metadata": {
        "id": "DYg-Rzgi0AuE",
        "outputId": "1941bb5d-dc51-4ddd-cad4-c5e27899551c",
        "colab": {
          "base_uri": "https://localhost:8080/",
          "height": 68
        }
      },
      "source": [
        "\n",
        "round(table(datos.entrenamiento$Embarked)/nrow(datos.entrenamiento)*100,2)"
      ],
      "execution_count": 12,
      "outputs": [
        {
          "output_type": "display_data",
          "data": {
            "text/plain": [
              "\n",
              "          C     Q     S \n",
              " 0.32 18.94  8.51 72.23 "
            ]
          },
          "metadata": {
            "tags": []
          }
        }
      ]
    },
    {
      "cell_type": "code",
      "metadata": {
        "id": "Nj-HbL6v0AuH",
        "outputId": "90b57dfb-fafe-4463-8e14-b6656bf92418",
        "colab": {
          "base_uri": "https://localhost:8080/",
          "height": 119
        }
      },
      "source": [
        "round(table(datos.entrenamiento$Embarked, datos.entrenamiento$Survived)/\n",
        "rowSums(table(datos.entrenamiento$Embarked, datos.entrenamiento$Survived))*100,2)"
      ],
      "execution_count": 13,
      "outputs": [
        {
          "output_type": "display_data",
          "data": {
            "text/plain": [
              "   \n",
              "         0      1\n",
              "      0.00 100.00\n",
              "  C  43.22  56.78\n",
              "  Q  54.72  45.28\n",
              "  S  67.56  32.44"
            ]
          },
          "metadata": {
            "tags": []
          }
        }
      ]
    },
    {
      "cell_type": "markdown",
      "metadata": {
        "id": "eWJFyLRp0AuL"
      },
      "source": [
        "## Modelo de Minería de Datos\n",
        "\n",
        "Para modelar este caso, se va a utilizar una regresión logística, dejando de lado columnas como el identificador\n",
        "del pasajero, el nombre, el número de tiquete y el número de cabina en la cual estuvo hospedado el pasajero:"
      ]
    },
    {
      "cell_type": "code",
      "metadata": {
        "id": "5dRlDM860AuL"
      },
      "source": [
        "titanic.fit <- glm(Survived ~ Pclass + Sex + Age + SibSp + Parch + Fare + Embarked,\n",
        "data = datos.entrenamiento,\n",
        "family = binomial)"
      ],
      "execution_count": 14,
      "outputs": []
    },
    {
      "cell_type": "markdown",
      "metadata": {
        "id": "HhcBArL60AuP"
      },
      "source": [
        "Al ver los detalles del modelo:"
      ]
    },
    {
      "cell_type": "code",
      "metadata": {
        "id": "MJNAyDGQ0AuP",
        "outputId": "ea65b983-15fd-4c0a-f61c-49763e7637f8",
        "colab": {
          "base_uri": "https://localhost:8080/",
          "height": 578
        }
      },
      "source": [
        "summary(titanic.fit)"
      ],
      "execution_count": 15,
      "outputs": [
        {
          "output_type": "display_data",
          "data": {
            "text/plain": [
              "\n",
              "Call:\n",
              "glm(formula = Survived ~ Pclass + Sex + Age + SibSp + Parch + \n",
              "    Fare + Embarked, family = binomial, data = datos.entrenamiento)\n",
              "\n",
              "Deviance Residuals: \n",
              "    Min       1Q   Median       3Q      Max  \n",
              "-2.7717  -0.6390  -0.3591   0.5515   2.5430  \n",
              "\n",
              "Coefficients:\n",
              "              Estimate Std. Error z value Pr(>|z|)    \n",
              "(Intercept)  16.690641 608.038382   0.027  0.97810    \n",
              "Pclass2      -1.148664   0.402096  -2.857  0.00428 ** \n",
              "Pclass3      -2.586663   0.430218  -6.012 1.83e-09 ***\n",
              "Sexmale      -2.585890   0.273213  -9.465  < 2e-16 ***\n",
              "Age          -0.043615   0.010350  -4.214 2.51e-05 ***\n",
              "SibSp        -0.340159   0.162014  -2.100  0.03577 *  \n",
              "Parch         0.031517   0.155045   0.203  0.83892    \n",
              "Fare          0.001685   0.003663   0.460  0.64538    \n",
              "EmbarkedC   -12.220417 608.038168  -0.020  0.98397    \n",
              "EmbarkedQ   -12.647053 608.038463  -0.021  0.98341    \n",
              "EmbarkedS   -12.762141 608.038140  -0.021  0.98325    \n",
              "---\n",
              "Signif. codes:  0 ‘***’ 0.001 ‘**’ 0.01 ‘*’ 0.05 ‘.’ 0.1 ‘ ’ 1\n",
              "\n",
              "(Dispersion parameter for binomial family taken to be 1)\n",
              "\n",
              "    Null deviance: 669.68  on 495  degrees of freedom\n",
              "Residual deviance: 420.94  on 485  degrees of freedom\n",
              "  (127 observations deleted due to missingness)\n",
              "AIC: 442.94\n",
              "\n",
              "Number of Fisher Scoring iterations: 13\n"
            ]
          },
          "metadata": {
            "tags": []
          }
        }
      ]
    },
    {
      "cell_type": "markdown",
      "metadata": {
        "id": "spAiRQv40AuT"
      },
      "source": [
        "Se puede observar que hay muchas variables que no son significativas: el punto de embarque, el monto pagado\n",
        "por el tiquete y la cantidad de padres / hijos a bordo, así que se procede a hacer un segundo modelo sin estas\n",
        "variables:"
      ]
    },
    {
      "cell_type": "code",
      "metadata": {
        "id": "31pyhk8w0AuT",
        "outputId": "9e365be4-18a8-4dbe-c9fc-eb2b24d870f1",
        "colab": {
          "base_uri": "https://localhost:8080/",
          "height": 476
        }
      },
      "source": [
        "titanic.fit <- glm(Survived ~ Pclass + Sex + Age,\n",
        "data = datos.entrenamiento,\n",
        "family = binomial,na.action = na.exclude)\n",
        "summary(titanic.fit)"
      ],
      "execution_count": 52,
      "outputs": [
        {
          "output_type": "display_data",
          "data": {
            "text/plain": [
              "\n",
              "Call:\n",
              "glm(formula = Survived ~ Pclass + Sex + Age, family = binomial, \n",
              "    data = datos.entrenamiento, na.action = na.exclude)\n",
              "\n",
              "Deviance Residuals: \n",
              "    Min       1Q   Median       3Q      Max  \n",
              "-2.7964  -0.6521  -0.3624   0.5920   2.5488  \n",
              "\n",
              "Coefficients:\n",
              "             Estimate Std. Error z value Pr(>|z|)    \n",
              "(Intercept)  3.969399   0.501086   7.922 2.35e-15 ***\n",
              "Pclass2     -1.369490   0.342989  -3.993 6.53e-05 ***\n",
              "Pclass3     -2.815590   0.356925  -7.888 3.06e-15 ***\n",
              "Sexmale     -2.567617   0.255997 -10.030  < 2e-16 ***\n",
              "Age         -0.039885   0.009738  -4.096 4.21e-05 ***\n",
              "---\n",
              "Signif. codes:  0 ‘***’ 0.001 ‘**’ 0.01 ‘*’ 0.05 ‘.’ 0.1 ‘ ’ 1\n",
              "\n",
              "(Dispersion parameter for binomial family taken to be 1)\n",
              "\n",
              "    Null deviance: 669.68  on 495  degrees of freedom\n",
              "Residual deviance: 429.77  on 491  degrees of freedom\n",
              "  (127 observations deleted due to missingness)\n",
              "AIC: 439.77\n",
              "\n",
              "Number of Fisher Scoring iterations: 5\n"
            ]
          },
          "metadata": {
            "tags": []
          }
        }
      ]
    },
    {
      "cell_type": "markdown",
      "metadata": {
        "id": "HGYhHPzQ0AuW"
      },
      "source": [
        "En este segundo modelo, todas las variables son significativas, y el AIC bajó de 443 a 437. Tenemos suficiente\n",
        "evidencia de que el segundo modelo es mejor que el primero a nivel estadístico.\n",
        "Con respecto a la interpretación de coeficientes, se puede decir que:"
      ]
    },
    {
      "cell_type": "markdown",
      "metadata": {
        "id": "EtimLlE40AuX"
      },
      "source": [
        "- El logaritmo de las posibilidades de los pasajeros de 2da y 3ra clase es menor que el de los pasajeros de\n",
        "primera clase.\n",
        "- La probabilidad de sobrevivir es menor para los hombres.\n",
        "- En general, a mayor edad y cantidad de hermanos / espos@s, menor probabilidad de sobrevivir."
      ]
    },
    {
      "cell_type": "markdown",
      "metadata": {
        "id": "HmmiDfQu0AuY"
      },
      "source": [
        "## Evaluación\n",
        "A manera de modelo ingenuo, podemos tener un modelo que prediga que nadie sobrevivió al Titanic, pues\n",
        "es el resultado más frecuente. Dicho modelo tendría una exactitud del 61.58% (165 aciertos de 268 en el\n",
        "conjunto de pruebas)."
      ]
    },
    {
      "cell_type": "code",
      "metadata": {
        "id": "tFZKJQ6S0AuY",
        "outputId": "cb5685a5-5a9e-46a1-8a97-2e5b8a810ce1",
        "colab": {
          "base_uri": "https://localhost:8080/",
          "height": 68
        }
      },
      "source": [
        "table(datos.entrenamiento$Survived)"
      ],
      "execution_count": 17,
      "outputs": [
        {
          "output_type": "display_data",
          "data": {
            "text/plain": [
              "\n",
              "  0   1 \n",
              "384 239 "
            ]
          },
          "metadata": {
            "tags": []
          }
        }
      ]
    },
    {
      "cell_type": "code",
      "metadata": {
        "id": "Ob1zfTyx0Auc",
        "outputId": "af46c326-1fb1-48dd-f40d-2727e86b831d",
        "colab": {
          "base_uri": "https://localhost:8080/",
          "height": 85
        }
      },
      "source": [
        "table(datos.prueba$Survived, rep(0, nrow(datos.prueba)))"
      ],
      "execution_count": 18,
      "outputs": [
        {
          "output_type": "display_data",
          "data": {
            "text/plain": [
              "   \n",
              "      0\n",
              "  0 165\n",
              "  1 103"
            ]
          },
          "metadata": {
            "tags": []
          }
        }
      ]
    },
    {
      "cell_type": "markdown",
      "metadata": {
        "id": "ViGsWRbV0Aui"
      },
      "source": [
        "Al generar las predicciones del modelo sobre el conjunto de pruebas, tenemos las siguientes métricas según la\n",
        "tabla abajo (usando 0.5 como umbral de discriminación):"
      ]
    },
    {
      "cell_type": "markdown",
      "metadata": {
        "id": "8XTryiz60Auj"
      },
      "source": [
        "- Exactitud: 63.81%\n",
        "- Sensibilidad: 70.79%\n",
        "- Especificidad: 83.72%\n",
        "- Área bajo la curva: 82.96%"
      ]
    },
    {
      "cell_type": "code",
      "metadata": {
        "id": "w5EPKjVh0Auj"
      },
      "source": [
        "predicciones <- predict(titanic.fit, newdata = datos.prueba, type = 'response')\n",
        "data<-table(datos.prueba$Survived, predicciones >= 0.5)"
      ],
      "execution_count": 45,
      "outputs": []
    },
    {
      "cell_type": "markdown",
      "metadata": {
        "id": "SDvcBUCN0Aum"
      },
      "source": [
        "*Notas Importantes*:\n",
        "\n",
        "![Proceso ROC](https://i.ibb.co/QHhTvHn/matriz-de-confusi-n.png)"
      ]
    },
    {
      "cell_type": "markdown",
      "metadata": {
        "id": "xKJJY5lt0Aun"
      },
      "source": [
        "En general, podemos sacar las siguientes métricas a partir de la tabulación anterior:"
      ]
    },
    {
      "cell_type": "markdown",
      "metadata": {
        "id": "Hr-zXeJ60Aun"
      },
      "source": [
        "\\begin{equation}Exactitud=\\frac{VP+VN}{Total}\\end{equation}"
      ]
    },
    {
      "cell_type": "code",
      "metadata": {
        "id": "JaIOjCo70Auo",
        "outputId": "fcea2874-0213-4275-fd29-c93d9e76d03c",
        "colab": {
          "base_uri": "https://localhost:8080/",
          "height": 34
        }
      },
      "source": [
        "#Exactitud:\n",
        "#(108 + 63) / nrow(datos.prueba)\n",
        "print((data[1,1]+data[2,2]) / sum(data) )"
      ],
      "execution_count": 20,
      "outputs": [
        {
          "output_type": "stream",
          "text": [
            "[1] 0.7844037\n"
          ],
          "name": "stdout"
        }
      ]
    },
    {
      "cell_type": "markdown",
      "metadata": {
        "id": "yewIHr6t0Aur"
      },
      "source": [
        "\\begin{equation}\\text{Sensibilidad}=\\frac{VP}{\\text{Total Positivos}}\\end{equation}"
      ]
    },
    {
      "cell_type": "code",
      "metadata": {
        "id": "KjlhNFce0Aur",
        "outputId": "d51b4adb-d9c9-49b9-9f16-25fdf46d390f",
        "colab": {
          "base_uri": "https://localhost:8080/",
          "height": 34
        }
      },
      "source": [
        "#Sensibilidad:\n",
        "#63 / (63 + 26)\n",
        "print( data[1,1] /(data[1,1]+data[1,2]))"
      ],
      "execution_count": 21,
      "outputs": [
        {
          "output_type": "stream",
          "text": [
            "[1] 0.8372093\n"
          ],
          "name": "stdout"
        }
      ]
    },
    {
      "cell_type": "markdown",
      "metadata": {
        "id": "sxCO0gtY0Auu"
      },
      "source": [
        "\\begin{equation}\\text{Precisión}=\\frac{VP}{\\text{Total clasificados positivos}}\\end{equation}"
      ]
    },
    {
      "cell_type": "code",
      "metadata": {
        "id": "WUzkHhy80Auv",
        "outputId": "554c2068-f9e9-4157-a8ab-776e5f6cd31e",
        "colab": {
          "base_uri": "https://localhost:8080/",
          "height": 34
        }
      },
      "source": [
        "print(data[1,1] /(data[1,1]+data[2,1] ))"
      ],
      "execution_count": 22,
      "outputs": [
        {
          "output_type": "stream",
          "text": [
            "[1] 0.8059701\n"
          ],
          "name": "stdout"
        }
      ]
    },
    {
      "cell_type": "markdown",
      "metadata": {
        "id": "Wggkm46s0Auy"
      },
      "source": [
        "\\begin{equation}\\text{Especificidad}=\\frac{VN}{\\text{Total Negativos}}\\end{equation}"
      ]
    },
    {
      "cell_type": "code",
      "metadata": {
        "id": "xw_QF-lj0Auz",
        "outputId": "4c48fbf4-4ae5-4283-c7d3-42d43e06984e",
        "colab": {
          "base_uri": "https://localhost:8080/",
          "height": 34
        }
      },
      "source": [
        "print( data[2,2] /(data[1,2]+data[2,2]))"
      ],
      "execution_count": 27,
      "outputs": [
        {
          "output_type": "stream",
          "text": [
            "[1] 0.75\n"
          ],
          "name": "stdout"
        }
      ]
    },
    {
      "cell_type": "code",
      "metadata": {
        "id": "Bo2zcWgR36cI",
        "outputId": "362019c4-8203-47e8-f790-eb030421c9bd",
        "colab": {
          "base_uri": "https://localhost:8080/",
          "height": 595
        }
      },
      "source": [
        "\n",
        "predicciones <- predict(titanic.fit, newdata = datos.prueba)\n",
        "predicciones = ifelse(is.na(predicciones), 0,predicciones)\n",
        "predicciones"
      ],
      "execution_count": 61,
      "outputs": [
        {
          "output_type": "display_data",
          "data": {
            "text/plain": [
              "           1            4            8            9           11           12 \n",
              "-2.291274913  2.573429105 -1.493577959  0.076917947  0.994269444  1.656077608 \n",
              "          14           17           19           28           30           36 \n",
              "-2.969317324 -1.493577959 -0.082621444  0.643969569  0.000000000 -0.273381928 \n",
              "          40           49           51           58           61           64 \n",
              " 0.595420967  0.000000000 -1.693002198 -2.550526423 -2.291274913 -1.573347655 \n",
              "          66           70           72           81           90           93 \n",
              " 0.000000000 -2.450814304  0.515651272 -2.291274913 -2.371044608 -0.432921319 \n",
              "          94           95           97          100          102          112 \n",
              "-2.450814304 -3.767014278 -1.430042511 -1.323793571  0.000000000  0.575478543 \n",
              "         114          118          120          122          123          125 \n",
              " 0.356111881 -1.124369333  1.074039139  0.000000000 -1.263966300 -0.752000100 \n",
              "         126          128          135          143          144          146 \n",
              "-1.892426436 -2.371044608 -0.964829942  0.196572490 -2.171620370 -0.725520856 \n",
              "         147          149          152          153          155          161 \n",
              "-2.490699152 -1.423505690  3.091932125 -3.627417311  0.000000000 -3.168741562 \n",
              "         167          168          169          171          173          174 \n",
              " 0.000000000 -0.641009311  0.000000000 -1.031194034  1.113923987 -2.251390065 \n",
              "         175          176          178          179          183          189 \n",
              "-0.831769796 -2.131735522  1.975156389 -1.164254180 -1.772771893 -3.009202171 \n",
              "         191          192          195          196          205          212 \n",
              " 1.323593223 -0.725520856  2.214465475  1.656077608 -2.131735522  1.203938680 \n",
              "         213          215          222          225          235          242 \n",
              "-2.291274913  0.000000000 -1.044599637 -0.113842537 -0.924945094  0.000000000 \n",
              "         243          257          260          262          263          271 \n",
              "-1.124369333  0.000000000  0.605665965 -1.533462807 -0.672230405  0.000000000 \n",
              "         273          277          280          288          290          291 \n",
              " 0.964629594 -0.641009311 -0.242160834 -2.291274913  0.276342186  2.932392734 \n",
              "         293          306          311          314          316          319 \n",
              "-1.403563266  1.365087615  3.012162429 -2.530583999  0.116802795  2.732968495 \n",
              "         322          324          328          329          330          331 \n",
              "-2.490699152  1.722441700  1.164053832 -0.082621444  3.331241211  0.000000000 \n",
              "         333          336          342          344          348          349 \n",
              "-0.113842537  0.000000000  3.012162429 -0.964829942  0.000000000 -1.533462807 \n",
              "         350          352          361          362          363          365 \n",
              "-3.088971867  0.000000000 -3.009202171 -1.124369333 -0.641009311  0.000000000 \n",
              "         366          367          368          369          371          374 \n",
              "-2.610353695  1.576307912  0.000000000  0.000000000  0.404660483  0.524315026 \n",
              "         375          377          378          380          381          387 \n",
              " 1.034154292  0.276342186  0.324890787 -2.171620370  2.294235171 -1.453693112 \n",
              "         388          396          400          401          402          407 \n",
              " 1.164053832 -2.291274913  1.483132614 -2.969317324 -2.450814304 -3.447935496 \n",
              "         408          409          413          415          425          426 \n",
              "-0.087363293 -2.251390065  2.653198800 -3.168741562 -2.131735522  0.000000000 \n",
              "         429          431          433          436          438          439 \n",
              " 0.000000000  0.285005940  0.924744746  3.411010906  1.642672005 -1.150848577 \n",
              "         445          451          453          455          456          460 \n",
              " 0.000000000 -1.403563266  0.205236244  0.000000000 -2.570468847  0.000000000 \n",
              "         461          462          464          469          474          475 \n",
              "-0.512691014 -2.769893085 -1.882181439  0.000000000  1.682556852  0.276342186 \n",
              "         477          479          480          484          485          486 \n",
              "-1.323793571 -2.291274913  1.074039139 -1.358936570  0.404660483  0.000000000 \n",
              "         492          495          497          498          502          503 \n",
              "-2.251390065 -2.251390065  1.815616999  0.000000000  0.316227033  0.000000000 \n",
              "         506          508          521          526          528          552 \n",
              " 0.683854417  0.000000000  2.772853343 -3.029144595  0.000000000 -1.044599637 \n",
              "         554          555          556          567          568          570 \n",
              "-2.291274913  0.276342186 -1.071078882 -2.171620370 -0.002851748 -2.690123390 \n",
              "         576          577          580          584          585          588 \n",
              "-2.171620370  1.243823528 -2.690123390 -0.034072842  0.000000000 -0.991309186 \n",
              "         601          603          604          607          614          616 \n",
              " 1.642672005  0.000000000 -3.168741562 -2.610353695  0.000000000  1.642672005 \n",
              "         618          620          627          629          634          639 \n",
              " 0.116802795 -1.004714790 -2.241145068 -2.450814304  0.000000000 -0.481469920 \n",
              "         640          641          646          654          663          664 \n",
              " 0.000000000 -2.211505218 -0.512691014  0.000000000 -0.472806166 -2.849662781 \n",
              "         665          668          670          672          673          675 \n",
              "-2.211505218  0.000000000  0.000000000  0.165351397 -2.759648088  0.000000000 \n",
              "         682          684          686          690          693          694 \n",
              " 0.324890787 -1.972196132 -0.964829942  3.371126058  0.000000000 -2.410929456 \n",
              "         697          704          707          708          713          718 \n",
              "-3.168741562 -2.410929456  0.805090203 -0.273381928 -0.512691014  1.523017462 \n",
              "         719          725          727          733          734          737 \n",
              " 0.000000000  0.324890787  1.403362918  0.000000000 -0.885060246 -0.760663854 \n",
              "         738          741          743          747          749          754 \n",
              " 0.005812006  0.000000000  3.131816972 -2.051965827  0.643969569 -2.331159761 \n",
              "         757          761          766          768          769          772 \n",
              "-2.530583999  0.000000000  1.935271542 -0.062679020  0.000000000 -3.328280953 \n",
              "         773          774          775          776          785          787 \n",
              " 0.326472031  0.000000000  0.446126574 -2.131735522 -2.410929456  0.435881576 \n",
              "         794          795          804          810          812          814 \n",
              " 0.000000000 -2.410929456 -1.430559900  2.653198800 -2.969317324  0.914499749 \n",
              "         820          822          824          826          828          833 \n",
              "-1.812656741 -2.490699152  0.076917947  0.000000000 -0.007593597  0.000000000 \n",
              "         837          844          852          853          856          861 \n",
              "-2.251390065 -2.789835509 -4.365286993  0.794845206  0.435881576 -3.049087019 \n",
              "         862          864          866          870          872          873 \n",
              "-0.805290551  0.000000000  0.924744746 -1.573347655  2.094810932  0.085581701 \n",
              "         875          878          883          890 \n",
              " 1.483132614 -2.171620370  0.276342186  0.364775635 "
            ],
            "text/latex": "\\begin{description*}\n\\item[1] -2.29127491306129\n\\item[4] 2.57342910465721\n\\item[8] -1.49357795927996\n\\item[9] 0.0769179472161867\n\\item[11] 0.994269444064714\n\\item[12] 1.65607760780868\n\\item[14] -2.96931732377542\n\\item[17] -1.49357795927996\n\\item[19] -0.0826214435400789\n\\item[28] 0.643969568959457\n\\item[30] 0\n\\item[36] -0.273381927889071\n\\item[40] 0.59542096717405\n\\item[49] 0\n\\item[51] -1.6930021977253\n\\item[58] -2.55052642304022\n\\item[61] -2.29127491306129\n\\item[64] -1.5733476546581\n\\item[66] 0\n\\item[70] -2.45081430381756\n\\item[72] 0.515651271795917\n\\item[81] -2.29127491306129\n\\item[90] -2.37104460843943\n\\item[93] -0.432921318645336\n\\item[94] -2.45081430381756\n\\item[95] -3.76701427755675\n\\item[97] -1.430042510872\n\\item[100] -1.32379357103902\n\\item[102] 0\n\\item[112] 0.575478543329517\n\\item[114] 0.356111881039652\n\\item[118] -1.12436933259368\n\\item[120] 1.07403913944285\n\\item[122] 0\n\\item[123] -1.26396629950542\n\\item[125] -0.752000100157868\n\\item[126] -1.89242643617063\n\\item[128] -2.37104460843943\n\\item[135] -0.964829941837419\n\\item[143] 0.196572490283386\n\\item[144] -2.17162036999409\n\\item[146] -0.72552085570302\n\\item[147] -2.49069915150662\n\\item[149] -1.42350569026168\n\\item[152] 3.09193212461507\n\\item[153] -3.62741731064502\n\\item[155] 0\n\\item[161] -3.16874156222075\n\\item[167] 0\n\\item[168] -0.641009311187009\n\\item[169] 0\n\\item[171] -1.03119403398133\n\\item[173] 1.11392398713191\n\\item[174] -2.25139006537223\n\\item[175] -0.831769795536001\n\\item[176] -2.13173552230503\n\\item[178] 1.97515638932121\n\\item[179] -1.16425418028275\n\\item[183] -1.77277189310343\n\\item[189] -3.00920217146449\n\\item[191] 1.32359322306193\n\\item[192] -0.72552085570302\n\\item[195] 2.21446547545561\n\\item[196] 1.65607760780868\n\\item[205] -2.13173552230503\n\\item[212] 1.20393867999473\n\\item[213] -2.29127491306129\n\\item[215] 0\n\\item[222] -1.04459963721555\n\\item[225] -0.113842537132805\n\\item[235] -0.924945094148352\n\\item[242] 0\n\\item[243] -1.12436933259368\n\\item[257] 0\n\\item[260] 0.605665964658732\n\\item[262] -1.53346280696903\n\\item[263] -0.672230404779735\n\\item[271] 0\n\\item[273] 0.96462959386033\n\\item[277] -0.641009311187009\n\\item[280] -0.242160834296345\n\\item[288] -2.29127491306129\n\\item[290] 0.276342185661519\n\\item[291] 2.9323927338588\n\\item[293] -1.40356326641715\n\\item[306] 1.36508761517778\n\\item[311] 3.01216242923694\n\\item[314] -2.53058399919569\n\\item[316] 0.116802794905253\n\\item[319] 2.73296849541347\n\\item[322] -2.49069915150662\n\\item[324] 1.72244169995259\n\\item[328] 1.16405383230566\n\\item[329] -0.0826214435400789\n\\item[330] 3.33124121074947\n\\item[331] 0\n\\item[333] -0.113842537132805\n\\item[336] 0\n\\item[342] 3.01216242923694\n\\item[344] -0.964829941837419\n\\item[348] 0\n\\item[349] -1.53346280696903\n\\item[350] -3.08897186684262\n\\item[352] 0\n\\item[361] -3.00920217146449\n\\item[362] -1.12436933259368\n\\item[363] -0.641009311187009\n\\item[365] 0\n\\item[366] -2.61035369457382\n\\item[367] 1.57630791243055\n\\item[368] 0\n\\item[369] 0\n\\item[371] 0.404660482825058\n\\item[374] 0.524315025892258\n\\item[375] 1.03415429175378\n\\item[377] 0.276342185661519\n\\item[378] 0.324890787446925\n\\item[380] -2.17162036999409\n\\item[381] 2.29423517083374\n\\item[387] -1.4536931115909\n\\item[388] 1.16405383230566\n\\item[396] -2.29127491306129\n\\item[400] 1.48313261381819\n\\item[401] -2.96931732377542\n\\item[402] -2.45081430381756\n\\item[407] -3.44793549604422\n\\item[408] -0.0873632926779576\n\\item[409] -2.25139006537223\n\\item[413] 2.65319880003534\n\\item[415] -3.16874156222075\n\\item[425] -2.13173552230503\n\\item[426] 0\n\\item[429] 0\n\\item[431] 0.285005939757859\n\\item[433] 0.924744746171264\n\\item[436] 3.4110109061276\n\\item[438] 1.64267200457446\n\\item[439] -1.15084857704853\n\\item[445] 0\n\\item[451] -1.40356326641715\n\\item[453] 0.205236244379726\n\\item[455] 0\n\\item[456] -2.57046884688476\n\\item[460] 0\n\\item[461] -0.512691014023469\n\\item[462] -2.76989308533009\n\\item[464] -1.88218143868595\n\\item[469] 0\n\\item[474] 1.68255685226353\n\\item[475] 0.276342185661519\n\\item[477] -1.32379357103902\n\\item[479] -2.29127491306129\n\\item[480] 1.07403913944285\n\\item[484] -1.3589365695902\n\\item[485] 0.404660482825058\n\\item[486] 0\n\\item[492] -2.25139006537223\n\\item[495] -2.25139006537223\n\\item[497] 1.81561699856494\n\\item[498] 0\n\\item[502] 0.316227033350585\n\\item[503] 0\n\\item[506] 0.683854416648523\n\\item[508] 0\n\\item[521] 2.77285334310254\n\\item[526] -3.02914459530902\n\\item[528] 0\n\\item[552] -1.04459963721555\n\\item[554] -2.29127491306129\n\\item[555] 0.276342185661519\n\\item[556] -1.0710788816704\n\\item[567] -2.17162036999409\n\\item[568] -0.00285174816194589\n\\item[570] -2.69012338995196\n\\item[576] -2.17162036999409\n\\item[577] 1.2438235276838\n\\item[580] -2.69012338995196\n\\item[584] -0.0340728417546723\n\\item[585] 0\n\\item[588] -0.991309186292266\n\\item[601] 1.64267200457446\n\\item[603] 0\n\\item[604] -3.16874156222075\n\\item[607] -2.61035369457382\n\\item[614] 0\n\\item[616] 1.64267200457446\n\\item[618] 0.116802794905253\n\\item[620] -1.00471478952649\n\\item[627] -2.24114506788754\n\\item[629] -2.45081430381756\n\\item[634] 0\n\\item[639] -0.481469920430743\n\\item[640] 0\n\\item[641] -2.21150521768316\n\\item[646] -0.512691014023469\n\\item[654] 0\n\\item[663] -0.472806166334403\n\\item[664] -2.84966278070822\n\\item[665] -2.21150521768316\n\\item[668] 0\n\\item[670] 0\n\\item[672] 0.16535139669066\n\\item[673] -2.75964808784541\n\\item[675] 0\n\\item[682] 0.324890787446925\n\\item[684] -1.97219613154876\n\\item[686] -0.964829941837419\n\\item[690] 3.37112605843853\n\\item[693] 0\n\\item[694] -2.41092945612849\n\\item[697] -3.16874156222075\n\\item[704] -2.41092945612849\n\\item[707] 0.805090203104065\n\\item[708] -0.273381927889071\n\\item[713] -0.512691014023469\n\\item[718] 1.52301746150726\n\\item[719] 0\n\\item[725] 0.324890787446925\n\\item[727] 1.40336291844006\n\\item[733] 0\n\\item[734] -0.885060246459286\n\\item[737] -0.760663854254208\n\\item[738] 0.00581200593439402\n\\item[741] 0\n\\item[743] 3.13181697230414\n\\item[747] -2.05196582692689\n\\item[749] 0.643969568959457\n\\item[754] -2.33115976075036\n\\item[757] -2.53058399919569\n\\item[761] 0\n\\item[766] 1.93527154163214\n\\item[768] -0.0626790196955456\n\\item[769] 0\n\\item[772] -3.32828095297702\n\\item[773] 0.326472030835268\n\\item[774] 0\n\\item[775] 0.446126573902466\n\\item[776] -2.13173552230503\n\\item[785] -2.41092945612849\n\\item[787] 0.435881576417785\n\\item[794] 0\n\\item[795] -2.41092945612849\n\\item[804] -1.43055989993124\n\\item[810] 2.65319880003534\n\\item[812] -2.96931732377542\n\\item[814] 0.914499748686582\n\\item[820] -1.8126567407925\n\\item[822] -2.49069915150662\n\\item[824] 0.0769179472161867\n\\item[826] 0\n\\item[828] -0.00759359729982478\n\\item[833] 0\n\\item[837] -2.25139006537223\n\\item[844] -2.78983550917462\n\\item[852] -4.36528699289275\n\\item[853] 0.794845205619382\n\\item[856] 0.435881576417785\n\\item[861] -3.04908701915355\n\\item[862] -0.805290551081153\n\\item[864] 0\n\\item[866] 0.924744746171264\n\\item[870] -1.5733476546581\n\\item[872] 2.09481093238841\n\\item[873] 0.0855817013125271\n\\item[875] 1.48313261381819\n\\item[878] -2.17162036999409\n\\item[883] 0.276342185661519\n\\item[890] 0.364775635135992\n\\end{description*}\n",
            "text/markdown": "1\n:   -2.291274913061294\n:   2.573429104657218\n:   -1.493577959279969\n:   0.076917947216186711\n:   0.99426944406471412\n:   1.6560776078086814\n:   -2.9693173237754217\n:   -1.4935779592799619\n:   -0.082621443540078928\n:   0.64396956895945730\n:   036\n:   -0.27338192788907140\n:   0.5954209671740549\n:   051\n:   -1.693002197725358\n:   -2.5505264230402261\n:   -2.2912749130612964\n:   -1.573347654658166\n:   070\n:   -2.4508143038175672\n:   0.51565127179591781\n:   -2.2912749130612990\n:   -2.3710446084394393\n:   -0.43292131864533694\n:   -2.4508143038175695\n:   -3.7670142775567597\n:   -1.430042510872100\n:   -1.32379357103902102\n:   0112\n:   0.575478543329517114\n:   0.356111881039652118\n:   -1.12436933259368120\n:   1.07403913944285122\n:   0123\n:   -1.26396629950542125\n:   -0.752000100157868126\n:   -1.89242643617063128\n:   -2.37104460843943135\n:   -0.964829941837419143\n:   0.196572490283386144\n:   -2.17162036999409146\n:   -0.72552085570302147\n:   -2.49069915150662149\n:   -1.42350569026168152\n:   3.09193212461507153\n:   -3.62741731064502155\n:   0161\n:   -3.16874156222075167\n:   0168\n:   -0.641009311187009169\n:   0171\n:   -1.03119403398133173\n:   1.11392398713191174\n:   -2.25139006537223175\n:   -0.831769795536001176\n:   -2.13173552230503178\n:   1.97515638932121179\n:   -1.16425418028275183\n:   -1.77277189310343189\n:   -3.00920217146449191\n:   1.32359322306193192\n:   -0.72552085570302195\n:   2.21446547545561196\n:   1.65607760780868205\n:   -2.13173552230503212\n:   1.20393867999473213\n:   -2.29127491306129215\n:   0222\n:   -1.04459963721555225\n:   -0.113842537132805235\n:   -0.924945094148352242\n:   0243\n:   -1.12436933259368257\n:   0260\n:   0.605665964658732262\n:   -1.53346280696903263\n:   -0.672230404779735271\n:   0273\n:   0.96462959386033277\n:   -0.641009311187009280\n:   -0.242160834296345288\n:   -2.29127491306129290\n:   0.276342185661519291\n:   2.9323927338588293\n:   -1.40356326641715306\n:   1.36508761517778311\n:   3.01216242923694314\n:   -2.53058399919569316\n:   0.116802794905253319\n:   2.73296849541347322\n:   -2.49069915150662324\n:   1.72244169995259328\n:   1.16405383230566329\n:   -0.0826214435400789330\n:   3.33124121074947331\n:   0333\n:   -0.113842537132805336\n:   0342\n:   3.01216242923694344\n:   -0.964829941837419348\n:   0349\n:   -1.53346280696903350\n:   -3.08897186684262352\n:   0361\n:   -3.00920217146449362\n:   -1.12436933259368363\n:   -0.641009311187009365\n:   0366\n:   -2.61035369457382367\n:   1.57630791243055368\n:   0369\n:   0371\n:   0.404660482825058374\n:   0.524315025892258375\n:   1.03415429175378377\n:   0.276342185661519378\n:   0.324890787446925380\n:   -2.17162036999409381\n:   2.29423517083374387\n:   -1.4536931115909388\n:   1.16405383230566396\n:   -2.29127491306129400\n:   1.48313261381819401\n:   -2.96931732377542402\n:   -2.45081430381756407\n:   -3.44793549604422408\n:   -0.0873632926779576409\n:   -2.25139006537223413\n:   2.65319880003534415\n:   -3.16874156222075425\n:   -2.13173552230503426\n:   0429\n:   0431\n:   0.285005939757859433\n:   0.924744746171264436\n:   3.4110109061276438\n:   1.64267200457446439\n:   -1.15084857704853445\n:   0451\n:   -1.40356326641715453\n:   0.205236244379726455\n:   0456\n:   -2.57046884688476460\n:   0461\n:   -0.512691014023469462\n:   -2.76989308533009464\n:   -1.88218143868595469\n:   0474\n:   1.68255685226353475\n:   0.276342185661519477\n:   -1.32379357103902479\n:   -2.29127491306129480\n:   1.07403913944285484\n:   -1.3589365695902485\n:   0.404660482825058486\n:   0492\n:   -2.25139006537223495\n:   -2.25139006537223497\n:   1.81561699856494498\n:   0502\n:   0.316227033350585503\n:   0506\n:   0.683854416648523508\n:   0521\n:   2.77285334310254526\n:   -3.02914459530902528\n:   0552\n:   -1.04459963721555554\n:   -2.29127491306129555\n:   0.276342185661519556\n:   -1.0710788816704567\n:   -2.17162036999409568\n:   -0.00285174816194589570\n:   -2.69012338995196576\n:   -2.17162036999409577\n:   1.2438235276838580\n:   -2.69012338995196584\n:   -0.0340728417546723585\n:   0588\n:   -0.991309186292266601\n:   1.64267200457446603\n:   0604\n:   -3.16874156222075607\n:   -2.61035369457382614\n:   0616\n:   1.64267200457446618\n:   0.116802794905253620\n:   -1.00471478952649627\n:   -2.24114506788754629\n:   -2.45081430381756634\n:   0639\n:   -0.481469920430743640\n:   0641\n:   -2.21150521768316646\n:   -0.512691014023469654\n:   0663\n:   -0.472806166334403664\n:   -2.84966278070822665\n:   -2.21150521768316668\n:   0670\n:   0672\n:   0.16535139669066673\n:   -2.75964808784541675\n:   0682\n:   0.324890787446925684\n:   -1.97219613154876686\n:   -0.964829941837419690\n:   3.37112605843853693\n:   0694\n:   -2.41092945612849697\n:   -3.16874156222075704\n:   -2.41092945612849707\n:   0.805090203104065708\n:   -0.273381927889071713\n:   -0.512691014023469718\n:   1.52301746150726719\n:   0725\n:   0.324890787446925727\n:   1.40336291844006733\n:   0734\n:   -0.885060246459286737\n:   -0.760663854254208738\n:   0.00581200593439402741\n:   0743\n:   3.13181697230414747\n:   -2.05196582692689749\n:   0.643969568959457754\n:   -2.33115976075036757\n:   -2.53058399919569761\n:   0766\n:   1.93527154163214768\n:   -0.0626790196955456769\n:   0772\n:   -3.32828095297702773\n:   0.326472030835268774\n:   0775\n:   0.446126573902466776\n:   -2.13173552230503785\n:   -2.41092945612849787\n:   0.435881576417785794\n:   0795\n:   -2.41092945612849804\n:   -1.43055989993124810\n:   2.65319880003534812\n:   -2.96931732377542814\n:   0.914499748686582820\n:   -1.8126567407925822\n:   -2.49069915150662824\n:   0.0769179472161867826\n:   0828\n:   -0.00759359729982478833\n:   0837\n:   -2.25139006537223844\n:   -2.78983550917462852\n:   -4.36528699289275853\n:   0.794845205619382856\n:   0.435881576417785861\n:   -3.04908701915355862\n:   -0.805290551081153864\n:   0866\n:   0.924744746171264870\n:   -1.5733476546581872\n:   2.09481093238841873\n:   0.0855817013125271875\n:   1.48313261381819878\n:   -2.17162036999409883\n:   0.276342185661519890\n:   0.364775635135992\n\n",
            "text/html": [
              "<style>\n",
              ".dl-inline {width: auto; margin:0; padding: 0}\n",
              ".dl-inline>dt, .dl-inline>dd {float: none; width: auto; display: inline-block}\n",
              ".dl-inline>dt::after {content: \":\\0020\"; padding-right: .5ex}\n",
              ".dl-inline>dt:not(:first-of-type) {padding-left: .5ex}\n",
              "</style><dl class=dl-inline><dt>1</dt><dd>-2.29127491306129</dd><dt>4</dt><dd>2.57342910465721</dd><dt>8</dt><dd>-1.49357795927996</dd><dt>9</dt><dd>0.0769179472161867</dd><dt>11</dt><dd>0.994269444064714</dd><dt>12</dt><dd>1.65607760780868</dd><dt>14</dt><dd>-2.96931732377542</dd><dt>17</dt><dd>-1.49357795927996</dd><dt>19</dt><dd>-0.0826214435400789</dd><dt>28</dt><dd>0.643969568959457</dd><dt>30</dt><dd>0</dd><dt>36</dt><dd>-0.273381927889071</dd><dt>40</dt><dd>0.59542096717405</dd><dt>49</dt><dd>0</dd><dt>51</dt><dd>-1.6930021977253</dd><dt>58</dt><dd>-2.55052642304022</dd><dt>61</dt><dd>-2.29127491306129</dd><dt>64</dt><dd>-1.5733476546581</dd><dt>66</dt><dd>0</dd><dt>70</dt><dd>-2.45081430381756</dd><dt>72</dt><dd>0.515651271795917</dd><dt>81</dt><dd>-2.29127491306129</dd><dt>90</dt><dd>-2.37104460843943</dd><dt>93</dt><dd>-0.432921318645336</dd><dt>94</dt><dd>-2.45081430381756</dd><dt>95</dt><dd>-3.76701427755675</dd><dt>97</dt><dd>-1.430042510872</dd><dt>100</dt><dd>-1.32379357103902</dd><dt>102</dt><dd>0</dd><dt>112</dt><dd>0.575478543329517</dd><dt>114</dt><dd>0.356111881039652</dd><dt>118</dt><dd>-1.12436933259368</dd><dt>120</dt><dd>1.07403913944285</dd><dt>122</dt><dd>0</dd><dt>123</dt><dd>-1.26396629950542</dd><dt>125</dt><dd>-0.752000100157868</dd><dt>126</dt><dd>-1.89242643617063</dd><dt>128</dt><dd>-2.37104460843943</dd><dt>135</dt><dd>-0.964829941837419</dd><dt>143</dt><dd>0.196572490283386</dd><dt>144</dt><dd>-2.17162036999409</dd><dt>146</dt><dd>-0.72552085570302</dd><dt>147</dt><dd>-2.49069915150662</dd><dt>149</dt><dd>-1.42350569026168</dd><dt>152</dt><dd>3.09193212461507</dd><dt>153</dt><dd>-3.62741731064502</dd><dt>155</dt><dd>0</dd><dt>161</dt><dd>-3.16874156222075</dd><dt>167</dt><dd>0</dd><dt>168</dt><dd>-0.641009311187009</dd><dt>169</dt><dd>0</dd><dt>171</dt><dd>-1.03119403398133</dd><dt>173</dt><dd>1.11392398713191</dd><dt>174</dt><dd>-2.25139006537223</dd><dt>175</dt><dd>-0.831769795536001</dd><dt>176</dt><dd>-2.13173552230503</dd><dt>178</dt><dd>1.97515638932121</dd><dt>179</dt><dd>-1.16425418028275</dd><dt>183</dt><dd>-1.77277189310343</dd><dt>189</dt><dd>-3.00920217146449</dd><dt>191</dt><dd>1.32359322306193</dd><dt>192</dt><dd>-0.72552085570302</dd><dt>195</dt><dd>2.21446547545561</dd><dt>196</dt><dd>1.65607760780868</dd><dt>205</dt><dd>-2.13173552230503</dd><dt>212</dt><dd>1.20393867999473</dd><dt>213</dt><dd>-2.29127491306129</dd><dt>215</dt><dd>0</dd><dt>222</dt><dd>-1.04459963721555</dd><dt>225</dt><dd>-0.113842537132805</dd><dt>235</dt><dd>-0.924945094148352</dd><dt>242</dt><dd>0</dd><dt>243</dt><dd>-1.12436933259368</dd><dt>257</dt><dd>0</dd><dt>260</dt><dd>0.605665964658732</dd><dt>262</dt><dd>-1.53346280696903</dd><dt>263</dt><dd>-0.672230404779735</dd><dt>271</dt><dd>0</dd><dt>273</dt><dd>0.96462959386033</dd><dt>277</dt><dd>-0.641009311187009</dd><dt>280</dt><dd>-0.242160834296345</dd><dt>288</dt><dd>-2.29127491306129</dd><dt>290</dt><dd>0.276342185661519</dd><dt>291</dt><dd>2.9323927338588</dd><dt>293</dt><dd>-1.40356326641715</dd><dt>306</dt><dd>1.36508761517778</dd><dt>311</dt><dd>3.01216242923694</dd><dt>314</dt><dd>-2.53058399919569</dd><dt>316</dt><dd>0.116802794905253</dd><dt>319</dt><dd>2.73296849541347</dd><dt>322</dt><dd>-2.49069915150662</dd><dt>324</dt><dd>1.72244169995259</dd><dt>328</dt><dd>1.16405383230566</dd><dt>329</dt><dd>-0.0826214435400789</dd><dt>330</dt><dd>3.33124121074947</dd><dt>331</dt><dd>0</dd><dt>333</dt><dd>-0.113842537132805</dd><dt>336</dt><dd>0</dd><dt>342</dt><dd>3.01216242923694</dd><dt>344</dt><dd>-0.964829941837419</dd><dt>348</dt><dd>0</dd><dt>349</dt><dd>-1.53346280696903</dd><dt>350</dt><dd>-3.08897186684262</dd><dt>352</dt><dd>0</dd><dt>361</dt><dd>-3.00920217146449</dd><dt>362</dt><dd>-1.12436933259368</dd><dt>363</dt><dd>-0.641009311187009</dd><dt>365</dt><dd>0</dd><dt>366</dt><dd>-2.61035369457382</dd><dt>367</dt><dd>1.57630791243055</dd><dt>368</dt><dd>0</dd><dt>369</dt><dd>0</dd><dt>371</dt><dd>0.404660482825058</dd><dt>374</dt><dd>0.524315025892258</dd><dt>375</dt><dd>1.03415429175378</dd><dt>377</dt><dd>0.276342185661519</dd><dt>378</dt><dd>0.324890787446925</dd><dt>380</dt><dd>-2.17162036999409</dd><dt>381</dt><dd>2.29423517083374</dd><dt>387</dt><dd>-1.4536931115909</dd><dt>388</dt><dd>1.16405383230566</dd><dt>396</dt><dd>-2.29127491306129</dd><dt>400</dt><dd>1.48313261381819</dd><dt>401</dt><dd>-2.96931732377542</dd><dt>402</dt><dd>-2.45081430381756</dd><dt>407</dt><dd>-3.44793549604422</dd><dt>408</dt><dd>-0.0873632926779576</dd><dt>409</dt><dd>-2.25139006537223</dd><dt>413</dt><dd>2.65319880003534</dd><dt>415</dt><dd>-3.16874156222075</dd><dt>425</dt><dd>-2.13173552230503</dd><dt>426</dt><dd>0</dd><dt>429</dt><dd>0</dd><dt>431</dt><dd>0.285005939757859</dd><dt>433</dt><dd>0.924744746171264</dd><dt>436</dt><dd>3.4110109061276</dd><dt>438</dt><dd>1.64267200457446</dd><dt>439</dt><dd>-1.15084857704853</dd><dt>445</dt><dd>0</dd><dt>451</dt><dd>-1.40356326641715</dd><dt>453</dt><dd>0.205236244379726</dd><dt>455</dt><dd>0</dd><dt>456</dt><dd>-2.57046884688476</dd><dt>460</dt><dd>0</dd><dt>461</dt><dd>-0.512691014023469</dd><dt>462</dt><dd>-2.76989308533009</dd><dt>464</dt><dd>-1.88218143868595</dd><dt>469</dt><dd>0</dd><dt>474</dt><dd>1.68255685226353</dd><dt>475</dt><dd>0.276342185661519</dd><dt>477</dt><dd>-1.32379357103902</dd><dt>479</dt><dd>-2.29127491306129</dd><dt>480</dt><dd>1.07403913944285</dd><dt>484</dt><dd>-1.3589365695902</dd><dt>485</dt><dd>0.404660482825058</dd><dt>486</dt><dd>0</dd><dt>492</dt><dd>-2.25139006537223</dd><dt>495</dt><dd>-2.25139006537223</dd><dt>497</dt><dd>1.81561699856494</dd><dt>498</dt><dd>0</dd><dt>502</dt><dd>0.316227033350585</dd><dt>503</dt><dd>0</dd><dt>506</dt><dd>0.683854416648523</dd><dt>508</dt><dd>0</dd><dt>521</dt><dd>2.77285334310254</dd><dt>526</dt><dd>-3.02914459530902</dd><dt>528</dt><dd>0</dd><dt>552</dt><dd>-1.04459963721555</dd><dt>554</dt><dd>-2.29127491306129</dd><dt>555</dt><dd>0.276342185661519</dd><dt>556</dt><dd>-1.0710788816704</dd><dt>567</dt><dd>-2.17162036999409</dd><dt>568</dt><dd>-0.00285174816194589</dd><dt>570</dt><dd>-2.69012338995196</dd><dt>576</dt><dd>-2.17162036999409</dd><dt>577</dt><dd>1.2438235276838</dd><dt>580</dt><dd>-2.69012338995196</dd><dt>584</dt><dd>-0.0340728417546723</dd><dt>585</dt><dd>0</dd><dt>588</dt><dd>-0.991309186292266</dd><dt>601</dt><dd>1.64267200457446</dd><dt>603</dt><dd>0</dd><dt>604</dt><dd>-3.16874156222075</dd><dt>607</dt><dd>-2.61035369457382</dd><dt>614</dt><dd>0</dd><dt>616</dt><dd>1.64267200457446</dd><dt>618</dt><dd>0.116802794905253</dd><dt>620</dt><dd>-1.00471478952649</dd><dt>627</dt><dd>-2.24114506788754</dd><dt>629</dt><dd>-2.45081430381756</dd><dt>634</dt><dd>0</dd><dt>639</dt><dd>-0.481469920430743</dd><dt>640</dt><dd>0</dd><dt>641</dt><dd>-2.21150521768316</dd><dt>646</dt><dd>-0.512691014023469</dd><dt>654</dt><dd>0</dd><dt>663</dt><dd>-0.472806166334403</dd><dt>664</dt><dd>-2.84966278070822</dd><dt>665</dt><dd>-2.21150521768316</dd><dt>668</dt><dd>0</dd><dt>670</dt><dd>0</dd><dt>672</dt><dd>0.16535139669066</dd><dt>673</dt><dd>-2.75964808784541</dd><dt>675</dt><dd>0</dd><dt>682</dt><dd>0.324890787446925</dd><dt>684</dt><dd>-1.97219613154876</dd><dt>686</dt><dd>-0.964829941837419</dd><dt>690</dt><dd>3.37112605843853</dd><dt>693</dt><dd>0</dd><dt>694</dt><dd>-2.41092945612849</dd><dt>697</dt><dd>-3.16874156222075</dd><dt>704</dt><dd>-2.41092945612849</dd><dt>707</dt><dd>0.805090203104065</dd><dt>708</dt><dd>-0.273381927889071</dd><dt>713</dt><dd>-0.512691014023469</dd><dt>718</dt><dd>1.52301746150726</dd><dt>719</dt><dd>0</dd><dt>725</dt><dd>0.324890787446925</dd><dt>727</dt><dd>1.40336291844006</dd><dt>733</dt><dd>0</dd><dt>734</dt><dd>-0.885060246459286</dd><dt>737</dt><dd>-0.760663854254208</dd><dt>738</dt><dd>0.00581200593439402</dd><dt>741</dt><dd>0</dd><dt>743</dt><dd>3.13181697230414</dd><dt>747</dt><dd>-2.05196582692689</dd><dt>749</dt><dd>0.643969568959457</dd><dt>754</dt><dd>-2.33115976075036</dd><dt>757</dt><dd>-2.53058399919569</dd><dt>761</dt><dd>0</dd><dt>766</dt><dd>1.93527154163214</dd><dt>768</dt><dd>-0.0626790196955456</dd><dt>769</dt><dd>0</dd><dt>772</dt><dd>-3.32828095297702</dd><dt>773</dt><dd>0.326472030835268</dd><dt>774</dt><dd>0</dd><dt>775</dt><dd>0.446126573902466</dd><dt>776</dt><dd>-2.13173552230503</dd><dt>785</dt><dd>-2.41092945612849</dd><dt>787</dt><dd>0.435881576417785</dd><dt>794</dt><dd>0</dd><dt>795</dt><dd>-2.41092945612849</dd><dt>804</dt><dd>-1.43055989993124</dd><dt>810</dt><dd>2.65319880003534</dd><dt>812</dt><dd>-2.96931732377542</dd><dt>814</dt><dd>0.914499748686582</dd><dt>820</dt><dd>-1.8126567407925</dd><dt>822</dt><dd>-2.49069915150662</dd><dt>824</dt><dd>0.0769179472161867</dd><dt>826</dt><dd>0</dd><dt>828</dt><dd>-0.00759359729982478</dd><dt>833</dt><dd>0</dd><dt>837</dt><dd>-2.25139006537223</dd><dt>844</dt><dd>-2.78983550917462</dd><dt>852</dt><dd>-4.36528699289275</dd><dt>853</dt><dd>0.794845205619382</dd><dt>856</dt><dd>0.435881576417785</dd><dt>861</dt><dd>-3.04908701915355</dd><dt>862</dt><dd>-0.805290551081153</dd><dt>864</dt><dd>0</dd><dt>866</dt><dd>0.924744746171264</dd><dt>870</dt><dd>-1.5733476546581</dd><dt>872</dt><dd>2.09481093238841</dd><dt>873</dt><dd>0.0855817013125271</dd><dt>875</dt><dd>1.48313261381819</dd><dt>878</dt><dd>-2.17162036999409</dd><dt>883</dt><dd>0.276342185661519</dd><dt>890</dt><dd>0.364775635135992</dd></dl>\n"
            ]
          },
          "metadata": {
            "tags": []
          }
        }
      ]
    },
    {
      "cell_type": "code",
      "metadata": {
        "id": "Zij3COFf0Au4",
        "outputId": "3d074c9a-b55d-4ff0-eb1f-ad73cc2bc88f",
        "colab": {
          "base_uri": "https://localhost:8080/",
          "height": 454
        }
      },
      "source": [
        "prediccionesROC=prediction(c(predicciones),c(datos.prueba[,'Survived']))\n",
        "as.numeric(performance(prediccionesROC, \"auc\")@y.values)\n",
        "plot(performance(prediccionesROC, \"tpr\", \"fpr\"),\n",
        "colorize = T,\n",
        "print.cutoffs.at=seq(0,1,by=0.1),\n",
        "text.adj=c(-0.2,1.7),\n",
        "main = 'Curva ROC del modelo')"
      ],
      "execution_count": 62,
      "outputs": [
        {
          "output_type": "display_data",
          "data": {
            "text/plain": [
              "[1] 0.7873786"
            ],
            "text/latex": "0.787378640776699",
            "text/markdown": "0.787378640776699",
            "text/html": [
              "0.787378640776699"
            ]
          },
          "metadata": {
            "tags": []
          }
        },
        {
          "output_type": "display_data",
          "data": {
            "image/png": "[encoded data removed]",
            "text/plain": [
              "Plot with title “Curva ROC del modelo”"
            ]
          },
          "metadata": {
            "tags": [],
            "image/png": {
              "width": 420,
              "height": 420
            }
          }
        }
      ]
    },
    {
      "cell_type": "markdown",
      "metadata": {
        "id": "LXjahAqu0Au7"
      },
      "source": [
        "## Resultados\n",
        "\n",
        "En general, los resultados del modelo son considerablemente buenos, pero tambien representa que alrededor del 18% del error puede provocar graves problemas por que, se le estaria aceverando a las familias que existe la posibilidad que su pariente este vivo cuando hay un 18% DE probabilidad de que este muerto."
      ]
    },
    {
      "cell_type": "code",
      "metadata": {
        "id": "HjF5XuIB0Au7"
      },
      "source": [
        ""
      ],
      "execution_count": null,
      "outputs": []
    }
  ]
}