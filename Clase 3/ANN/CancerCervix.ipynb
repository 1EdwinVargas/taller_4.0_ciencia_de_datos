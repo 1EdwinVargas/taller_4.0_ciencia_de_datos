{
 "cells": [
  {
   "cell_type": "markdown",
   "metadata": {},
   "source": [
    "# Clasificar el cancer de cervix\n",
    "\n",
    "Las redes neuronales artificiales (también conocidas como sistemas conexionistas) son un modelo computacional vagamente inspirado en el comportamiento observado en su homólogo biológico1.\n",
    "Consiste en un conjunto de unidades, llamadas neuronas artificiales, conectadas entre sí para transmitirse señales. La información de entrada atraviesa la red neuronal (donde se somete a diversas operaciones) produciendo unos valores de salida.\n",
    "\n",
    "- Red Neuronal\n",
    "\n",
    "### Autores\n",
    "   * Efrén Jiménez"
   ]
  },
  {
   "cell_type": "markdown",
   "metadata": {},
   "source": [
    "## Análisis del Problema\n",
    "\n",
    "Cada año se diagnostican alrededor de 11,000 nuevos casos de cáncer de cuello uterino invasivo en los EE. UU. Sin embargo, la cantidad de nuevos casos de cáncer de cuello uterino ha disminuido de manera constante durante las últimas décadas. Aunque es el tipo de cáncer más prevenible, cada año el cáncer de cuello uterino mata a unas 4.000 mujeres en los EE. UU. Y a unas 300.000 en todo el mundo. En los Estados Unidos, las tasas de mortalidad por cáncer de cuello uterino se redujeron en un 74% entre 1955 y 1992 gracias al aumento de las pruebas de detección y la detección temprana con la prueba de Papanicolaou. EDAD El cincuenta por ciento de los diagnósticos de cáncer de cuello uterino ocurren en mujeres de 35 a 54 años, y aproximadamente el 20% ocurre en mujeres mayores de 65 años. La edad media de diagnóstico es de 48 años. Aproximadamente el 15% de las mujeres desarrollan cáncer de cuello uterino entre los 20 y los 30 años. El cáncer de cuello uterino es extremadamente raro en mujeres menores de 20 años. Sin embargo, muchas mujeres jóvenes se infectan con múltiples tipos de virus del papiloma humano, que luego pueden aumentar su riesgo de contraer cáncer de cuello uterino en el futuro.\n",
    "\n",
    "![blackbell](https://storage.googleapis.com/kaggle-datasets-images/2013/3443/e615ebc200d4a49470d46fc3ca934e54/dataset-cover.jpg)"
   ]
  },
  {
   "cell_type": "markdown",
   "metadata": {},
   "source": [
    "### Librerías"
   ]
  },
  {
   "cell_type": "code",
   "execution_count": 189,
   "metadata": {},
   "outputs": [
    {
     "name": "stdout",
     "output_type": "stream",
     "text": [
      "Requirement already satisfied: numpy in c:\\users\\efren\\appdata\\local\\programs\\python\\python38\\lib\\site-packages (1.18.5)\n",
      "Requirement already satisfied: pandas in c:\\users\\efren\\appdata\\local\\programs\\python\\python38\\lib\\site-packages (1.1.2)\n",
      "Requirement already satisfied: numpy>=1.15.4 in c:\\users\\efren\\appdata\\local\\programs\\python\\python38\\lib\\site-packages (from pandas) (1.18.5)\n",
      "Requirement already satisfied: python-dateutil>=2.7.3 in c:\\users\\efren\\appdata\\local\\programs\\python\\python38\\lib\\site-packages (from pandas) (2.8.1)\n",
      "Requirement already satisfied: pytz>=2017.2 in c:\\users\\efren\\appdata\\local\\programs\\python\\python38\\lib\\site-packages (from pandas) (2020.1)\n",
      "Requirement already satisfied: six>=1.5 in c:\\users\\efren\\appdata\\local\\programs\\python\\python38\\lib\\site-packages (from python-dateutil>=2.7.3->pandas) (1.15.0)\n"
     ]
    }
   ],
   "source": [
    "!pip install numpy\n",
    "!pip install pandas"
   ]
  },
  {
   "cell_type": "code",
   "execution_count": 125,
   "metadata": {},
   "outputs": [],
   "source": [
    "import warnings\n",
    "warnings.filterwarnings('ignore')\n",
    "#imports\n",
    "#numpy,pandas,scipy, math, matplotlib\n",
    "import numpy as np\n",
    "import pandas as pd\n",
    "import scipy\n",
    "from math import sqrt\n",
    "import matplotlib.pyplot as plt\n",
    "import seaborn as sns\n",
    "\n",
    "#estimators\n",
    "\n",
    "\n",
    "#model metrics\n",
    "from sklearn.metrics import mean_squared_error\n",
    "from sklearn.metrics import r2_score\n",
    "from sklearn.model_selection import cross_val_score\n",
    "from sklearn.metrics import recall_score\n",
    "from sklearn.metrics import precision_score\n",
    "from sklearn import metrics\n",
    "\n",
    "#cross validation\n",
    "from sklearn.model_selection import train_test_split\n",
    "from sklearn.preprocessing import RobustScaler\n",
    "import missingno as msno \n",
    "from sklearn.metrics import confusion_matrix\n",
    "from sklearn.metrics import roc_curve\n",
    "from sklearn.metrics import roc_auc_score\n",
    "\n",
    "import snips as snp"
   ]
  },
  {
   "cell_type": "markdown",
   "metadata": {},
   "source": [
    "## Entendimiento de los Datos"
   ]
  },
  {
   "cell_type": "markdown",
   "metadata": {},
   "source": [
    "El total es de 858 registro con 36 columnas dentro del set de datos de entrenamiento\n",
    "\n",
    "'Age', 'Number of sexual partners', 'First sexual intercourse',\n",
    "       'Num of pregnancies', 'Smokes', 'Smokes (years)', 'Smokes (packs/year)',\n",
    "       'Hormonal Contraceptives', 'Hormonal Contraceptives (years)', 'IUD',\n",
    "       'IUD (years)', 'STDs', 'STDs (number)', 'STDs:condylomatosis',\n",
    "       'STDs:cervical condylomatosis', 'STDs:vaginal condylomatosis',\n",
    "       'STDs:vulvo-perineal condylomatosis', 'STDs:syphilis',\n",
    "       'STDs:pelvic inflammatory disease', 'STDs:genital herpes',\n",
    "       'STDs:molluscum contagiosum', 'STDs:AIDS', 'STDs:HIV',\n",
    "       'STDs:Hepatitis B', 'STDs:HPV', 'STDs: Number of diagnosis',\n",
    "       'STDs: Time since first diagnosis', 'STDs: Time since last diagnosis',\n",
    "       'Dx:Cancer', 'Dx:CIN', 'Dx:HPV', 'Dx', 'Hinselmann', 'Schiller',\n",
    "       'Citology', 'Biopsy'"
   ]
  },
  {
   "cell_type": "code",
   "execution_count": 32,
   "metadata": {},
   "outputs": [],
   "source": [
    "#Cargar los datos\n",
    "kag_risk_factors_cervical_cancer = pd.read_csv(r\"data/kag_risk_factors_cervical_cancer.csv\",na_values='?')"
   ]
  },
  {
   "cell_type": "code",
   "execution_count": 33,
   "metadata": {},
   "outputs": [
    {
     "data": {
      "text/plain": [
       "Index(['Age', 'Number of sexual partners', 'First sexual intercourse',\n",
       "       'Num of pregnancies', 'Smokes', 'Smokes (years)', 'Smokes (packs/year)',\n",
       "       'Hormonal Contraceptives', 'Hormonal Contraceptives (years)', 'IUD',\n",
       "       'IUD (years)', 'STDs', 'STDs (number)', 'STDs:condylomatosis',\n",
       "       'STDs:cervical condylomatosis', 'STDs:vaginal condylomatosis',\n",
       "       'STDs:vulvo-perineal condylomatosis', 'STDs:syphilis',\n",
       "       'STDs:pelvic inflammatory disease', 'STDs:genital herpes',\n",
       "       'STDs:molluscum contagiosum', 'STDs:AIDS', 'STDs:HIV',\n",
       "       'STDs:Hepatitis B', 'STDs:HPV', 'STDs: Number of diagnosis',\n",
       "       'STDs: Time since first diagnosis', 'STDs: Time since last diagnosis',\n",
       "       'Dx:Cancer', 'Dx:CIN', 'Dx:HPV', 'Dx', 'Hinselmann', 'Schiller',\n",
       "       'Citology', 'Biopsy'],\n",
       "      dtype='object')"
      ]
     },
     "execution_count": 33,
     "metadata": {},
     "output_type": "execute_result"
    }
   ],
   "source": [
    "kag_risk_factors_cervical_cancer.columns"
   ]
  },
  {
   "cell_type": "code",
   "execution_count": 34,
   "metadata": {},
   "outputs": [],
   "source": [
    "kag_risk_factors_cervical_cancer=kag_risk_factors_cervical_cancer.drop(\n",
    "    columns=[\"Number of sexual partners\",\n",
    "             \"STDs: Time since first diagnosis\",\n",
    "             \"STDs: Number of diagnosis\",\n",
    "             \"STDs: Time since last diagnosis\",\n",
    "             \"First sexual intercourse\",\n",
    "             \"Num of pregnancies\",\n",
    "             \"Smokes\",\n",
    "             \"Smokes (years)\",\n",
    "             \"Smokes (packs/year)\",\n",
    "             \"Hormonal Contraceptives\",\n",
    "             \"Hormonal Contraceptives (years)\",\n",
    "             \"IUD\",\n",
    "             \"IUD (years)\",\n",
    "             \"STDs\",             \n",
    "             \"STDs (number)\",\n",
    "             \"STDs:condylomatosis\",\n",
    "             \"STDs:cervical condylomatosis\",\n",
    "             \"STDs:vaginal condylomatosis\",\n",
    "             \"STDs:vulvo-perineal condylomatosis\",\n",
    "             \"STDs:syphilis\",\n",
    "             \"STDs:pelvic inflammatory disease\",\n",
    "             \"STDs:genital herpes\",\n",
    "             \"STDs:molluscum contagiosum\",\n",
    "             \"STDs:AIDS\",\n",
    "             \"STDs:HIV\",\n",
    "             \"STDs:Hepatitis B\",\n",
    "             \"STDs:HPV\"\n",
    "            ]) "
   ]
  },
  {
   "cell_type": "code",
   "execution_count": 35,
   "metadata": {},
   "outputs": [
    {
     "data": {
      "text/html": [
       "<div>\n",
       "<style scoped>\n",
       "    .dataframe tbody tr th:only-of-type {\n",
       "        vertical-align: middle;\n",
       "    }\n",
       "\n",
       "    .dataframe tbody tr th {\n",
       "        vertical-align: top;\n",
       "    }\n",
       "\n",
       "    .dataframe thead th {\n",
       "        text-align: right;\n",
       "    }\n",
       "</style>\n",
       "<table border=\"1\" class=\"dataframe\">\n",
       "  <thead>\n",
       "    <tr style=\"text-align: right;\">\n",
       "      <th></th>\n",
       "      <th>Age</th>\n",
       "      <th>Dx:Cancer</th>\n",
       "      <th>Dx:CIN</th>\n",
       "      <th>Dx:HPV</th>\n",
       "      <th>Dx</th>\n",
       "      <th>Hinselmann</th>\n",
       "      <th>Schiller</th>\n",
       "      <th>Citology</th>\n",
       "      <th>Biopsy</th>\n",
       "    </tr>\n",
       "  </thead>\n",
       "  <tbody>\n",
       "    <tr>\n",
       "      <th>0</th>\n",
       "      <td>18</td>\n",
       "      <td>0</td>\n",
       "      <td>0</td>\n",
       "      <td>0</td>\n",
       "      <td>0</td>\n",
       "      <td>0</td>\n",
       "      <td>0</td>\n",
       "      <td>0</td>\n",
       "      <td>0</td>\n",
       "    </tr>\n",
       "    <tr>\n",
       "      <th>1</th>\n",
       "      <td>15</td>\n",
       "      <td>0</td>\n",
       "      <td>0</td>\n",
       "      <td>0</td>\n",
       "      <td>0</td>\n",
       "      <td>0</td>\n",
       "      <td>0</td>\n",
       "      <td>0</td>\n",
       "      <td>0</td>\n",
       "    </tr>\n",
       "    <tr>\n",
       "      <th>2</th>\n",
       "      <td>34</td>\n",
       "      <td>0</td>\n",
       "      <td>0</td>\n",
       "      <td>0</td>\n",
       "      <td>0</td>\n",
       "      <td>0</td>\n",
       "      <td>0</td>\n",
       "      <td>0</td>\n",
       "      <td>0</td>\n",
       "    </tr>\n",
       "    <tr>\n",
       "      <th>3</th>\n",
       "      <td>52</td>\n",
       "      <td>1</td>\n",
       "      <td>0</td>\n",
       "      <td>1</td>\n",
       "      <td>0</td>\n",
       "      <td>0</td>\n",
       "      <td>0</td>\n",
       "      <td>0</td>\n",
       "      <td>0</td>\n",
       "    </tr>\n",
       "    <tr>\n",
       "      <th>4</th>\n",
       "      <td>46</td>\n",
       "      <td>0</td>\n",
       "      <td>0</td>\n",
       "      <td>0</td>\n",
       "      <td>0</td>\n",
       "      <td>0</td>\n",
       "      <td>0</td>\n",
       "      <td>0</td>\n",
       "      <td>0</td>\n",
       "    </tr>\n",
       "  </tbody>\n",
       "</table>\n",
       "</div>"
      ],
      "text/plain": [
       "   Age  Dx:Cancer  Dx:CIN  Dx:HPV  Dx  Hinselmann  Schiller  Citology  Biopsy\n",
       "0   18          0       0       0   0           0         0         0       0\n",
       "1   15          0       0       0   0           0         0         0       0\n",
       "2   34          0       0       0   0           0         0         0       0\n",
       "3   52          1       0       1   0           0         0         0       0\n",
       "4   46          0       0       0   0           0         0         0       0"
      ]
     },
     "execution_count": 35,
     "metadata": {},
     "output_type": "execute_result"
    }
   ],
   "source": [
    "#Primeros registros\n",
    "kag_risk_factors_cervical_cancer.head()"
   ]
  },
  {
   "cell_type": "code",
   "execution_count": 36,
   "metadata": {},
   "outputs": [
    {
     "data": {
      "text/html": [
       "<div>\n",
       "<style scoped>\n",
       "    .dataframe tbody tr th:only-of-type {\n",
       "        vertical-align: middle;\n",
       "    }\n",
       "\n",
       "    .dataframe tbody tr th {\n",
       "        vertical-align: top;\n",
       "    }\n",
       "\n",
       "    .dataframe thead th {\n",
       "        text-align: right;\n",
       "    }\n",
       "</style>\n",
       "<table border=\"1\" class=\"dataframe\">\n",
       "  <thead>\n",
       "    <tr style=\"text-align: right;\">\n",
       "      <th></th>\n",
       "      <th>Age</th>\n",
       "      <th>Dx:Cancer</th>\n",
       "      <th>Dx:CIN</th>\n",
       "      <th>Dx:HPV</th>\n",
       "      <th>Dx</th>\n",
       "      <th>Hinselmann</th>\n",
       "      <th>Schiller</th>\n",
       "      <th>Citology</th>\n",
       "      <th>Biopsy</th>\n",
       "    </tr>\n",
       "  </thead>\n",
       "  <tbody>\n",
       "    <tr>\n",
       "      <th>count</th>\n",
       "      <td>858.000000</td>\n",
       "      <td>858.000000</td>\n",
       "      <td>858.000000</td>\n",
       "      <td>858.000000</td>\n",
       "      <td>858.000000</td>\n",
       "      <td>858.000000</td>\n",
       "      <td>858.000000</td>\n",
       "      <td>858.000000</td>\n",
       "      <td>858.000000</td>\n",
       "    </tr>\n",
       "    <tr>\n",
       "      <th>mean</th>\n",
       "      <td>26.820513</td>\n",
       "      <td>0.020979</td>\n",
       "      <td>0.010490</td>\n",
       "      <td>0.020979</td>\n",
       "      <td>0.027972</td>\n",
       "      <td>0.040793</td>\n",
       "      <td>0.086247</td>\n",
       "      <td>0.051282</td>\n",
       "      <td>0.064103</td>\n",
       "    </tr>\n",
       "    <tr>\n",
       "      <th>std</th>\n",
       "      <td>8.497948</td>\n",
       "      <td>0.143398</td>\n",
       "      <td>0.101939</td>\n",
       "      <td>0.143398</td>\n",
       "      <td>0.164989</td>\n",
       "      <td>0.197925</td>\n",
       "      <td>0.280892</td>\n",
       "      <td>0.220701</td>\n",
       "      <td>0.245078</td>\n",
       "    </tr>\n",
       "    <tr>\n",
       "      <th>min</th>\n",
       "      <td>13.000000</td>\n",
       "      <td>0.000000</td>\n",
       "      <td>0.000000</td>\n",
       "      <td>0.000000</td>\n",
       "      <td>0.000000</td>\n",
       "      <td>0.000000</td>\n",
       "      <td>0.000000</td>\n",
       "      <td>0.000000</td>\n",
       "      <td>0.000000</td>\n",
       "    </tr>\n",
       "    <tr>\n",
       "      <th>25%</th>\n",
       "      <td>20.000000</td>\n",
       "      <td>0.000000</td>\n",
       "      <td>0.000000</td>\n",
       "      <td>0.000000</td>\n",
       "      <td>0.000000</td>\n",
       "      <td>0.000000</td>\n",
       "      <td>0.000000</td>\n",
       "      <td>0.000000</td>\n",
       "      <td>0.000000</td>\n",
       "    </tr>\n",
       "    <tr>\n",
       "      <th>50%</th>\n",
       "      <td>25.000000</td>\n",
       "      <td>0.000000</td>\n",
       "      <td>0.000000</td>\n",
       "      <td>0.000000</td>\n",
       "      <td>0.000000</td>\n",
       "      <td>0.000000</td>\n",
       "      <td>0.000000</td>\n",
       "      <td>0.000000</td>\n",
       "      <td>0.000000</td>\n",
       "    </tr>\n",
       "    <tr>\n",
       "      <th>75%</th>\n",
       "      <td>32.000000</td>\n",
       "      <td>0.000000</td>\n",
       "      <td>0.000000</td>\n",
       "      <td>0.000000</td>\n",
       "      <td>0.000000</td>\n",
       "      <td>0.000000</td>\n",
       "      <td>0.000000</td>\n",
       "      <td>0.000000</td>\n",
       "      <td>0.000000</td>\n",
       "    </tr>\n",
       "    <tr>\n",
       "      <th>max</th>\n",
       "      <td>84.000000</td>\n",
       "      <td>1.000000</td>\n",
       "      <td>1.000000</td>\n",
       "      <td>1.000000</td>\n",
       "      <td>1.000000</td>\n",
       "      <td>1.000000</td>\n",
       "      <td>1.000000</td>\n",
       "      <td>1.000000</td>\n",
       "      <td>1.000000</td>\n",
       "    </tr>\n",
       "  </tbody>\n",
       "</table>\n",
       "</div>"
      ],
      "text/plain": [
       "              Age   Dx:Cancer      Dx:CIN      Dx:HPV          Dx  Hinselmann  \\\n",
       "count  858.000000  858.000000  858.000000  858.000000  858.000000  858.000000   \n",
       "mean    26.820513    0.020979    0.010490    0.020979    0.027972    0.040793   \n",
       "std      8.497948    0.143398    0.101939    0.143398    0.164989    0.197925   \n",
       "min     13.000000    0.000000    0.000000    0.000000    0.000000    0.000000   \n",
       "25%     20.000000    0.000000    0.000000    0.000000    0.000000    0.000000   \n",
       "50%     25.000000    0.000000    0.000000    0.000000    0.000000    0.000000   \n",
       "75%     32.000000    0.000000    0.000000    0.000000    0.000000    0.000000   \n",
       "max     84.000000    1.000000    1.000000    1.000000    1.000000    1.000000   \n",
       "\n",
       "         Schiller    Citology      Biopsy  \n",
       "count  858.000000  858.000000  858.000000  \n",
       "mean     0.086247    0.051282    0.064103  \n",
       "std      0.280892    0.220701    0.245078  \n",
       "min      0.000000    0.000000    0.000000  \n",
       "25%      0.000000    0.000000    0.000000  \n",
       "50%      0.000000    0.000000    0.000000  \n",
       "75%      0.000000    0.000000    0.000000  \n",
       "max      1.000000    1.000000    1.000000  "
      ]
     },
     "execution_count": 36,
     "metadata": {},
     "output_type": "execute_result"
    }
   ],
   "source": [
    "#Describir dataset\n",
    "kag_risk_factors_cervical_cancer.describe()"
   ]
  },
  {
   "cell_type": "code",
   "execution_count": 37,
   "metadata": {},
   "outputs": [
    {
     "name": "stdout",
     "output_type": "stream",
     "text": [
      "<class 'pandas.core.frame.DataFrame'>\n",
      "RangeIndex: 858 entries, 0 to 857\n",
      "Data columns (total 9 columns):\n",
      " #   Column      Non-Null Count  Dtype\n",
      "---  ------      --------------  -----\n",
      " 0   Age         858 non-null    int64\n",
      " 1   Dx:Cancer   858 non-null    int64\n",
      " 2   Dx:CIN      858 non-null    int64\n",
      " 3   Dx:HPV      858 non-null    int64\n",
      " 4   Dx          858 non-null    int64\n",
      " 5   Hinselmann  858 non-null    int64\n",
      " 6   Schiller    858 non-null    int64\n",
      " 7   Citology    858 non-null    int64\n",
      " 8   Biopsy      858 non-null    int64\n",
      "dtypes: int64(9)\n",
      "memory usage: 60.5 KB\n"
     ]
    }
   ],
   "source": [
    "#Información del dataset\n",
    "kag_risk_factors_cervical_cancer.info()"
   ]
  },
  {
   "cell_type": "code",
   "execution_count": 38,
   "metadata": {},
   "outputs": [
    {
     "name": "stdout",
     "output_type": "stream",
     "text": [
      "Cantidad de registros: 858\n",
      "Cantidad de columnas: 9\n",
      "Tipo de datos: [dtype('int64')]\n",
      "Filas y columnas: (858, 9)\n"
     ]
    }
   ],
   "source": [
    "# Numero de registros del dataset\n",
    "print(\"Cantidad de registros:\",len(kag_risk_factors_cervical_cancer))\n",
    "# Cantidad de columnas del dataset\n",
    "print(\"Cantidad de columnas:\",len(kag_risk_factors_cervical_cancer.columns))\n",
    "# Tipos de datos del dataset\n",
    "print(\"Tipo de datos:\",kag_risk_factors_cervical_cancer.dtypes.unique())\n",
    "# Tamaño del daset\n",
    "print(\"Filas y columnas:\",kag_risk_factors_cervical_cancer.shape)"
   ]
  },
  {
   "cell_type": "code",
   "execution_count": 39,
   "metadata": {},
   "outputs": [
    {
     "name": "stdout",
     "output_type": "stream",
     "text": [
      "0  /  9\n"
     ]
    }
   ],
   "source": [
    "# Chekear valores nulos\n",
    "print(kag_risk_factors_cervical_cancer.isnull().any().sum(), ' / ', len(kag_risk_factors_cervical_cancer.columns))"
   ]
  },
  {
   "cell_type": "code",
   "execution_count": 43,
   "metadata": {},
   "outputs": [
    {
     "data": {
      "text/plain": [
       "Series([], dtype: int64)"
      ]
     },
     "execution_count": 43,
     "metadata": {},
     "output_type": "execute_result"
    }
   ],
   "source": [
    "#Cuales columnnas estas con valores nulos\n",
    "kag_risk_factors_cervical_cancer.isnull().sum()[kag_risk_factors_cervical_cancer.isnull().sum() > 0]"
   ]
  },
  {
   "cell_type": "code",
   "execution_count": 44,
   "metadata": {},
   "outputs": [],
   "source": [
    "# N/A= Valores vacios \n",
    "#Usar solo si se quiere eliminar los registros que contienen columnas vacías\n",
    "kag_risk_factors_cervical_cancer=kag_risk_factors_cervical_cancer.dropna() "
   ]
  },
  {
   "cell_type": "code",
   "execution_count": 45,
   "metadata": {},
   "outputs": [
    {
     "data": {
      "text/html": [
       "<div>\n",
       "<style scoped>\n",
       "    .dataframe tbody tr th:only-of-type {\n",
       "        vertical-align: middle;\n",
       "    }\n",
       "\n",
       "    .dataframe tbody tr th {\n",
       "        vertical-align: top;\n",
       "    }\n",
       "\n",
       "    .dataframe thead th {\n",
       "        text-align: right;\n",
       "    }\n",
       "</style>\n",
       "<table border=\"1\" class=\"dataframe\">\n",
       "  <thead>\n",
       "    <tr style=\"text-align: right;\">\n",
       "      <th></th>\n",
       "      <th>Age</th>\n",
       "      <th>Dx:Cancer</th>\n",
       "      <th>Dx:CIN</th>\n",
       "      <th>Dx:HPV</th>\n",
       "      <th>Dx</th>\n",
       "      <th>Hinselmann</th>\n",
       "      <th>Schiller</th>\n",
       "      <th>Citology</th>\n",
       "      <th>Biopsy</th>\n",
       "    </tr>\n",
       "  </thead>\n",
       "  <tbody>\n",
       "    <tr>\n",
       "      <th>0</th>\n",
       "      <td>18</td>\n",
       "      <td>0</td>\n",
       "      <td>0</td>\n",
       "      <td>0</td>\n",
       "      <td>0</td>\n",
       "      <td>0</td>\n",
       "      <td>0</td>\n",
       "      <td>0</td>\n",
       "      <td>0</td>\n",
       "    </tr>\n",
       "    <tr>\n",
       "      <th>1</th>\n",
       "      <td>15</td>\n",
       "      <td>0</td>\n",
       "      <td>0</td>\n",
       "      <td>0</td>\n",
       "      <td>0</td>\n",
       "      <td>0</td>\n",
       "      <td>0</td>\n",
       "      <td>0</td>\n",
       "      <td>0</td>\n",
       "    </tr>\n",
       "    <tr>\n",
       "      <th>2</th>\n",
       "      <td>34</td>\n",
       "      <td>0</td>\n",
       "      <td>0</td>\n",
       "      <td>0</td>\n",
       "      <td>0</td>\n",
       "      <td>0</td>\n",
       "      <td>0</td>\n",
       "      <td>0</td>\n",
       "      <td>0</td>\n",
       "    </tr>\n",
       "    <tr>\n",
       "      <th>3</th>\n",
       "      <td>52</td>\n",
       "      <td>1</td>\n",
       "      <td>0</td>\n",
       "      <td>1</td>\n",
       "      <td>0</td>\n",
       "      <td>0</td>\n",
       "      <td>0</td>\n",
       "      <td>0</td>\n",
       "      <td>0</td>\n",
       "    </tr>\n",
       "    <tr>\n",
       "      <th>4</th>\n",
       "      <td>46</td>\n",
       "      <td>0</td>\n",
       "      <td>0</td>\n",
       "      <td>0</td>\n",
       "      <td>0</td>\n",
       "      <td>0</td>\n",
       "      <td>0</td>\n",
       "      <td>0</td>\n",
       "      <td>0</td>\n",
       "    </tr>\n",
       "    <tr>\n",
       "      <th>...</th>\n",
       "      <td>...</td>\n",
       "      <td>...</td>\n",
       "      <td>...</td>\n",
       "      <td>...</td>\n",
       "      <td>...</td>\n",
       "      <td>...</td>\n",
       "      <td>...</td>\n",
       "      <td>...</td>\n",
       "      <td>...</td>\n",
       "    </tr>\n",
       "    <tr>\n",
       "      <th>853</th>\n",
       "      <td>34</td>\n",
       "      <td>0</td>\n",
       "      <td>0</td>\n",
       "      <td>0</td>\n",
       "      <td>0</td>\n",
       "      <td>0</td>\n",
       "      <td>0</td>\n",
       "      <td>0</td>\n",
       "      <td>0</td>\n",
       "    </tr>\n",
       "    <tr>\n",
       "      <th>854</th>\n",
       "      <td>32</td>\n",
       "      <td>0</td>\n",
       "      <td>0</td>\n",
       "      <td>0</td>\n",
       "      <td>0</td>\n",
       "      <td>0</td>\n",
       "      <td>0</td>\n",
       "      <td>0</td>\n",
       "      <td>0</td>\n",
       "    </tr>\n",
       "    <tr>\n",
       "      <th>855</th>\n",
       "      <td>25</td>\n",
       "      <td>0</td>\n",
       "      <td>0</td>\n",
       "      <td>0</td>\n",
       "      <td>0</td>\n",
       "      <td>0</td>\n",
       "      <td>0</td>\n",
       "      <td>1</td>\n",
       "      <td>0</td>\n",
       "    </tr>\n",
       "    <tr>\n",
       "      <th>856</th>\n",
       "      <td>33</td>\n",
       "      <td>0</td>\n",
       "      <td>0</td>\n",
       "      <td>0</td>\n",
       "      <td>0</td>\n",
       "      <td>0</td>\n",
       "      <td>0</td>\n",
       "      <td>0</td>\n",
       "      <td>0</td>\n",
       "    </tr>\n",
       "    <tr>\n",
       "      <th>857</th>\n",
       "      <td>29</td>\n",
       "      <td>0</td>\n",
       "      <td>0</td>\n",
       "      <td>0</td>\n",
       "      <td>0</td>\n",
       "      <td>0</td>\n",
       "      <td>0</td>\n",
       "      <td>0</td>\n",
       "      <td>0</td>\n",
       "    </tr>\n",
       "  </tbody>\n",
       "</table>\n",
       "<p>858 rows × 9 columns</p>\n",
       "</div>"
      ],
      "text/plain": [
       "     Age  Dx:Cancer  Dx:CIN  Dx:HPV  Dx  Hinselmann  Schiller  Citology  \\\n",
       "0     18          0       0       0   0           0         0         0   \n",
       "1     15          0       0       0   0           0         0         0   \n",
       "2     34          0       0       0   0           0         0         0   \n",
       "3     52          1       0       1   0           0         0         0   \n",
       "4     46          0       0       0   0           0         0         0   \n",
       "..   ...        ...     ...     ...  ..         ...       ...       ...   \n",
       "853   34          0       0       0   0           0         0         0   \n",
       "854   32          0       0       0   0           0         0         0   \n",
       "855   25          0       0       0   0           0         0         1   \n",
       "856   33          0       0       0   0           0         0         0   \n",
       "857   29          0       0       0   0           0         0         0   \n",
       "\n",
       "     Biopsy  \n",
       "0         0  \n",
       "1         0  \n",
       "2         0  \n",
       "3         0  \n",
       "4         0  \n",
       "..      ...  \n",
       "853       0  \n",
       "854       0  \n",
       "855       0  \n",
       "856       0  \n",
       "857       0  \n",
       "\n",
       "[858 rows x 9 columns]"
      ]
     },
     "execution_count": 45,
     "metadata": {},
     "output_type": "execute_result"
    }
   ],
   "source": [
    "kag_risk_factors_cervical_cancer"
   ]
  },
  {
   "cell_type": "code",
   "execution_count": 46,
   "metadata": {},
   "outputs": [
    {
     "data": {
      "text/plain": [
       "array([0, 1], dtype=int64)"
      ]
     },
     "execution_count": 46,
     "metadata": {},
     "output_type": "execute_result"
    }
   ],
   "source": [
    "kag_risk_factors_cervical_cancer[\"Dx:Cancer\"].unique()"
   ]
  },
  {
   "cell_type": "code",
   "execution_count": 47,
   "metadata": {},
   "outputs": [
    {
     "data": {
      "text/plain": [
       "0    0.979021\n",
       "1    0.020979\n",
       "Name: Dx:Cancer, dtype: float64"
      ]
     },
     "execution_count": 47,
     "metadata": {},
     "output_type": "execute_result"
    }
   ],
   "source": [
    "kag_risk_factors_cervical_cancer['Dx:Cancer'].value_counts(normalize=True)"
   ]
  },
  {
   "cell_type": "code",
   "execution_count": 48,
   "metadata": {},
   "outputs": [
    {
     "data": {
      "text/plain": [
       "<AxesSubplot:xlabel='Dx:Cancer', ylabel='count'>"
      ]
     },
     "execution_count": 48,
     "metadata": {},
     "output_type": "execute_result"
    },
    {
     "data": {
      "image/png": "[encoded data removed]",
      "text/plain": [
       "<Figure size 432x288 with 1 Axes>"
      ]
     },
     "metadata": {
      "needs_background": "light"
     },
     "output_type": "display_data"
    }
   ],
   "source": [
    "sns.countplot(kag_risk_factors_cervical_cancer['Dx:Cancer'])"
   ]
  },
  {
   "cell_type": "markdown",
   "metadata": {},
   "source": [
    "## Exploración de los Datos"
   ]
  },
  {
   "cell_type": "markdown",
   "metadata": {},
   "source": [
    "#### Gráficos exploratorios"
   ]
  },
  {
   "cell_type": "code",
   "execution_count": 79,
   "metadata": {},
   "outputs": [],
   "source": [
    "\n",
    "from sklearn.model_selection import train_test_split\n",
    "X_train, X_test, y_train, y_test = train_test_split(kag_risk_factors_cervical_cancer[[\"Age\",\"Dx:CIN\",\"Dx:HPV\",\"Dx\",\"Hinselmann\",\"Schiller\",\n",
    "                                                                       \"Citology\",\"Biopsy\"]],kag_risk_factors_cervical_cancer[[\"Dx:Cancer\"]], test_size=0.3, random_state=1234)"
   ]
  },
  {
   "cell_type": "code",
   "execution_count": 109,
   "metadata": {},
   "outputs": [
    {
     "data": {
      "image/png": "[encoded data removed]",
      "text/plain": [
       "<Figure size 1080x432 with 3 Axes>"
      ]
     },
     "metadata": {
      "needs_background": "light"
     },
     "output_type": "display_data"
    }
   ],
   "source": [
    "plt.figure(1 , figsize = (15 , 6))\n",
    "n = 0 \n",
    "for x in ['Schiller' , 'Biopsy' , 'Hinselmann']:\n",
    "    n += 1\n",
    "    plt.subplot(1 , 3 , n)\n",
    "    plt.subplots_adjust(hspace =1 , wspace = 1)\n",
    "    sns.distplot(kag_risk_factors_cervical_cancer[x] , bins = 20)\n",
    "    plt.title('Distribucion de {}'.format(x))\n",
    "plt.show()"
   ]
  },
  {
   "cell_type": "code",
   "execution_count": 110,
   "metadata": {},
   "outputs": [
    {
     "data": {
      "text/plain": [
       "Int64Index([23, 18, 21, 20, 19, 24, 25, 26, 28, 30, 17, 29, 27, 22, 35, 33, 31,\n",
       "            36, 34, 16, 15, 32, 37, 41, 40, 39, 38, 45, 44, 42, 43, 14, 46, 48,\n",
       "            49, 52, 70, 84, 79, 47, 50, 51, 59, 13],\n",
       "           dtype='int64')"
      ]
     },
     "execution_count": 110,
     "metadata": {},
     "output_type": "execute_result"
    }
   ],
   "source": [
    "kag_risk_factors_cervical_cancer.sort_values(by=['Age'])[\"Age\"].value_counts().index"
   ]
  },
  {
   "cell_type": "code",
   "execution_count": 111,
   "metadata": {},
   "outputs": [],
   "source": [
    "df = kag_risk_factors_cervical_cancer.groupby(by=[\"Age\"])['Age'].size().nlargest(8).reset_index(name='top8')"
   ]
  },
  {
   "cell_type": "code",
   "execution_count": 113,
   "metadata": {},
   "outputs": [
    {
     "data": {
      "text/plain": [
       "Text(0.5, 1.0, 'Distribucion de la edad de las mujeres')"
      ]
     },
     "execution_count": 113,
     "metadata": {},
     "output_type": "execute_result"
    },
    {
     "data": {
      "image/png": "[encoded data removed]",
      "text/plain": [
       "<Figure size 504x504 with 1 Axes>"
      ]
     },
     "metadata": {},
     "output_type": "display_data"
    }
   ],
   "source": [
    "labels = df.Age.value_counts().index\n",
    "colors = ['green','blue','red','yellow','orange','gray','lime','pink']\n",
    "explode = [0,0,0,0,0,0,0,0,]\n",
    "sizes = df.Age.value_counts().values\n",
    "\n",
    "# visual\n",
    "plt.figure(figsize = (7,7))\n",
    "plt.pie(sizes, explode=explode, labels=labels, colors=colors, autopct='%1.1f%%')\n",
    "plt.title('Distribucion de la edad de las mujeres',color = 'blue',fontsize = 15)"
   ]
  },
  {
   "cell_type": "code",
   "execution_count": 114,
   "metadata": {},
   "outputs": [
    {
     "data": {
      "text/html": [
       "<div>\n",
       "<style scoped>\n",
       "    .dataframe tbody tr th:only-of-type {\n",
       "        vertical-align: middle;\n",
       "    }\n",
       "\n",
       "    .dataframe tbody tr th {\n",
       "        vertical-align: top;\n",
       "    }\n",
       "\n",
       "    .dataframe thead th {\n",
       "        text-align: right;\n",
       "    }\n",
       "</style>\n",
       "<table border=\"1\" class=\"dataframe\">\n",
       "  <thead>\n",
       "    <tr style=\"text-align: right;\">\n",
       "      <th></th>\n",
       "      <th>Age</th>\n",
       "      <th>Dx:Cancer</th>\n",
       "      <th>Dx:CIN</th>\n",
       "      <th>Dx:HPV</th>\n",
       "      <th>Dx</th>\n",
       "      <th>Hinselmann</th>\n",
       "      <th>Schiller</th>\n",
       "      <th>Citology</th>\n",
       "      <th>Biopsy</th>\n",
       "    </tr>\n",
       "  </thead>\n",
       "  <tbody>\n",
       "    <tr>\n",
       "      <th>0</th>\n",
       "      <td>18</td>\n",
       "      <td>0</td>\n",
       "      <td>0</td>\n",
       "      <td>0</td>\n",
       "      <td>0</td>\n",
       "      <td>0</td>\n",
       "      <td>0</td>\n",
       "      <td>0</td>\n",
       "      <td>0</td>\n",
       "    </tr>\n",
       "    <tr>\n",
       "      <th>1</th>\n",
       "      <td>15</td>\n",
       "      <td>0</td>\n",
       "      <td>0</td>\n",
       "      <td>0</td>\n",
       "      <td>0</td>\n",
       "      <td>0</td>\n",
       "      <td>0</td>\n",
       "      <td>0</td>\n",
       "      <td>0</td>\n",
       "    </tr>\n",
       "    <tr>\n",
       "      <th>2</th>\n",
       "      <td>34</td>\n",
       "      <td>0</td>\n",
       "      <td>0</td>\n",
       "      <td>0</td>\n",
       "      <td>0</td>\n",
       "      <td>0</td>\n",
       "      <td>0</td>\n",
       "      <td>0</td>\n",
       "      <td>0</td>\n",
       "    </tr>\n",
       "    <tr>\n",
       "      <th>3</th>\n",
       "      <td>52</td>\n",
       "      <td>1</td>\n",
       "      <td>0</td>\n",
       "      <td>1</td>\n",
       "      <td>0</td>\n",
       "      <td>0</td>\n",
       "      <td>0</td>\n",
       "      <td>0</td>\n",
       "      <td>0</td>\n",
       "    </tr>\n",
       "    <tr>\n",
       "      <th>4</th>\n",
       "      <td>46</td>\n",
       "      <td>0</td>\n",
       "      <td>0</td>\n",
       "      <td>0</td>\n",
       "      <td>0</td>\n",
       "      <td>0</td>\n",
       "      <td>0</td>\n",
       "      <td>0</td>\n",
       "      <td>0</td>\n",
       "    </tr>\n",
       "    <tr>\n",
       "      <th>...</th>\n",
       "      <td>...</td>\n",
       "      <td>...</td>\n",
       "      <td>...</td>\n",
       "      <td>...</td>\n",
       "      <td>...</td>\n",
       "      <td>...</td>\n",
       "      <td>...</td>\n",
       "      <td>...</td>\n",
       "      <td>...</td>\n",
       "    </tr>\n",
       "    <tr>\n",
       "      <th>853</th>\n",
       "      <td>34</td>\n",
       "      <td>0</td>\n",
       "      <td>0</td>\n",
       "      <td>0</td>\n",
       "      <td>0</td>\n",
       "      <td>0</td>\n",
       "      <td>0</td>\n",
       "      <td>0</td>\n",
       "      <td>0</td>\n",
       "    </tr>\n",
       "    <tr>\n",
       "      <th>854</th>\n",
       "      <td>32</td>\n",
       "      <td>0</td>\n",
       "      <td>0</td>\n",
       "      <td>0</td>\n",
       "      <td>0</td>\n",
       "      <td>0</td>\n",
       "      <td>0</td>\n",
       "      <td>0</td>\n",
       "      <td>0</td>\n",
       "    </tr>\n",
       "    <tr>\n",
       "      <th>855</th>\n",
       "      <td>25</td>\n",
       "      <td>0</td>\n",
       "      <td>0</td>\n",
       "      <td>0</td>\n",
       "      <td>0</td>\n",
       "      <td>0</td>\n",
       "      <td>0</td>\n",
       "      <td>1</td>\n",
       "      <td>0</td>\n",
       "    </tr>\n",
       "    <tr>\n",
       "      <th>856</th>\n",
       "      <td>33</td>\n",
       "      <td>0</td>\n",
       "      <td>0</td>\n",
       "      <td>0</td>\n",
       "      <td>0</td>\n",
       "      <td>0</td>\n",
       "      <td>0</td>\n",
       "      <td>0</td>\n",
       "      <td>0</td>\n",
       "    </tr>\n",
       "    <tr>\n",
       "      <th>857</th>\n",
       "      <td>29</td>\n",
       "      <td>0</td>\n",
       "      <td>0</td>\n",
       "      <td>0</td>\n",
       "      <td>0</td>\n",
       "      <td>0</td>\n",
       "      <td>0</td>\n",
       "      <td>0</td>\n",
       "      <td>0</td>\n",
       "    </tr>\n",
       "  </tbody>\n",
       "</table>\n",
       "<p>858 rows × 9 columns</p>\n",
       "</div>"
      ],
      "text/plain": [
       "     Age  Dx:Cancer  Dx:CIN  Dx:HPV  Dx  Hinselmann  Schiller  Citology  \\\n",
       "0     18          0       0       0   0           0         0         0   \n",
       "1     15          0       0       0   0           0         0         0   \n",
       "2     34          0       0       0   0           0         0         0   \n",
       "3     52          1       0       1   0           0         0         0   \n",
       "4     46          0       0       0   0           0         0         0   \n",
       "..   ...        ...     ...     ...  ..         ...       ...       ...   \n",
       "853   34          0       0       0   0           0         0         0   \n",
       "854   32          0       0       0   0           0         0         0   \n",
       "855   25          0       0       0   0           0         0         1   \n",
       "856   33          0       0       0   0           0         0         0   \n",
       "857   29          0       0       0   0           0         0         0   \n",
       "\n",
       "     Biopsy  \n",
       "0         0  \n",
       "1         0  \n",
       "2         0  \n",
       "3         0  \n",
       "4         0  \n",
       "..      ...  \n",
       "853       0  \n",
       "854       0  \n",
       "855       0  \n",
       "856       0  \n",
       "857       0  \n",
       "\n",
       "[858 rows x 9 columns]"
      ]
     },
     "execution_count": 114,
     "metadata": {},
     "output_type": "execute_result"
    }
   ],
   "source": [
    "kag_risk_factors_cervical_cancer"
   ]
  },
  {
   "cell_type": "code",
   "execution_count": 115,
   "metadata": {},
   "outputs": [
    {
     "data": {
      "image/png": "[encoded data removed]",
      "text/plain": [
       "<Figure size 432x288 with 1 Axes>"
      ]
     },
     "metadata": {
      "needs_background": "light"
     },
     "output_type": "display_data"
    }
   ],
   "source": [
    "sns.boxplot(x=\"Dx:Cancer\", y=\"Age\", hue=\"Dx:Cancer\", data=kag_risk_factors_cervical_cancer, palette=\"PRGn\")\n",
    "plt.show()"
   ]
  },
  {
   "cell_type": "markdown",
   "metadata": {},
   "source": [
    ">Es importante siempre validar los rangos de los conjuntos de datos creados, para evitar caer en extrapolación:"
   ]
  },
  {
   "cell_type": "code",
   "execution_count": 52,
   "metadata": {},
   "outputs": [
    {
     "name": "stdout",
     "output_type": "stream",
     "text": [
      "Entrenamiento dimensiones (600, 8)\n",
      "Descripción\n"
     ]
    },
    {
     "data": {
      "text/plain": [
       "<bound method NDFrame.describe of      Age  Dx:CIN  Dx:HPV  Dx  Hinselmann  Schiller  Citology  Biopsy\n",
       "650   26       0       0   0           0         0         0       0\n",
       "751   41       0       0   0           0         0         0       0\n",
       "167   27       0       0   0           0         0         0       0\n",
       "451   16       0       0   0           0         0         0       0\n",
       "406   17       0       0   0           0         0         0       0\n",
       "..   ...     ...     ...  ..         ...       ...       ...     ...\n",
       "204   21       0       0   0           0         0         0       0\n",
       "53    35       0       0   0           0         0         0       0\n",
       "294   23       0       0   0           0         0         0       0\n",
       "723   19       0       0   0           0         0         0       0\n",
       "815   30       0       0   0           0         0         0       0\n",
       "\n",
       "[600 rows x 8 columns]>"
      ]
     },
     "execution_count": 52,
     "metadata": {},
     "output_type": "execute_result"
    }
   ],
   "source": [
    "print(\"Entrenamiento dimensiones\",X_train.shape)\n",
    "print(\"Descripción\")\n",
    "X_train.describe"
   ]
  },
  {
   "cell_type": "code",
   "execution_count": 53,
   "metadata": {},
   "outputs": [
    {
     "name": "stdout",
     "output_type": "stream",
     "text": [
      "Pruebas dimensiones (258, 8)\n",
      "Descripción\n"
     ]
    },
    {
     "data": {
      "text/plain": [
       "<bound method NDFrame.describe of      Age  Dx:CIN  Dx:HPV  Dx  Hinselmann  Schiller  Citology  Biopsy\n",
       "443   15       0       0   0           0         0         0       0\n",
       "146   30       0       0   0           0         0         0       0\n",
       "122   31       0       0   0           0         0         0       0\n",
       "226   26       0       0   0           0         0         0       0\n",
       "322   20       0       0   0           0         0         0       0\n",
       "..   ...     ...     ...  ..         ...       ...       ...     ...\n",
       "305   20       0       0   0           0         0         0       0\n",
       "153   26       0       0   0           0         0         0       0\n",
       "826   33       0       0   0           0         0         0       0\n",
       "411   17       0       0   0           1         1         1       0\n",
       "221   25       0       0   0           0         0         0       0\n",
       "\n",
       "[258 rows x 8 columns]>"
      ]
     },
     "execution_count": 53,
     "metadata": {},
     "output_type": "execute_result"
    }
   ],
   "source": [
    "print(\"Pruebas dimensiones\",X_test.shape)\n",
    "print(\"Descripción\")\n",
    "X_test.describe"
   ]
  },
  {
   "cell_type": "markdown",
   "metadata": {},
   "source": [
    "## Modelo de Machine Learning"
   ]
  },
  {
   "cell_type": "markdown",
   "metadata": {},
   "source": [
    "Una vez seleccionadas las variables para incluir en el modelo de regresión, se procede a crearlo:"
   ]
  },
  {
   "cell_type": "code",
   "execution_count": 57,
   "metadata": {},
   "outputs": [],
   "source": [
    "#-------------- \n",
    "# ANN \n",
    "#--------------\n",
    "from sklearn.neural_network import MLPClassifier\n",
    "model = MLPClassifier(activation='tanh', max_iter=10000, hidden_layer_sizes=(18,9,4,3))"
   ]
  },
  {
   "cell_type": "code",
   "execution_count": 58,
   "metadata": {},
   "outputs": [
    {
     "data": {
      "text/plain": [
       "MLPClassifier(activation='tanh', hidden_layer_sizes=(18, 9, 4, 3),\n",
       "              max_iter=10000)"
      ]
     },
     "execution_count": 58,
     "metadata": {},
     "output_type": "execute_result"
    }
   ],
   "source": [
    "# Entrenamos nuestro modelo\n",
    "model.fit(X_train, y_train)"
   ]
  },
  {
   "cell_type": "code",
   "execution_count": 60,
   "metadata": {},
   "outputs": [],
   "source": [
    "# Hacemos las predicciones que en definitiva una línea (en este caso, al ser 2D)\n",
    "y_pred1 = model.predict( X_test )"
   ]
  },
  {
   "cell_type": "code",
   "execution_count": 61,
   "metadata": {},
   "outputs": [
    {
     "data": {
      "text/plain": [
       "array([0, 0, 0, 0, 0, 0, 0, 0, 0, 0, 0, 0, 0, 0, 0, 0, 0, 0, 0, 0, 0, 0,\n",
       "       0, 0, 0, 0, 0, 0, 0, 0, 0, 0, 0, 0, 0, 0, 0, 0, 0, 0, 0, 0, 0, 0,\n",
       "       1, 0, 0, 0, 0, 0, 0, 0, 0, 0, 0, 0, 0, 0, 0, 0, 0, 0, 0, 0, 0, 0,\n",
       "       0, 0, 0, 0, 0, 0, 0, 0, 0, 0, 0, 0, 0, 0, 0, 0, 0, 0, 0, 0, 0, 0,\n",
       "       0, 0, 0, 0, 0, 0, 0, 0, 0, 0, 0, 0, 0, 0, 0, 0, 0, 0, 0, 0, 0, 0,\n",
       "       0, 0, 0, 0, 0, 0, 0, 0, 0, 0, 0, 0, 0, 1, 0, 0, 1, 0, 0, 0, 0, 0,\n",
       "       0, 0, 0, 0, 1, 0, 0, 0, 0, 0, 0, 0, 0, 0, 0, 0, 0, 0, 0, 0, 0, 0,\n",
       "       0, 0, 0, 0, 0, 0, 0, 0, 0, 0, 0, 0, 0, 0, 0, 0, 0, 0, 0, 0, 0, 1,\n",
       "       0, 0, 0, 0, 0, 0, 0, 0, 0, 0, 0, 0, 0, 0, 0, 0, 0, 0, 0, 0, 0, 0,\n",
       "       0, 0, 1, 0, 0, 0, 0, 0, 0, 0, 0, 0, 0, 0, 0, 0, 0, 0, 0, 0, 0, 0,\n",
       "       1, 0, 0, 0, 0, 0, 0, 0, 0, 0, 0, 0, 0, 0, 0, 0, 0, 0, 0, 0, 0, 0,\n",
       "       0, 0, 0, 0, 0, 0, 0, 0, 0, 0, 0, 0, 0, 0, 0, 0], dtype=int64)"
      ]
     },
     "execution_count": 61,
     "metadata": {},
     "output_type": "execute_result"
    }
   ],
   "source": [
    "y_pred1"
   ]
  },
  {
   "cell_type": "code",
   "execution_count": 63,
   "metadata": {},
   "outputs": [
    {
     "data": {
      "text/plain": [
       "array([0.01636223, 0.01640109, 0.01640821, 0.01637831, 0.01636077,\n",
       "       0.01656174, 0.01638857, 0.01637401, 0.01636441, 0.01640109,\n",
       "       0.01635944, 0.01639454, 0.01651495, 0.01755125, 0.01638317,\n",
       "       0.01637831, 0.01637026, 0.01637831, 0.01638857, 0.01636231,\n",
       "       0.01642424, 0.01637296, 0.01657967, 0.01637831, 0.01640821,\n",
       "       0.0164639 , 0.01640821, 0.01636231, 0.01637401, 0.01641592,\n",
       "       0.01636061, 0.01651495, 0.01640109, 0.01636231, 0.01645299,\n",
       "       0.01636706, 0.01644275, 0.01636231, 0.01636223, 0.01638653,\n",
       "       0.01645299, 0.01636077, 0.01636231, 0.01644275, 0.87480369,\n",
       "       0.01643318, 0.01635981, 0.01635981, 0.01636077, 0.01635944,\n",
       "       0.01643318, 0.0164639 , 0.01659837, 0.0163597 , 0.01635944,\n",
       "       0.01644275, 0.01643248, 0.01636077, 0.01636061, 0.0163597 ,\n",
       "       0.01634355, 0.01637831, 0.01635981, 0.01704577, 0.01638317,\n",
       "       0.01656204, 0.01636796, 0.0163857 , 0.01638317, 0.01635981,\n",
       "       0.0163597 , 0.01634355, 0.01636231, 0.01643318, 0.01637401,\n",
       "       0.01635981, 0.01643318, 0.01647553, 0.01637026, 0.01636231,\n",
       "       0.01644275, 0.01642424, 0.01638857, 0.01635944, 0.01636706,\n",
       "       0.01650418, 0.0164639 , 0.01635944, 0.01636441, 0.01638317,\n",
       "       0.01640109, 0.01644275, 0.0163597 , 0.01640109, 0.01640109,\n",
       "       0.01637085, 0.01636077, 0.01668224, 0.01638317, 0.01636077,\n",
       "       0.01639454, 0.01643318, 0.01637831, 0.01638857, 0.01637401,\n",
       "       0.01641592, 0.01637026, 0.01636077, 0.01636441, 0.01650358,\n",
       "       0.0164639 , 0.01636077, 0.01640109, 0.01638317, 0.01642424,\n",
       "       0.01636061, 0.01637026, 0.01640821, 0.01637831, 0.01654585,\n",
       "       0.01637831, 0.01638317, 0.01635944, 0.87292175, 0.01644275,\n",
       "       0.01636231, 0.87462022, 0.01636231, 0.01636441, 0.01635944,\n",
       "       0.01635944, 0.0166165 , 0.01635944, 0.01668224, 0.0164639 ,\n",
       "       0.01636231, 0.86952438, 0.01640821, 0.01636441, 0.01638317,\n",
       "       0.01638857, 0.01650101, 0.01645299, 0.01636231, 0.01638317,\n",
       "       0.01639454, 0.0163984 , 0.01640821, 0.01662359, 0.01636231,\n",
       "       0.01635981, 0.01637401, 0.01635981, 0.01642424, 0.01636223,\n",
       "       0.01665821, 0.01652973, 0.01643318, 0.01636061, 0.01642424,\n",
       "       0.0164189 , 0.01642424, 0.01640821, 0.01635981, 0.01636706,\n",
       "       0.01637026, 0.01636077, 0.01636061, 0.01635981, 0.01636077,\n",
       "       0.01635981, 0.01637085, 0.01636061, 0.01643318, 0.01638857,\n",
       "       0.87432047, 0.0163597 , 0.01642424, 0.01636061, 0.01635981,\n",
       "       0.01636231, 0.01640109, 0.0163597 , 0.01634135, 0.01659846,\n",
       "       0.01637401, 0.01640109, 0.01637831, 0.01635944, 0.01641638,\n",
       "       0.01635981, 0.01636077, 0.01638857, 0.01636231, 0.01636441,\n",
       "       0.01638653, 0.01667419, 0.01652973, 0.01637831, 0.01645299,\n",
       "       0.87452102, 0.01639454, 0.01637026, 0.01640109, 0.01636077,\n",
       "       0.01635944, 0.01645299, 0.01636465, 0.01638317, 0.0163597 ,\n",
       "       0.01645299, 0.01639454, 0.01644275, 0.01636706, 0.01640109,\n",
       "       0.01636223, 0.01644275, 0.01640109, 0.01648788, 0.01644275,\n",
       "       0.81758319, 0.01637831, 0.01639454, 0.01636706, 0.01639454,\n",
       "       0.01637026, 0.01636706, 0.01643318, 0.01636441, 0.01648572,\n",
       "       0.01636706, 0.0163597 , 0.01636231, 0.01643318, 0.01637026,\n",
       "       0.01636077, 0.01650101, 0.01649923, 0.01638317, 0.01636231,\n",
       "       0.01637401, 0.01637831, 0.01635944, 0.0164639 , 0.01636441,\n",
       "       0.01636706, 0.01636077, 0.01638857, 0.01644275, 0.01639454,\n",
       "       0.01645299, 0.01635944, 0.01640821, 0.01636077, 0.01637831,\n",
       "       0.01642424, 0.01650947, 0.01637401])"
      ]
     },
     "execution_count": 63,
     "metadata": {},
     "output_type": "execute_result"
    }
   ],
   "source": [
    "predict_values=model.predict_proba(X_test)\n",
    "predict_values[:, 1]"
   ]
  },
  {
   "cell_type": "code",
   "execution_count": 64,
   "metadata": {},
   "outputs": [],
   "source": [
    "## Evaluación"
   ]
  },
  {
   "cell_type": "code",
   "execution_count": 65,
   "metadata": {},
   "outputs": [
    {
     "data": {
      "text/plain": [
       "array([0, 0, 0, 0, 0, 0, 0, 0, 0, 0, 0, 0, 0, 0, 0, 0, 0, 0, 0, 0, 0, 0,\n",
       "       0, 0, 0, 0, 0, 0, 0, 0, 0, 0, 0, 0, 0, 0, 0, 0, 0, 0, 0, 0, 0, 0,\n",
       "       1, 0, 0, 0, 0, 0, 0, 0, 0, 0, 0, 0, 0, 0, 0, 0, 0, 0, 0, 0, 0, 0,\n",
       "       0, 0, 0, 0, 0, 0, 0, 0, 0, 0, 0, 0, 0, 0, 0, 0, 0, 0, 0, 0, 0, 0,\n",
       "       0, 0, 0, 0, 0, 0, 0, 0, 0, 0, 0, 0, 0, 0, 0, 0, 0, 0, 0, 0, 0, 0,\n",
       "       0, 0, 0, 0, 0, 0, 0, 0, 0, 0, 0, 0, 0, 1, 0, 0, 1, 0, 0, 0, 0, 0,\n",
       "       0, 0, 0, 0, 1, 0, 0, 0, 0, 0, 0, 0, 0, 0, 0, 0, 0, 0, 0, 0, 0, 0,\n",
       "       0, 0, 0, 0, 0, 0, 0, 0, 0, 0, 0, 0, 0, 0, 0, 0, 0, 0, 0, 0, 0, 1,\n",
       "       0, 0, 0, 0, 0, 0, 0, 0, 0, 0, 0, 0, 0, 0, 0, 0, 0, 0, 0, 0, 0, 0,\n",
       "       0, 0, 1, 0, 0, 0, 0, 0, 0, 0, 0, 0, 0, 0, 0, 0, 0, 0, 0, 0, 0, 0,\n",
       "       1, 0, 0, 0, 0, 0, 0, 0, 0, 0, 0, 0, 0, 0, 0, 0, 0, 0, 0, 0, 0, 0,\n",
       "       0, 0, 0, 0, 0, 0, 0, 0, 0, 0, 0, 0, 0, 0, 0, 0], dtype=int64)"
      ]
     },
     "execution_count": 65,
     "metadata": {},
     "output_type": "execute_result"
    }
   ],
   "source": [
    "np.array(y_pred1)"
   ]
  },
  {
   "cell_type": "code",
   "execution_count": 66,
   "metadata": {},
   "outputs": [
    {
     "data": {
      "text/plain": [
       "array([[251,   0],\n",
       "       [  0,   7]], dtype=int64)"
      ]
     },
     "execution_count": 66,
     "metadata": {},
     "output_type": "execute_result"
    }
   ],
   "source": [
    "matrix=confusion_matrix(np.array(y_test), np.array(y_pred1))\n",
    "matrix"
   ]
  },
  {
   "cell_type": "code",
   "execution_count": 67,
   "metadata": {},
   "outputs": [
    {
     "data": {
      "image/png": "[encoded data removed]",
      "text/plain": [
       "<Figure size 576x576 with 2 Axes>"
      ]
     },
     "metadata": {
      "needs_background": "light"
     },
     "output_type": "display_data"
    }
   ],
   "source": [
    "figure = plt.figure(figsize=(8, 8))\n",
    "sns.heatmap(matrix, annot=True,fmt='g', cmap=plt.cm.Blues)\n",
    "plt.tight_layout()\n",
    "plt.ylabel('True label')\n",
    "plt.xlabel('Predicted label')\n",
    "plt.show()"
   ]
  },
  {
   "cell_type": "code",
   "execution_count": 117,
   "metadata": {},
   "outputs": [
    {
     "name": "stdout",
     "output_type": "stream",
     "text": [
      "Mean kernel-SVM CrossVal Accuracy on model Set 0.99, with std=0.02\n",
      "Mean kernel-SVM CrossVal Accuracy on Train Set 0.99, with std=0.01\n"
     ]
    },
    {
     "data": {
      "text/plain": [
       "0.9983333333333333"
      ]
     },
     "execution_count": 117,
     "metadata": {},
     "output_type": "execute_result"
    }
   ],
   "source": [
    "scoresSVC = cross_val_score( model, X_test, y_test, cv=10)\n",
    "print(\"Mean kernel-SVM CrossVal Accuracy on model Set %.2f, with std=%.2f\" % (scoresSVC.mean(), scoresSVC.std() ))\n",
    "\n",
    "scoresSVC = cross_val_score( model, X_train, y_train, cv=10)\n",
    "print(\"Mean kernel-SVM CrossVal Accuracy on Train Set %.2f, with std=%.2f\" % (scoresSVC.mean(), scoresSVC.std() ))\n",
    "model.score(X_train, y_train)"
   ]
  },
  {
   "cell_type": "code",
   "execution_count": 118,
   "metadata": {},
   "outputs": [
    {
     "name": "stdout",
     "output_type": "stream",
     "text": [
      "AUC: 1.00\n"
     ]
    }
   ],
   "source": [
    "auc = roc_auc_score(y_test, predict_values[:, 1])\n",
    "print('AUC: %.2f' % auc)"
   ]
  },
  {
   "cell_type": "code",
   "execution_count": 119,
   "metadata": {},
   "outputs": [
    {
     "data": {
      "image/png": "[encoded data removed]",
      "text/plain": [
       "<Figure size 432x288 with 1 Axes>"
      ]
     },
     "metadata": {
      "needs_background": "light"
     },
     "output_type": "display_data"
    }
   ],
   "source": [
    "fpr, tpr, thresholds = roc_curve(y_test, predict_values[:, 1])\n",
    "plt.plot(fpr, tpr, color='orange', label='ROC')\n",
    "\n",
    "plt.plot([0, 1], [0, 1], color='darkblue', linestyle='--')\n",
    "\n",
    "plt.xlabel('False Positive Rate')\n",
    "plt.ylabel('True Positive Rate')\n",
    "plt.title('Receiver Operating Characteristic (ROC) Curve')\n",
    "plt.legend()\n",
    "plt.show()"
   ]
  },
  {
   "cell_type": "code",
   "execution_count": 73,
   "metadata": {},
   "outputs": [
    {
     "data": {
      "text/plain": [
       "1.0"
      ]
     },
     "execution_count": 73,
     "metadata": {},
     "output_type": "execute_result"
    }
   ],
   "source": [
    "(matrix[[0]][0][0] + matrix[[1]][0][1])/X_test.shape[0]"
   ]
  },
  {
   "cell_type": "markdown",
   "metadata": {},
   "source": [
    "\\begin{equation}Exactitud=\\frac{VP+VN}{Total}\\end{equation}"
   ]
  },
  {
   "cell_type": "code",
   "execution_count": 74,
   "metadata": {},
   "outputs": [
    {
     "data": {
      "text/plain": [
       "0.9728682170542635"
      ]
     },
     "execution_count": 74,
     "metadata": {},
     "output_type": "execute_result"
    }
   ],
   "source": [
    "(matrix[[0]][0][0])/X_test.shape[0]"
   ]
  },
  {
   "cell_type": "markdown",
   "metadata": {},
   "source": [
    "\\begin{equation}\\text{Sensibilidad}=\\frac{VP}{\\text{Total Positivos}}\\end{equation}"
   ]
  },
  {
   "cell_type": "code",
   "execution_count": 75,
   "metadata": {},
   "outputs": [
    {
     "data": {
      "text/plain": [
       "1.0"
      ]
     },
     "execution_count": 75,
     "metadata": {},
     "output_type": "execute_result"
    }
   ],
   "source": [
    "(matrix[[0]][0][0])/(matrix[[0]][0][0] + matrix[[1]][0][0])"
   ]
  },
  {
   "cell_type": "markdown",
   "metadata": {},
   "source": [
    "\\begin{equation}\\text{Precisión}=\\frac{VP}{\\text{Total clasificados positivos}}\\end{equation}"
   ]
  },
  {
   "cell_type": "code",
   "execution_count": 76,
   "metadata": {},
   "outputs": [
    {
     "data": {
      "text/plain": [
       "1.0"
      ]
     },
     "execution_count": 76,
     "metadata": {},
     "output_type": "execute_result"
    }
   ],
   "source": [
    "(matrix[[1]][0][1])/(matrix[[0]][0][1] + matrix[[1]][0][1])"
   ]
  },
  {
   "cell_type": "markdown",
   "metadata": {},
   "source": [
    "\\begin{equation}\\text{Especificidad}=\\frac{VN}{\\text{Total Negativos}}\\end{equation}"
   ]
  },
  {
   "cell_type": "markdown",
   "metadata": {},
   "source": [
    "## Resultados\n",
    "En conclusión, los valores obtenidos por la clasifición verdaderos positivos estan muy agustados. Por lo cual no se recomienda utilizar este modelo de machine learning."
   ]
  }
 ],
 "metadata": {
  "kernelspec": {
   "display_name": "Python 3",
   "language": "python",
   "name": "python3"
  },
  "language_info": {
   "codemirror_mode": {
    "name": "ipython",
    "version": 3
   },
   "file_extension": ".py",
   "mimetype": "text/x-python",
   "name": "python",
   "nbconvert_exporter": "python",
   "pygments_lexer": "ipython3",
   "version": "3.8.6"
  }
 },
 "nbformat": 4,
 "nbformat_minor": 4
}
