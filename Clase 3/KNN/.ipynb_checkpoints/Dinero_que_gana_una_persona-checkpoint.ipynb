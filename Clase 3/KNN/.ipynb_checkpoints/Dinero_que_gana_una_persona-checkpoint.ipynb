{
 "cells": [
  {
   "cell_type": "markdown",
   "metadata": {},
   "source": [
    "# Investigar si una persona va a ganar o no mas de 50K al año\n",
    "\n",
    "El método de los k vecinos más cercanos (en inglés, k-nearest neighbors, es un método de clasificación supervisada (Aprendizaje, estimación basada en un conjunto de entrenamiento y prototipos), que sirve para estimar la función de densidad de las predictoras por cada clase\n",
    "\n",
    "- Support vector machine\n",
    "\n",
    "### Autores\n",
    "   * Efrén Jiménez"
   ]
  },
  {
   "cell_type": "markdown",
   "metadata": {},
   "source": [
    "## Análisis del Problema\n",
    "\n",
    "Bob ha iniciado su propia empresa de telefonía móvil. Quiere dar una dura batalla a las grandes empresas como Apple, Samsung, etc.\n",
    "\n",
    "No sabe cómo estimar el precio de los móviles que crea su empresa. En este competitivo mercado de la telefonía móvil, no se pueden simplemente asumir cosas. Para solucionar este problema, recopila datos de ventas de teléfonos móviles de varias empresas.\n",
    "\n",
    "Bob quiere averiguar alguna relación entre las características de un teléfono móvil (por ejemplo: - RAM, memoria interna, etc.) y su precio de venta. Pero no es tan bueno en Machine Learning. Entonces necesita tu ayuda para resolver este problema.\n",
    "\n",
    "En este problema, no tiene que predecir el precio real, sino un rango de precios que indica qué tan alto es el precio.\n",
    "\n",
    "![blackbell](https://storage.googleapis.com/kaggle-datasets-images/11167/15520/cbfa0237b28059c7a20ed6ac3daf8b3c/dataset-cover.jpg?t=2018-01-28-09-11-09)"
   ]
  },
  {
   "cell_type": "markdown",
   "metadata": {},
   "source": [
    "### Librerías"
   ]
  },
  {
   "cell_type": "code",
   "execution_count": null,
   "metadata": {},
   "outputs": [],
   "source": [
    "!pip install numpy\n",
    "!pip install pandas"
   ]
  },
  {
   "cell_type": "code",
   "execution_count": 82,
   "metadata": {},
   "outputs": [],
   "source": [
    "import warnings\n",
    "warnings.filterwarnings('ignore')\n",
    "#imports\n",
    "#numpy,pandas,scipy, math, matplotlib\n",
    "import numpy as np\n",
    "import pandas as pd\n",
    "import scipy\n",
    "from math import sqrt\n",
    "import matplotlib.pyplot as plt\n",
    "import seaborn as sns\n",
    "\n",
    "#estimators\n",
    "from sklearn.svm import SVR\n",
    "from sklearn.linear_model import LogisticRegression\n",
    "from sklearn.ensemble import RandomForestClassifier\n",
    "from sklearn.neighbors import KNeighborsClassifier\n",
    "from sklearn.svm import SVC\n",
    "\n",
    "#model metrics\n",
    "from sklearn.metrics import mean_squared_error\n",
    "from sklearn.metrics import r2_score\n",
    "from sklearn.model_selection import cross_val_score\n",
    "from sklearn.metrics import recall_score\n",
    "from sklearn.metrics import precision_score\n",
    "from sklearn import metrics\n",
    "\n",
    "#cross validation\n",
    "from sklearn.model_selection import train_test_split\n",
    "from sklearn.preprocessing import RobustScaler\n",
    "import missingno as msno \n",
    "from sklearn.metrics import confusion_matrix\n",
    "from sklearn.metrics import roc_auc_score\n"
   ]
  },
  {
   "cell_type": "markdown",
   "metadata": {},
   "source": [
    "## Entendimiento de los Datos"
   ]
  },
  {
   "cell_type": "markdown",
   "metadata": {},
   "source": [
    "El total es de 2000 registro con 21 columnas dentro del set de datos de entrenamiento\n",
    "\n",
    "- battery_power,\n",
    "- blue,\n",
    "- clock_speed,\n",
    "- dual_sim,\n",
    "- fc,\n",
    "- four_g,\n",
    "- int_memory,\n",
    "- m_dep,\n",
    "- mobile_wt,\n",
    "- n_cores,\n",
    "- pc,\n",
    "- px_height\n",
    "- ,px_width\n",
    "- ,ram\n",
    "- ,sc_h\n",
    "- ,sc_w,\n",
    "- talk_time,\n",
    "- three_g,\n",
    "- touch_screen,\n",
    "- wifi,\n",
    "- price_range"
   ]
  },
  {
   "cell_type": "code",
   "execution_count": 2,
   "metadata": {},
   "outputs": [],
   "source": [
    "#Cargar los datos\n",
    "train = pd.read_csv(r\"data/train.csv\")\n",
    "test = pd.read_csv(r\"data/test.csv\")"
   ]
  },
  {
   "cell_type": "code",
   "execution_count": 3,
   "metadata": {},
   "outputs": [
    {
     "data": {
      "text/html": [
       "<div>\n",
       "<style scoped>\n",
       "    .dataframe tbody tr th:only-of-type {\n",
       "        vertical-align: middle;\n",
       "    }\n",
       "\n",
       "    .dataframe tbody tr th {\n",
       "        vertical-align: top;\n",
       "    }\n",
       "\n",
       "    .dataframe thead th {\n",
       "        text-align: right;\n",
       "    }\n",
       "</style>\n",
       "<table border=\"1\" class=\"dataframe\">\n",
       "  <thead>\n",
       "    <tr style=\"text-align: right;\">\n",
       "      <th></th>\n",
       "      <th>battery_power</th>\n",
       "      <th>blue</th>\n",
       "      <th>clock_speed</th>\n",
       "      <th>dual_sim</th>\n",
       "      <th>fc</th>\n",
       "      <th>four_g</th>\n",
       "      <th>int_memory</th>\n",
       "      <th>m_dep</th>\n",
       "      <th>mobile_wt</th>\n",
       "      <th>n_cores</th>\n",
       "      <th>...</th>\n",
       "      <th>px_height</th>\n",
       "      <th>px_width</th>\n",
       "      <th>ram</th>\n",
       "      <th>sc_h</th>\n",
       "      <th>sc_w</th>\n",
       "      <th>talk_time</th>\n",
       "      <th>three_g</th>\n",
       "      <th>touch_screen</th>\n",
       "      <th>wifi</th>\n",
       "      <th>price_range</th>\n",
       "    </tr>\n",
       "  </thead>\n",
       "  <tbody>\n",
       "    <tr>\n",
       "      <th>0</th>\n",
       "      <td>842</td>\n",
       "      <td>0</td>\n",
       "      <td>2.2</td>\n",
       "      <td>0</td>\n",
       "      <td>1</td>\n",
       "      <td>0</td>\n",
       "      <td>7</td>\n",
       "      <td>0.6</td>\n",
       "      <td>188</td>\n",
       "      <td>2</td>\n",
       "      <td>...</td>\n",
       "      <td>20</td>\n",
       "      <td>756</td>\n",
       "      <td>2549</td>\n",
       "      <td>9</td>\n",
       "      <td>7</td>\n",
       "      <td>19</td>\n",
       "      <td>0</td>\n",
       "      <td>0</td>\n",
       "      <td>1</td>\n",
       "      <td>1</td>\n",
       "    </tr>\n",
       "    <tr>\n",
       "      <th>1</th>\n",
       "      <td>1021</td>\n",
       "      <td>1</td>\n",
       "      <td>0.5</td>\n",
       "      <td>1</td>\n",
       "      <td>0</td>\n",
       "      <td>1</td>\n",
       "      <td>53</td>\n",
       "      <td>0.7</td>\n",
       "      <td>136</td>\n",
       "      <td>3</td>\n",
       "      <td>...</td>\n",
       "      <td>905</td>\n",
       "      <td>1988</td>\n",
       "      <td>2631</td>\n",
       "      <td>17</td>\n",
       "      <td>3</td>\n",
       "      <td>7</td>\n",
       "      <td>1</td>\n",
       "      <td>1</td>\n",
       "      <td>0</td>\n",
       "      <td>2</td>\n",
       "    </tr>\n",
       "    <tr>\n",
       "      <th>2</th>\n",
       "      <td>563</td>\n",
       "      <td>1</td>\n",
       "      <td>0.5</td>\n",
       "      <td>1</td>\n",
       "      <td>2</td>\n",
       "      <td>1</td>\n",
       "      <td>41</td>\n",
       "      <td>0.9</td>\n",
       "      <td>145</td>\n",
       "      <td>5</td>\n",
       "      <td>...</td>\n",
       "      <td>1263</td>\n",
       "      <td>1716</td>\n",
       "      <td>2603</td>\n",
       "      <td>11</td>\n",
       "      <td>2</td>\n",
       "      <td>9</td>\n",
       "      <td>1</td>\n",
       "      <td>1</td>\n",
       "      <td>0</td>\n",
       "      <td>2</td>\n",
       "    </tr>\n",
       "    <tr>\n",
       "      <th>3</th>\n",
       "      <td>615</td>\n",
       "      <td>1</td>\n",
       "      <td>2.5</td>\n",
       "      <td>0</td>\n",
       "      <td>0</td>\n",
       "      <td>0</td>\n",
       "      <td>10</td>\n",
       "      <td>0.8</td>\n",
       "      <td>131</td>\n",
       "      <td>6</td>\n",
       "      <td>...</td>\n",
       "      <td>1216</td>\n",
       "      <td>1786</td>\n",
       "      <td>2769</td>\n",
       "      <td>16</td>\n",
       "      <td>8</td>\n",
       "      <td>11</td>\n",
       "      <td>1</td>\n",
       "      <td>0</td>\n",
       "      <td>0</td>\n",
       "      <td>2</td>\n",
       "    </tr>\n",
       "    <tr>\n",
       "      <th>4</th>\n",
       "      <td>1821</td>\n",
       "      <td>1</td>\n",
       "      <td>1.2</td>\n",
       "      <td>0</td>\n",
       "      <td>13</td>\n",
       "      <td>1</td>\n",
       "      <td>44</td>\n",
       "      <td>0.6</td>\n",
       "      <td>141</td>\n",
       "      <td>2</td>\n",
       "      <td>...</td>\n",
       "      <td>1208</td>\n",
       "      <td>1212</td>\n",
       "      <td>1411</td>\n",
       "      <td>8</td>\n",
       "      <td>2</td>\n",
       "      <td>15</td>\n",
       "      <td>1</td>\n",
       "      <td>1</td>\n",
       "      <td>0</td>\n",
       "      <td>1</td>\n",
       "    </tr>\n",
       "  </tbody>\n",
       "</table>\n",
       "<p>5 rows × 21 columns</p>\n",
       "</div>"
      ],
      "text/plain": [
       "   battery_power  blue  clock_speed  dual_sim  fc  four_g  int_memory  m_dep  \\\n",
       "0            842     0          2.2         0   1       0           7    0.6   \n",
       "1           1021     1          0.5         1   0       1          53    0.7   \n",
       "2            563     1          0.5         1   2       1          41    0.9   \n",
       "3            615     1          2.5         0   0       0          10    0.8   \n",
       "4           1821     1          1.2         0  13       1          44    0.6   \n",
       "\n",
       "   mobile_wt  n_cores  ...  px_height  px_width   ram  sc_h  sc_w  talk_time  \\\n",
       "0        188        2  ...         20       756  2549     9     7         19   \n",
       "1        136        3  ...        905      1988  2631    17     3          7   \n",
       "2        145        5  ...       1263      1716  2603    11     2          9   \n",
       "3        131        6  ...       1216      1786  2769    16     8         11   \n",
       "4        141        2  ...       1208      1212  1411     8     2         15   \n",
       "\n",
       "   three_g  touch_screen  wifi  price_range  \n",
       "0        0             0     1            1  \n",
       "1        1             1     0            2  \n",
       "2        1             1     0            2  \n",
       "3        1             0     0            2  \n",
       "4        1             1     0            1  \n",
       "\n",
       "[5 rows x 21 columns]"
      ]
     },
     "execution_count": 3,
     "metadata": {},
     "output_type": "execute_result"
    }
   ],
   "source": [
    "#Primeros registros\n",
    "train.head()"
   ]
  },
  {
   "cell_type": "code",
   "execution_count": 4,
   "metadata": {},
   "outputs": [
    {
     "data": {
      "text/html": [
       "<div>\n",
       "<style scoped>\n",
       "    .dataframe tbody tr th:only-of-type {\n",
       "        vertical-align: middle;\n",
       "    }\n",
       "\n",
       "    .dataframe tbody tr th {\n",
       "        vertical-align: top;\n",
       "    }\n",
       "\n",
       "    .dataframe thead th {\n",
       "        text-align: right;\n",
       "    }\n",
       "</style>\n",
       "<table border=\"1\" class=\"dataframe\">\n",
       "  <thead>\n",
       "    <tr style=\"text-align: right;\">\n",
       "      <th></th>\n",
       "      <th>id</th>\n",
       "      <th>battery_power</th>\n",
       "      <th>blue</th>\n",
       "      <th>clock_speed</th>\n",
       "      <th>dual_sim</th>\n",
       "      <th>fc</th>\n",
       "      <th>four_g</th>\n",
       "      <th>int_memory</th>\n",
       "      <th>m_dep</th>\n",
       "      <th>mobile_wt</th>\n",
       "      <th>...</th>\n",
       "      <th>pc</th>\n",
       "      <th>px_height</th>\n",
       "      <th>px_width</th>\n",
       "      <th>ram</th>\n",
       "      <th>sc_h</th>\n",
       "      <th>sc_w</th>\n",
       "      <th>talk_time</th>\n",
       "      <th>three_g</th>\n",
       "      <th>touch_screen</th>\n",
       "      <th>wifi</th>\n",
       "    </tr>\n",
       "  </thead>\n",
       "  <tbody>\n",
       "    <tr>\n",
       "      <th>0</th>\n",
       "      <td>1</td>\n",
       "      <td>1043</td>\n",
       "      <td>1</td>\n",
       "      <td>1.8</td>\n",
       "      <td>1</td>\n",
       "      <td>14</td>\n",
       "      <td>0</td>\n",
       "      <td>5</td>\n",
       "      <td>0.1</td>\n",
       "      <td>193</td>\n",
       "      <td>...</td>\n",
       "      <td>16</td>\n",
       "      <td>226</td>\n",
       "      <td>1412</td>\n",
       "      <td>3476</td>\n",
       "      <td>12</td>\n",
       "      <td>7</td>\n",
       "      <td>2</td>\n",
       "      <td>0</td>\n",
       "      <td>1</td>\n",
       "      <td>0</td>\n",
       "    </tr>\n",
       "    <tr>\n",
       "      <th>1</th>\n",
       "      <td>2</td>\n",
       "      <td>841</td>\n",
       "      <td>1</td>\n",
       "      <td>0.5</td>\n",
       "      <td>1</td>\n",
       "      <td>4</td>\n",
       "      <td>1</td>\n",
       "      <td>61</td>\n",
       "      <td>0.8</td>\n",
       "      <td>191</td>\n",
       "      <td>...</td>\n",
       "      <td>12</td>\n",
       "      <td>746</td>\n",
       "      <td>857</td>\n",
       "      <td>3895</td>\n",
       "      <td>6</td>\n",
       "      <td>0</td>\n",
       "      <td>7</td>\n",
       "      <td>1</td>\n",
       "      <td>0</td>\n",
       "      <td>0</td>\n",
       "    </tr>\n",
       "    <tr>\n",
       "      <th>2</th>\n",
       "      <td>3</td>\n",
       "      <td>1807</td>\n",
       "      <td>1</td>\n",
       "      <td>2.8</td>\n",
       "      <td>0</td>\n",
       "      <td>1</td>\n",
       "      <td>0</td>\n",
       "      <td>27</td>\n",
       "      <td>0.9</td>\n",
       "      <td>186</td>\n",
       "      <td>...</td>\n",
       "      <td>4</td>\n",
       "      <td>1270</td>\n",
       "      <td>1366</td>\n",
       "      <td>2396</td>\n",
       "      <td>17</td>\n",
       "      <td>10</td>\n",
       "      <td>10</td>\n",
       "      <td>0</td>\n",
       "      <td>1</td>\n",
       "      <td>1</td>\n",
       "    </tr>\n",
       "    <tr>\n",
       "      <th>3</th>\n",
       "      <td>4</td>\n",
       "      <td>1546</td>\n",
       "      <td>0</td>\n",
       "      <td>0.5</td>\n",
       "      <td>1</td>\n",
       "      <td>18</td>\n",
       "      <td>1</td>\n",
       "      <td>25</td>\n",
       "      <td>0.5</td>\n",
       "      <td>96</td>\n",
       "      <td>...</td>\n",
       "      <td>20</td>\n",
       "      <td>295</td>\n",
       "      <td>1752</td>\n",
       "      <td>3893</td>\n",
       "      <td>10</td>\n",
       "      <td>0</td>\n",
       "      <td>7</td>\n",
       "      <td>1</td>\n",
       "      <td>1</td>\n",
       "      <td>0</td>\n",
       "    </tr>\n",
       "    <tr>\n",
       "      <th>4</th>\n",
       "      <td>5</td>\n",
       "      <td>1434</td>\n",
       "      <td>0</td>\n",
       "      <td>1.4</td>\n",
       "      <td>0</td>\n",
       "      <td>11</td>\n",
       "      <td>1</td>\n",
       "      <td>49</td>\n",
       "      <td>0.5</td>\n",
       "      <td>108</td>\n",
       "      <td>...</td>\n",
       "      <td>18</td>\n",
       "      <td>749</td>\n",
       "      <td>810</td>\n",
       "      <td>1773</td>\n",
       "      <td>15</td>\n",
       "      <td>8</td>\n",
       "      <td>7</td>\n",
       "      <td>1</td>\n",
       "      <td>0</td>\n",
       "      <td>1</td>\n",
       "    </tr>\n",
       "  </tbody>\n",
       "</table>\n",
       "<p>5 rows × 21 columns</p>\n",
       "</div>"
      ],
      "text/plain": [
       "   id  battery_power  blue  clock_speed  dual_sim  fc  four_g  int_memory  \\\n",
       "0   1           1043     1          1.8         1  14       0           5   \n",
       "1   2            841     1          0.5         1   4       1          61   \n",
       "2   3           1807     1          2.8         0   1       0          27   \n",
       "3   4           1546     0          0.5         1  18       1          25   \n",
       "4   5           1434     0          1.4         0  11       1          49   \n",
       "\n",
       "   m_dep  mobile_wt  ...  pc  px_height  px_width   ram  sc_h  sc_w  \\\n",
       "0    0.1        193  ...  16        226      1412  3476    12     7   \n",
       "1    0.8        191  ...  12        746       857  3895     6     0   \n",
       "2    0.9        186  ...   4       1270      1366  2396    17    10   \n",
       "3    0.5         96  ...  20        295      1752  3893    10     0   \n",
       "4    0.5        108  ...  18        749       810  1773    15     8   \n",
       "\n",
       "   talk_time  three_g  touch_screen  wifi  \n",
       "0          2        0             1     0  \n",
       "1          7        1             0     0  \n",
       "2         10        0             1     1  \n",
       "3          7        1             1     0  \n",
       "4          7        1             0     1  \n",
       "\n",
       "[5 rows x 21 columns]"
      ]
     },
     "execution_count": 4,
     "metadata": {},
     "output_type": "execute_result"
    }
   ],
   "source": [
    "#Primeros registros\n",
    "test.head()"
   ]
  },
  {
   "cell_type": "code",
   "execution_count": 5,
   "metadata": {},
   "outputs": [
    {
     "data": {
      "text/html": [
       "<div>\n",
       "<style scoped>\n",
       "    .dataframe tbody tr th:only-of-type {\n",
       "        vertical-align: middle;\n",
       "    }\n",
       "\n",
       "    .dataframe tbody tr th {\n",
       "        vertical-align: top;\n",
       "    }\n",
       "\n",
       "    .dataframe thead th {\n",
       "        text-align: right;\n",
       "    }\n",
       "</style>\n",
       "<table border=\"1\" class=\"dataframe\">\n",
       "  <thead>\n",
       "    <tr style=\"text-align: right;\">\n",
       "      <th></th>\n",
       "      <th>battery_power</th>\n",
       "      <th>blue</th>\n",
       "      <th>clock_speed</th>\n",
       "      <th>dual_sim</th>\n",
       "      <th>fc</th>\n",
       "      <th>four_g</th>\n",
       "      <th>int_memory</th>\n",
       "      <th>m_dep</th>\n",
       "      <th>mobile_wt</th>\n",
       "      <th>n_cores</th>\n",
       "      <th>...</th>\n",
       "      <th>px_height</th>\n",
       "      <th>px_width</th>\n",
       "      <th>ram</th>\n",
       "      <th>sc_h</th>\n",
       "      <th>sc_w</th>\n",
       "      <th>talk_time</th>\n",
       "      <th>three_g</th>\n",
       "      <th>touch_screen</th>\n",
       "      <th>wifi</th>\n",
       "      <th>price_range</th>\n",
       "    </tr>\n",
       "  </thead>\n",
       "  <tbody>\n",
       "    <tr>\n",
       "      <th>count</th>\n",
       "      <td>2000.000000</td>\n",
       "      <td>2000.0000</td>\n",
       "      <td>2000.000000</td>\n",
       "      <td>2000.000000</td>\n",
       "      <td>2000.000000</td>\n",
       "      <td>2000.000000</td>\n",
       "      <td>2000.000000</td>\n",
       "      <td>2000.000000</td>\n",
       "      <td>2000.000000</td>\n",
       "      <td>2000.000000</td>\n",
       "      <td>...</td>\n",
       "      <td>2000.000000</td>\n",
       "      <td>2000.000000</td>\n",
       "      <td>2000.000000</td>\n",
       "      <td>2000.000000</td>\n",
       "      <td>2000.000000</td>\n",
       "      <td>2000.000000</td>\n",
       "      <td>2000.000000</td>\n",
       "      <td>2000.000000</td>\n",
       "      <td>2000.000000</td>\n",
       "      <td>2000.000000</td>\n",
       "    </tr>\n",
       "    <tr>\n",
       "      <th>mean</th>\n",
       "      <td>1238.518500</td>\n",
       "      <td>0.4950</td>\n",
       "      <td>1.522250</td>\n",
       "      <td>0.509500</td>\n",
       "      <td>4.309500</td>\n",
       "      <td>0.521500</td>\n",
       "      <td>32.046500</td>\n",
       "      <td>0.501750</td>\n",
       "      <td>140.249000</td>\n",
       "      <td>4.520500</td>\n",
       "      <td>...</td>\n",
       "      <td>645.108000</td>\n",
       "      <td>1251.515500</td>\n",
       "      <td>2124.213000</td>\n",
       "      <td>12.306500</td>\n",
       "      <td>5.767000</td>\n",
       "      <td>11.011000</td>\n",
       "      <td>0.761500</td>\n",
       "      <td>0.503000</td>\n",
       "      <td>0.507000</td>\n",
       "      <td>1.500000</td>\n",
       "    </tr>\n",
       "    <tr>\n",
       "      <th>std</th>\n",
       "      <td>439.418206</td>\n",
       "      <td>0.5001</td>\n",
       "      <td>0.816004</td>\n",
       "      <td>0.500035</td>\n",
       "      <td>4.341444</td>\n",
       "      <td>0.499662</td>\n",
       "      <td>18.145715</td>\n",
       "      <td>0.288416</td>\n",
       "      <td>35.399655</td>\n",
       "      <td>2.287837</td>\n",
       "      <td>...</td>\n",
       "      <td>443.780811</td>\n",
       "      <td>432.199447</td>\n",
       "      <td>1084.732044</td>\n",
       "      <td>4.213245</td>\n",
       "      <td>4.356398</td>\n",
       "      <td>5.463955</td>\n",
       "      <td>0.426273</td>\n",
       "      <td>0.500116</td>\n",
       "      <td>0.500076</td>\n",
       "      <td>1.118314</td>\n",
       "    </tr>\n",
       "    <tr>\n",
       "      <th>min</th>\n",
       "      <td>501.000000</td>\n",
       "      <td>0.0000</td>\n",
       "      <td>0.500000</td>\n",
       "      <td>0.000000</td>\n",
       "      <td>0.000000</td>\n",
       "      <td>0.000000</td>\n",
       "      <td>2.000000</td>\n",
       "      <td>0.100000</td>\n",
       "      <td>80.000000</td>\n",
       "      <td>1.000000</td>\n",
       "      <td>...</td>\n",
       "      <td>0.000000</td>\n",
       "      <td>500.000000</td>\n",
       "      <td>256.000000</td>\n",
       "      <td>5.000000</td>\n",
       "      <td>0.000000</td>\n",
       "      <td>2.000000</td>\n",
       "      <td>0.000000</td>\n",
       "      <td>0.000000</td>\n",
       "      <td>0.000000</td>\n",
       "      <td>0.000000</td>\n",
       "    </tr>\n",
       "    <tr>\n",
       "      <th>25%</th>\n",
       "      <td>851.750000</td>\n",
       "      <td>0.0000</td>\n",
       "      <td>0.700000</td>\n",
       "      <td>0.000000</td>\n",
       "      <td>1.000000</td>\n",
       "      <td>0.000000</td>\n",
       "      <td>16.000000</td>\n",
       "      <td>0.200000</td>\n",
       "      <td>109.000000</td>\n",
       "      <td>3.000000</td>\n",
       "      <td>...</td>\n",
       "      <td>282.750000</td>\n",
       "      <td>874.750000</td>\n",
       "      <td>1207.500000</td>\n",
       "      <td>9.000000</td>\n",
       "      <td>2.000000</td>\n",
       "      <td>6.000000</td>\n",
       "      <td>1.000000</td>\n",
       "      <td>0.000000</td>\n",
       "      <td>0.000000</td>\n",
       "      <td>0.750000</td>\n",
       "    </tr>\n",
       "    <tr>\n",
       "      <th>50%</th>\n",
       "      <td>1226.000000</td>\n",
       "      <td>0.0000</td>\n",
       "      <td>1.500000</td>\n",
       "      <td>1.000000</td>\n",
       "      <td>3.000000</td>\n",
       "      <td>1.000000</td>\n",
       "      <td>32.000000</td>\n",
       "      <td>0.500000</td>\n",
       "      <td>141.000000</td>\n",
       "      <td>4.000000</td>\n",
       "      <td>...</td>\n",
       "      <td>564.000000</td>\n",
       "      <td>1247.000000</td>\n",
       "      <td>2146.500000</td>\n",
       "      <td>12.000000</td>\n",
       "      <td>5.000000</td>\n",
       "      <td>11.000000</td>\n",
       "      <td>1.000000</td>\n",
       "      <td>1.000000</td>\n",
       "      <td>1.000000</td>\n",
       "      <td>1.500000</td>\n",
       "    </tr>\n",
       "    <tr>\n",
       "      <th>75%</th>\n",
       "      <td>1615.250000</td>\n",
       "      <td>1.0000</td>\n",
       "      <td>2.200000</td>\n",
       "      <td>1.000000</td>\n",
       "      <td>7.000000</td>\n",
       "      <td>1.000000</td>\n",
       "      <td>48.000000</td>\n",
       "      <td>0.800000</td>\n",
       "      <td>170.000000</td>\n",
       "      <td>7.000000</td>\n",
       "      <td>...</td>\n",
       "      <td>947.250000</td>\n",
       "      <td>1633.000000</td>\n",
       "      <td>3064.500000</td>\n",
       "      <td>16.000000</td>\n",
       "      <td>9.000000</td>\n",
       "      <td>16.000000</td>\n",
       "      <td>1.000000</td>\n",
       "      <td>1.000000</td>\n",
       "      <td>1.000000</td>\n",
       "      <td>2.250000</td>\n",
       "    </tr>\n",
       "    <tr>\n",
       "      <th>max</th>\n",
       "      <td>1998.000000</td>\n",
       "      <td>1.0000</td>\n",
       "      <td>3.000000</td>\n",
       "      <td>1.000000</td>\n",
       "      <td>19.000000</td>\n",
       "      <td>1.000000</td>\n",
       "      <td>64.000000</td>\n",
       "      <td>1.000000</td>\n",
       "      <td>200.000000</td>\n",
       "      <td>8.000000</td>\n",
       "      <td>...</td>\n",
       "      <td>1960.000000</td>\n",
       "      <td>1998.000000</td>\n",
       "      <td>3998.000000</td>\n",
       "      <td>19.000000</td>\n",
       "      <td>18.000000</td>\n",
       "      <td>20.000000</td>\n",
       "      <td>1.000000</td>\n",
       "      <td>1.000000</td>\n",
       "      <td>1.000000</td>\n",
       "      <td>3.000000</td>\n",
       "    </tr>\n",
       "  </tbody>\n",
       "</table>\n",
       "<p>8 rows × 21 columns</p>\n",
       "</div>"
      ],
      "text/plain": [
       "       battery_power       blue  clock_speed     dual_sim           fc  \\\n",
       "count    2000.000000  2000.0000  2000.000000  2000.000000  2000.000000   \n",
       "mean     1238.518500     0.4950     1.522250     0.509500     4.309500   \n",
       "std       439.418206     0.5001     0.816004     0.500035     4.341444   \n",
       "min       501.000000     0.0000     0.500000     0.000000     0.000000   \n",
       "25%       851.750000     0.0000     0.700000     0.000000     1.000000   \n",
       "50%      1226.000000     0.0000     1.500000     1.000000     3.000000   \n",
       "75%      1615.250000     1.0000     2.200000     1.000000     7.000000   \n",
       "max      1998.000000     1.0000     3.000000     1.000000    19.000000   \n",
       "\n",
       "            four_g   int_memory        m_dep    mobile_wt      n_cores  ...  \\\n",
       "count  2000.000000  2000.000000  2000.000000  2000.000000  2000.000000  ...   \n",
       "mean      0.521500    32.046500     0.501750   140.249000     4.520500  ...   \n",
       "std       0.499662    18.145715     0.288416    35.399655     2.287837  ...   \n",
       "min       0.000000     2.000000     0.100000    80.000000     1.000000  ...   \n",
       "25%       0.000000    16.000000     0.200000   109.000000     3.000000  ...   \n",
       "50%       1.000000    32.000000     0.500000   141.000000     4.000000  ...   \n",
       "75%       1.000000    48.000000     0.800000   170.000000     7.000000  ...   \n",
       "max       1.000000    64.000000     1.000000   200.000000     8.000000  ...   \n",
       "\n",
       "         px_height     px_width          ram         sc_h         sc_w  \\\n",
       "count  2000.000000  2000.000000  2000.000000  2000.000000  2000.000000   \n",
       "mean    645.108000  1251.515500  2124.213000    12.306500     5.767000   \n",
       "std     443.780811   432.199447  1084.732044     4.213245     4.356398   \n",
       "min       0.000000   500.000000   256.000000     5.000000     0.000000   \n",
       "25%     282.750000   874.750000  1207.500000     9.000000     2.000000   \n",
       "50%     564.000000  1247.000000  2146.500000    12.000000     5.000000   \n",
       "75%     947.250000  1633.000000  3064.500000    16.000000     9.000000   \n",
       "max    1960.000000  1998.000000  3998.000000    19.000000    18.000000   \n",
       "\n",
       "         talk_time      three_g  touch_screen         wifi  price_range  \n",
       "count  2000.000000  2000.000000   2000.000000  2000.000000  2000.000000  \n",
       "mean     11.011000     0.761500      0.503000     0.507000     1.500000  \n",
       "std       5.463955     0.426273      0.500116     0.500076     1.118314  \n",
       "min       2.000000     0.000000      0.000000     0.000000     0.000000  \n",
       "25%       6.000000     1.000000      0.000000     0.000000     0.750000  \n",
       "50%      11.000000     1.000000      1.000000     1.000000     1.500000  \n",
       "75%      16.000000     1.000000      1.000000     1.000000     2.250000  \n",
       "max      20.000000     1.000000      1.000000     1.000000     3.000000  \n",
       "\n",
       "[8 rows x 21 columns]"
      ]
     },
     "execution_count": 5,
     "metadata": {},
     "output_type": "execute_result"
    }
   ],
   "source": [
    "#Describir dataset\n",
    "train.describe()"
   ]
  },
  {
   "cell_type": "code",
   "execution_count": 6,
   "metadata": {},
   "outputs": [
    {
     "data": {
      "text/html": [
       "<div>\n",
       "<style scoped>\n",
       "    .dataframe tbody tr th:only-of-type {\n",
       "        vertical-align: middle;\n",
       "    }\n",
       "\n",
       "    .dataframe tbody tr th {\n",
       "        vertical-align: top;\n",
       "    }\n",
       "\n",
       "    .dataframe thead th {\n",
       "        text-align: right;\n",
       "    }\n",
       "</style>\n",
       "<table border=\"1\" class=\"dataframe\">\n",
       "  <thead>\n",
       "    <tr style=\"text-align: right;\">\n",
       "      <th></th>\n",
       "      <th>id</th>\n",
       "      <th>battery_power</th>\n",
       "      <th>blue</th>\n",
       "      <th>clock_speed</th>\n",
       "      <th>dual_sim</th>\n",
       "      <th>fc</th>\n",
       "      <th>four_g</th>\n",
       "      <th>int_memory</th>\n",
       "      <th>m_dep</th>\n",
       "      <th>mobile_wt</th>\n",
       "      <th>...</th>\n",
       "      <th>pc</th>\n",
       "      <th>px_height</th>\n",
       "      <th>px_width</th>\n",
       "      <th>ram</th>\n",
       "      <th>sc_h</th>\n",
       "      <th>sc_w</th>\n",
       "      <th>talk_time</th>\n",
       "      <th>three_g</th>\n",
       "      <th>touch_screen</th>\n",
       "      <th>wifi</th>\n",
       "    </tr>\n",
       "  </thead>\n",
       "  <tbody>\n",
       "    <tr>\n",
       "      <th>count</th>\n",
       "      <td>1000.000000</td>\n",
       "      <td>1000.000000</td>\n",
       "      <td>1000.000000</td>\n",
       "      <td>1000.000000</td>\n",
       "      <td>1000.000000</td>\n",
       "      <td>1000.000000</td>\n",
       "      <td>1000.000000</td>\n",
       "      <td>1000.000000</td>\n",
       "      <td>1000.000000</td>\n",
       "      <td>1000.00000</td>\n",
       "      <td>...</td>\n",
       "      <td>1000.000000</td>\n",
       "      <td>1000.000000</td>\n",
       "      <td>1000.000000</td>\n",
       "      <td>1000.000000</td>\n",
       "      <td>1000.000000</td>\n",
       "      <td>1000.000000</td>\n",
       "      <td>1000.000000</td>\n",
       "      <td>1000.000000</td>\n",
       "      <td>1000.00000</td>\n",
       "      <td>1000.000000</td>\n",
       "    </tr>\n",
       "    <tr>\n",
       "      <th>mean</th>\n",
       "      <td>500.500000</td>\n",
       "      <td>1248.510000</td>\n",
       "      <td>0.516000</td>\n",
       "      <td>1.540900</td>\n",
       "      <td>0.517000</td>\n",
       "      <td>4.593000</td>\n",
       "      <td>0.487000</td>\n",
       "      <td>33.652000</td>\n",
       "      <td>0.517500</td>\n",
       "      <td>139.51100</td>\n",
       "      <td>...</td>\n",
       "      <td>10.054000</td>\n",
       "      <td>627.121000</td>\n",
       "      <td>1239.774000</td>\n",
       "      <td>2138.998000</td>\n",
       "      <td>11.995000</td>\n",
       "      <td>5.316000</td>\n",
       "      <td>11.085000</td>\n",
       "      <td>0.756000</td>\n",
       "      <td>0.50000</td>\n",
       "      <td>0.507000</td>\n",
       "    </tr>\n",
       "    <tr>\n",
       "      <th>std</th>\n",
       "      <td>288.819436</td>\n",
       "      <td>432.458227</td>\n",
       "      <td>0.499994</td>\n",
       "      <td>0.829268</td>\n",
       "      <td>0.499961</td>\n",
       "      <td>4.463325</td>\n",
       "      <td>0.500081</td>\n",
       "      <td>18.128694</td>\n",
       "      <td>0.280861</td>\n",
       "      <td>34.85155</td>\n",
       "      <td>...</td>\n",
       "      <td>6.095099</td>\n",
       "      <td>432.929699</td>\n",
       "      <td>439.670981</td>\n",
       "      <td>1088.092278</td>\n",
       "      <td>4.320607</td>\n",
       "      <td>4.240062</td>\n",
       "      <td>5.497636</td>\n",
       "      <td>0.429708</td>\n",
       "      <td>0.50025</td>\n",
       "      <td>0.500201</td>\n",
       "    </tr>\n",
       "    <tr>\n",
       "      <th>min</th>\n",
       "      <td>1.000000</td>\n",
       "      <td>500.000000</td>\n",
       "      <td>0.000000</td>\n",
       "      <td>0.500000</td>\n",
       "      <td>0.000000</td>\n",
       "      <td>0.000000</td>\n",
       "      <td>0.000000</td>\n",
       "      <td>2.000000</td>\n",
       "      <td>0.100000</td>\n",
       "      <td>80.00000</td>\n",
       "      <td>...</td>\n",
       "      <td>0.000000</td>\n",
       "      <td>0.000000</td>\n",
       "      <td>501.000000</td>\n",
       "      <td>263.000000</td>\n",
       "      <td>5.000000</td>\n",
       "      <td>0.000000</td>\n",
       "      <td>2.000000</td>\n",
       "      <td>0.000000</td>\n",
       "      <td>0.00000</td>\n",
       "      <td>0.000000</td>\n",
       "    </tr>\n",
       "    <tr>\n",
       "      <th>25%</th>\n",
       "      <td>250.750000</td>\n",
       "      <td>895.000000</td>\n",
       "      <td>0.000000</td>\n",
       "      <td>0.700000</td>\n",
       "      <td>0.000000</td>\n",
       "      <td>1.000000</td>\n",
       "      <td>0.000000</td>\n",
       "      <td>18.000000</td>\n",
       "      <td>0.300000</td>\n",
       "      <td>109.75000</td>\n",
       "      <td>...</td>\n",
       "      <td>5.000000</td>\n",
       "      <td>263.750000</td>\n",
       "      <td>831.750000</td>\n",
       "      <td>1237.250000</td>\n",
       "      <td>8.000000</td>\n",
       "      <td>2.000000</td>\n",
       "      <td>6.750000</td>\n",
       "      <td>1.000000</td>\n",
       "      <td>0.00000</td>\n",
       "      <td>0.000000</td>\n",
       "    </tr>\n",
       "    <tr>\n",
       "      <th>50%</th>\n",
       "      <td>500.500000</td>\n",
       "      <td>1246.500000</td>\n",
       "      <td>1.000000</td>\n",
       "      <td>1.500000</td>\n",
       "      <td>1.000000</td>\n",
       "      <td>3.000000</td>\n",
       "      <td>0.000000</td>\n",
       "      <td>34.500000</td>\n",
       "      <td>0.500000</td>\n",
       "      <td>139.00000</td>\n",
       "      <td>...</td>\n",
       "      <td>10.000000</td>\n",
       "      <td>564.500000</td>\n",
       "      <td>1250.000000</td>\n",
       "      <td>2153.500000</td>\n",
       "      <td>12.000000</td>\n",
       "      <td>5.000000</td>\n",
       "      <td>11.000000</td>\n",
       "      <td>1.000000</td>\n",
       "      <td>0.50000</td>\n",
       "      <td>1.000000</td>\n",
       "    </tr>\n",
       "    <tr>\n",
       "      <th>75%</th>\n",
       "      <td>750.250000</td>\n",
       "      <td>1629.250000</td>\n",
       "      <td>1.000000</td>\n",
       "      <td>2.300000</td>\n",
       "      <td>1.000000</td>\n",
       "      <td>7.000000</td>\n",
       "      <td>1.000000</td>\n",
       "      <td>49.000000</td>\n",
       "      <td>0.800000</td>\n",
       "      <td>170.00000</td>\n",
       "      <td>...</td>\n",
       "      <td>16.000000</td>\n",
       "      <td>903.000000</td>\n",
       "      <td>1637.750000</td>\n",
       "      <td>3065.500000</td>\n",
       "      <td>16.000000</td>\n",
       "      <td>8.000000</td>\n",
       "      <td>16.000000</td>\n",
       "      <td>1.000000</td>\n",
       "      <td>1.00000</td>\n",
       "      <td>1.000000</td>\n",
       "    </tr>\n",
       "    <tr>\n",
       "      <th>max</th>\n",
       "      <td>1000.000000</td>\n",
       "      <td>1999.000000</td>\n",
       "      <td>1.000000</td>\n",
       "      <td>3.000000</td>\n",
       "      <td>1.000000</td>\n",
       "      <td>19.000000</td>\n",
       "      <td>1.000000</td>\n",
       "      <td>64.000000</td>\n",
       "      <td>1.000000</td>\n",
       "      <td>200.00000</td>\n",
       "      <td>...</td>\n",
       "      <td>20.000000</td>\n",
       "      <td>1907.000000</td>\n",
       "      <td>1998.000000</td>\n",
       "      <td>3989.000000</td>\n",
       "      <td>19.000000</td>\n",
       "      <td>18.000000</td>\n",
       "      <td>20.000000</td>\n",
       "      <td>1.000000</td>\n",
       "      <td>1.00000</td>\n",
       "      <td>1.000000</td>\n",
       "    </tr>\n",
       "  </tbody>\n",
       "</table>\n",
       "<p>8 rows × 21 columns</p>\n",
       "</div>"
      ],
      "text/plain": [
       "                id  battery_power         blue  clock_speed     dual_sim  \\\n",
       "count  1000.000000    1000.000000  1000.000000  1000.000000  1000.000000   \n",
       "mean    500.500000    1248.510000     0.516000     1.540900     0.517000   \n",
       "std     288.819436     432.458227     0.499994     0.829268     0.499961   \n",
       "min       1.000000     500.000000     0.000000     0.500000     0.000000   \n",
       "25%     250.750000     895.000000     0.000000     0.700000     0.000000   \n",
       "50%     500.500000    1246.500000     1.000000     1.500000     1.000000   \n",
       "75%     750.250000    1629.250000     1.000000     2.300000     1.000000   \n",
       "max    1000.000000    1999.000000     1.000000     3.000000     1.000000   \n",
       "\n",
       "                fc       four_g   int_memory        m_dep   mobile_wt  ...  \\\n",
       "count  1000.000000  1000.000000  1000.000000  1000.000000  1000.00000  ...   \n",
       "mean      4.593000     0.487000    33.652000     0.517500   139.51100  ...   \n",
       "std       4.463325     0.500081    18.128694     0.280861    34.85155  ...   \n",
       "min       0.000000     0.000000     2.000000     0.100000    80.00000  ...   \n",
       "25%       1.000000     0.000000    18.000000     0.300000   109.75000  ...   \n",
       "50%       3.000000     0.000000    34.500000     0.500000   139.00000  ...   \n",
       "75%       7.000000     1.000000    49.000000     0.800000   170.00000  ...   \n",
       "max      19.000000     1.000000    64.000000     1.000000   200.00000  ...   \n",
       "\n",
       "                pc    px_height     px_width          ram         sc_h  \\\n",
       "count  1000.000000  1000.000000  1000.000000  1000.000000  1000.000000   \n",
       "mean     10.054000   627.121000  1239.774000  2138.998000    11.995000   \n",
       "std       6.095099   432.929699   439.670981  1088.092278     4.320607   \n",
       "min       0.000000     0.000000   501.000000   263.000000     5.000000   \n",
       "25%       5.000000   263.750000   831.750000  1237.250000     8.000000   \n",
       "50%      10.000000   564.500000  1250.000000  2153.500000    12.000000   \n",
       "75%      16.000000   903.000000  1637.750000  3065.500000    16.000000   \n",
       "max      20.000000  1907.000000  1998.000000  3989.000000    19.000000   \n",
       "\n",
       "              sc_w    talk_time      three_g  touch_screen         wifi  \n",
       "count  1000.000000  1000.000000  1000.000000    1000.00000  1000.000000  \n",
       "mean      5.316000    11.085000     0.756000       0.50000     0.507000  \n",
       "std       4.240062     5.497636     0.429708       0.50025     0.500201  \n",
       "min       0.000000     2.000000     0.000000       0.00000     0.000000  \n",
       "25%       2.000000     6.750000     1.000000       0.00000     0.000000  \n",
       "50%       5.000000    11.000000     1.000000       0.50000     1.000000  \n",
       "75%       8.000000    16.000000     1.000000       1.00000     1.000000  \n",
       "max      18.000000    20.000000     1.000000       1.00000     1.000000  \n",
       "\n",
       "[8 rows x 21 columns]"
      ]
     },
     "execution_count": 6,
     "metadata": {},
     "output_type": "execute_result"
    }
   ],
   "source": [
    "#Describir dataset\n",
    "test.describe()"
   ]
  },
  {
   "cell_type": "code",
   "execution_count": 7,
   "metadata": {},
   "outputs": [
    {
     "name": "stdout",
     "output_type": "stream",
     "text": [
      "<class 'pandas.core.frame.DataFrame'>\n",
      "RangeIndex: 2000 entries, 0 to 1999\n",
      "Data columns (total 21 columns):\n",
      " #   Column         Non-Null Count  Dtype  \n",
      "---  ------         --------------  -----  \n",
      " 0   battery_power  2000 non-null   int64  \n",
      " 1   blue           2000 non-null   int64  \n",
      " 2   clock_speed    2000 non-null   float64\n",
      " 3   dual_sim       2000 non-null   int64  \n",
      " 4   fc             2000 non-null   int64  \n",
      " 5   four_g         2000 non-null   int64  \n",
      " 6   int_memory     2000 non-null   int64  \n",
      " 7   m_dep          2000 non-null   float64\n",
      " 8   mobile_wt      2000 non-null   int64  \n",
      " 9   n_cores        2000 non-null   int64  \n",
      " 10  pc             2000 non-null   int64  \n",
      " 11  px_height      2000 non-null   int64  \n",
      " 12  px_width       2000 non-null   int64  \n",
      " 13  ram            2000 non-null   int64  \n",
      " 14  sc_h           2000 non-null   int64  \n",
      " 15  sc_w           2000 non-null   int64  \n",
      " 16  talk_time      2000 non-null   int64  \n",
      " 17  three_g        2000 non-null   int64  \n",
      " 18  touch_screen   2000 non-null   int64  \n",
      " 19  wifi           2000 non-null   int64  \n",
      " 20  price_range    2000 non-null   int64  \n",
      "dtypes: float64(2), int64(19)\n",
      "memory usage: 328.2 KB\n"
     ]
    }
   ],
   "source": [
    "#Información del dataset\n",
    "train.info()"
   ]
  },
  {
   "cell_type": "code",
   "execution_count": 8,
   "metadata": {},
   "outputs": [
    {
     "name": "stdout",
     "output_type": "stream",
     "text": [
      "Cantidad de registros: 2000\n",
      "Cantidad de columnas: 21\n",
      "Tipo de datos: [dtype('int64') dtype('float64')]\n",
      "Filas y columnas: (2000, 21)\n"
     ]
    }
   ],
   "source": [
    "# Numero de registros del dataset\n",
    "print(\"Cantidad de registros:\",len(train))\n",
    "# Cantidad de columnas del dataset\n",
    "print(\"Cantidad de columnas:\",len(train.columns))\n",
    "# Tipos de datos del dataset\n",
    "print(\"Tipo de datos:\",train.dtypes.unique())\n",
    "# Tamaño del daset\n",
    "print(\"Filas y columnas:\",train.shape)"
   ]
  },
  {
   "cell_type": "code",
   "execution_count": 9,
   "metadata": {},
   "outputs": [
    {
     "name": "stdout",
     "output_type": "stream",
     "text": [
      "Cantidad de registros: 1000\n",
      "Cantidad de columnas: 21\n",
      "Tipo de datos: [dtype('int64') dtype('float64')]\n",
      "Filas y columnas: (1000, 21)\n"
     ]
    }
   ],
   "source": [
    "# Numero de registros del dataset\n",
    "print(\"Cantidad de registros:\",len(test))\n",
    "# Cantidad de columnas del dataset\n",
    "print(\"Cantidad de columnas:\",len(test.columns))\n",
    "# Tipos de datos del dataset\n",
    "print(\"Tipo de datos:\",test.dtypes.unique())\n",
    "# Tamaño del daset\n",
    "print(\"Filas y columnas:\",test.shape)"
   ]
  },
  {
   "cell_type": "code",
   "execution_count": 10,
   "metadata": {},
   "outputs": [
    {
     "name": "stdout",
     "output_type": "stream",
     "text": [
      "0  /  21\n"
     ]
    }
   ],
   "source": [
    "# Chekear valores nulos\n",
    "print(train.isnull().any().sum(), ' / ', len(train.columns))"
   ]
  },
  {
   "cell_type": "code",
   "execution_count": 11,
   "metadata": {},
   "outputs": [
    {
     "name": "stdout",
     "output_type": "stream",
     "text": [
      "0  /  21\n"
     ]
    }
   ],
   "source": [
    "# Chekear valores nulos\n",
    "print(test.isnull().any().sum(), ' / ', len(test.columns))"
   ]
  },
  {
   "cell_type": "code",
   "execution_count": 12,
   "metadata": {},
   "outputs": [
    {
     "data": {
      "text/plain": [
       "Series([], dtype: int64)"
      ]
     },
     "execution_count": 12,
     "metadata": {},
     "output_type": "execute_result"
    }
   ],
   "source": [
    "#Cuales columnnas estas con valores nulos\n",
    "train.isnull().sum()[train.isnull().sum() > 0]"
   ]
  },
  {
   "cell_type": "code",
   "execution_count": 13,
   "metadata": {},
   "outputs": [
    {
     "data": {
      "text/plain": [
       "Series([], dtype: int64)"
      ]
     },
     "execution_count": 13,
     "metadata": {},
     "output_type": "execute_result"
    }
   ],
   "source": [
    "#Cuales columnnas estas con valores nulos\n",
    "test.isnull().sum()[test.isnull().sum() > 0]"
   ]
  },
  {
   "cell_type": "code",
   "execution_count": 14,
   "metadata": {},
   "outputs": [],
   "source": [
    "# N/A= Valores vacios \n",
    "#Usar solo si se quiere eliminar los registros que contienen columnas vacías\n",
    "train=train.dropna() "
   ]
  },
  {
   "cell_type": "code",
   "execution_count": 15,
   "metadata": {},
   "outputs": [],
   "source": [
    "# N/A= Valores vacios \n",
    "#Usar solo si se quiere eliminar los registros que contienen columnas vacías\n",
    "test=test.dropna() "
   ]
  },
  {
   "cell_type": "code",
   "execution_count": 16,
   "metadata": {},
   "outputs": [
    {
     "data": {
      "text/plain": [
       "array([1, 2, 3, 0], dtype=int64)"
      ]
     },
     "execution_count": 16,
     "metadata": {},
     "output_type": "execute_result"
    }
   ],
   "source": [
    "train[\"price_range\"].unique()"
   ]
  },
  {
   "cell_type": "code",
   "execution_count": 17,
   "metadata": {},
   "outputs": [
    {
     "data": {
      "text/plain": [
       "3    0.25\n",
       "2    0.25\n",
       "1    0.25\n",
       "0    0.25\n",
       "Name: price_range, dtype: float64"
      ]
     },
     "execution_count": 17,
     "metadata": {},
     "output_type": "execute_result"
    }
   ],
   "source": [
    "train['price_range'].value_counts(normalize=True)"
   ]
  },
  {
   "cell_type": "code",
   "execution_count": 103,
   "metadata": {},
   "outputs": [
    {
     "data": {
      "text/plain": [
       "<AxesSubplot:xlabel='price_range', ylabel='count'>"
      ]
     },
     "execution_count": 103,
     "metadata": {},
     "output_type": "execute_result"
    },
    {
     "data": {
      "image/png": "[encoded data removed]",
      "text/plain": [
       "<Figure size 432x288 with 1 Axes>"
      ]
     },
     "metadata": {
      "needs_background": "light"
     },
     "output_type": "display_data"
    }
   ],
   "source": [
    "sns.countplot(train['price_range'])"
   ]
  },
  {
   "cell_type": "markdown",
   "metadata": {},
   "source": [
    "## Exploración de los Datos"
   ]
  },
  {
   "cell_type": "markdown",
   "metadata": {},
   "source": [
    "#### Gráficos exploratorios"
   ]
  },
  {
   "cell_type": "code",
   "execution_count": 91,
   "metadata": {},
   "outputs": [
    {
     "data": {
      "image/png": "[encoded data removed]",
      "text/plain": [
       "<Figure size 1080x432 with 3 Axes>"
      ]
     },
     "metadata": {
      "needs_background": "light"
     },
     "output_type": "display_data"
    }
   ],
   "source": [
    "plt.figure(1 , figsize = (15 , 6))\n",
    "n = 0 \n",
    "for x in ['battery_power' , 'wifi' , 'ram']:\n",
    "    n += 1\n",
    "    plt.subplot(1 , 3 , n)\n",
    "    plt.subplots_adjust(hspace =1 , wspace = 1)\n",
    "    sns.distplot(train[x] , bins = 20)\n",
    "    plt.title('Distribucion de {}'.format(x))\n",
    "plt.show()"
   ]
  },
  {
   "cell_type": "code",
   "execution_count": 92,
   "metadata": {},
   "outputs": [
    {
     "data": {
      "image/png": "[encoded data removed]",
      "text/plain": [
       "<Figure size 1080x360 with 1 Axes>"
      ]
     },
     "metadata": {
      "needs_background": "light"
     },
     "output_type": "display_data"
    }
   ],
   "source": [
    "plt.figure(1 , figsize = (15 , 5))\n",
    "sns.countplot(y = 'price_range' , data = train)\n",
    "plt.show()"
   ]
  },
  {
   "cell_type": "code",
   "execution_count": 93,
   "metadata": {},
   "outputs": [
    {
     "data": {
      "image/png": "[encoded data removed]",
      "text/plain": [
       "<Figure size 1080x504 with 9 Axes>"
      ]
     },
     "metadata": {
      "needs_background": "light"
     },
     "output_type": "display_data"
    }
   ],
   "source": [
    "plt.figure(1 , figsize = (15 , 7))\n",
    "n = 0 \n",
    "for x in ['battery_power' , 'wifi' , 'ram']:\n",
    "    for y in ['battery_power' , 'wifi' , 'ram']:\n",
    "        n += 1\n",
    "        plt.subplot(3 , 3 , n)\n",
    "        plt.subplots_adjust(hspace = 0.5 , wspace = 0.5)\n",
    "        sns.regplot(x = x , y = y , data = train)\n",
    "        plt.ylabel(y.split()[0]+' '+y.split()[1] if len(y.split()) > 1 else y )\n",
    "plt.show()"
   ]
  },
  {
   "cell_type": "code",
   "execution_count": 104,
   "metadata": {},
   "outputs": [
    {
     "data": {
      "text/plain": [
       "Text(0.5, 1.0, 'Distribucion de los nucleos de los celulares')"
      ]
     },
     "execution_count": 104,
     "metadata": {},
     "output_type": "execute_result"
    },
    {
     "data": {
      "image/png": "[encoded data removed]",
      "text/plain": [
       "<Figure size 504x504 with 1 Axes>"
      ]
     },
     "metadata": {},
     "output_type": "display_data"
    }
   ],
   "source": [
    "labels = train.n_cores.value_counts().index\n",
    "colors = ['green','blue','red','yellow','orange','gray','lime','pink']\n",
    "explode = [0,0,0,0,0,0,0,0,]\n",
    "sizes = train.n_cores.value_counts().values\n",
    "\n",
    "# visual\n",
    "plt.figure(figsize = (7,7))\n",
    "plt.pie(sizes, explode=explode, labels=labels, colors=colors, autopct='%1.1f%%')\n",
    "plt.title('Distribucion de los nucleos de los celulares',color = 'blue',fontsize = 15)"
   ]
  },
  {
   "cell_type": "code",
   "execution_count": 105,
   "metadata": {},
   "outputs": [
    {
     "data": {
      "image/png": "[encoded data removed]",
      "text/plain": [
       "<Figure size 432x288 with 1 Axes>"
      ]
     },
     "metadata": {
      "needs_background": "light"
     },
     "output_type": "display_data"
    }
   ],
   "source": [
    "sns.boxplot(x=\"price_range\", y=\"int_memory\", hue=\"price_range\", data=train, palette=\"PRGn\")\n",
    "plt.show()"
   ]
  },
  {
   "cell_type": "code",
   "execution_count": 106,
   "metadata": {},
   "outputs": [
    {
     "data": {
      "image/png": "[encoded data removed]",
      "text/plain": [
       "<Figure size 432x288 with 1 Axes>"
      ]
     },
     "metadata": {
      "needs_background": "light"
     },
     "output_type": "display_data"
    }
   ],
   "source": [
    "sns.swarmplot(x=\"price_range\", y=\"clock_speed\",hue=\"price_range\", data=train)\n",
    "plt.show()"
   ]
  },
  {
   "cell_type": "code",
   "execution_count": 107,
   "metadata": {},
   "outputs": [
    {
     "data": {
      "image/png": "[encoded data removed]",
      "text/plain": [
       "<Figure size 432x288 with 1 Axes>"
      ]
     },
     "metadata": {
      "needs_background": "light"
     },
     "output_type": "display_data"
    }
   ],
   "source": [
    "sns.swarmplot(x=\"price_range\", y=\"dual_sim\",hue=\"price_range\", data=train)\n",
    "plt.show()"
   ]
  },
  {
   "cell_type": "markdown",
   "metadata": {},
   "source": [
    "Dividir el conjunto de datos en uno de entrenamiento y otro de pruebas:"
   ]
  },
  {
   "cell_type": "code",
   "execution_count": 108,
   "metadata": {},
   "outputs": [],
   "source": [
    "\n",
    "from sklearn.model_selection import train_test_split\n",
    "X_train, X_test, y_train, y_test = train_test_split(train[[\"battery_power\",\"blue\",\"clock_speed\",\"dual_sim\",\"fc\",\"four_g\",\"int_memory\",\n",
    "                                               \"m_dep\",\"mobile_wt\",\"n_cores\",\"pc\",\"px_height\",\"px_width\",\"ram\",\"sc_h\",\"sc_w\",\n",
    "                                               \"talk_time\",\"three_g\",\"touch_screen\",\"wifi\"]],train[[\"price_range\"]], test_size=0.3, random_state=1234)"
   ]
  },
  {
   "cell_type": "markdown",
   "metadata": {},
   "source": [
    ">Es importante siempre validar los rangos de los conjuntos de datos creados, para evitar caer en extrapolación:"
   ]
  },
  {
   "cell_type": "code",
   "execution_count": 56,
   "metadata": {},
   "outputs": [
    {
     "name": "stdout",
     "output_type": "stream",
     "text": [
      "Entrenamiento dimensiones (1400, 20)\n",
      "Descripción\n"
     ]
    },
    {
     "data": {
      "text/plain": [
       "<bound method NDFrame.describe of       battery_power  blue  clock_speed  dual_sim  fc  four_g  int_memory  \\\n",
       "1249            504     1          2.8         1   2       0          54   \n",
       "652            1462     1          1.7         1   1       0          25   \n",
       "238            1330     0          0.5         0   0       0          38   \n",
       "697            1567     0          0.5         1   3       0          22   \n",
       "1618            502     0          0.8         0   7       0          52   \n",
       "...             ...   ...          ...       ...  ..     ...         ...   \n",
       "1228           1820     1          1.7         1   0       1          64   \n",
       "1077           1569     0          0.8         1   8       0          59   \n",
       "1318           1275     1          0.5         1   3       1           5   \n",
       "723            1271     0          0.5         1   2       0          54   \n",
       "815            1512     1          0.5         0   1       0          52   \n",
       "\n",
       "      m_dep  mobile_wt  n_cores  pc  px_height  px_width   ram  sc_h  sc_w  \\\n",
       "1249    0.4        163        2  10       1207      1539  2378    17    11   \n",
       "652     0.2        182        7  18         91      1478   824    15     5   \n",
       "238     1.0        183        7   1       1290      1441  1733     9     0   \n",
       "697     0.5        119        6   6        545      1621  2312     9     1   \n",
       "1618    1.0         82        6   8        281      1159  2666     5     4   \n",
       "...     ...        ...      ...  ..        ...       ...   ...   ...   ...   \n",
       "1228    0.6        161        1   3       1157      1951   574    10     2   \n",
       "1077    0.9        111        3  16       1261      1383  3672    15     2   \n",
       "1318    0.2        152        1   9         19       501  3784    13     4   \n",
       "723     0.1        159        8   3        613       650   990    14    11   \n",
       "815     0.1        131        1  14        333       952  3002     6     5   \n",
       "\n",
       "      talk_time  three_g  touch_screen  wifi  \n",
       "1249          2        1             0     0  \n",
       "652          13        1             0     1  \n",
       "238          11        1             0     1  \n",
       "697          18        1             0     0  \n",
       "1618         20        1             1     0  \n",
       "...         ...      ...           ...   ...  \n",
       "1228         18        1             1     0  \n",
       "1077         15        1             0     1  \n",
       "1318          4        1             1     0  \n",
       "723           6        0             1     1  \n",
       "815           7        0             0     1  \n",
       "\n",
       "[1400 rows x 20 columns]>"
      ]
     },
     "execution_count": 56,
     "metadata": {},
     "output_type": "execute_result"
    }
   ],
   "source": [
    "print(\"Entrenamiento dimensiones\",X_train.shape)\n",
    "print(\"Descripción\")\n",
    "X_train.describe"
   ]
  },
  {
   "cell_type": "code",
   "execution_count": 58,
   "metadata": {},
   "outputs": [
    {
     "name": "stdout",
     "output_type": "stream",
     "text": [
      "Pruebas dimensiones (600, 20)\n",
      "Descripción\n"
     ]
    },
    {
     "data": {
      "text/plain": [
       "<bound method NDFrame.describe of       battery_power  blue  clock_speed  dual_sim  fc  four_g  int_memory  \\\n",
       "1748            936     1          2.3         0   5       1          57   \n",
       "934             553     0          0.5         1   2       1          23   \n",
       "1033           1632     1          1.4         0   0       0          41   \n",
       "243            1918     0          1.9         0   2       0          10   \n",
       "928            1349     1          2.2         1   5       0          55   \n",
       "...             ...   ...          ...       ...  ..     ...         ...   \n",
       "1016            551     1          2.8         0   0       1          54   \n",
       "894            1497     1          0.7         0   5       0          32   \n",
       "305            1348     0          2.0         0  18       0          52   \n",
       "272            1053     1          0.8         1   7       1          45   \n",
       "1429           1581     1          1.0         0   9       0          41   \n",
       "\n",
       "      m_dep  mobile_wt  n_cores  pc  px_height  px_width   ram  sc_h  sc_w  \\\n",
       "1748    0.2        129        2   6        657       938  2049    12     8   \n",
       "934     0.5        119        3   3        993      1517  2981     7     3   \n",
       "1033    0.1        132        4   1        706      1623  2614     5     4   \n",
       "243     0.6        110        5  10       1170      1543  1717     7     1   \n",
       "928     0.1        105        7   7        648      1019  2462    15     7   \n",
       "...     ...        ...      ...  ..        ...       ...   ...   ...   ...   \n",
       "1016    0.1        172        7  15        169      1916  1414     6     1   \n",
       "894     0.7         92        3   9       1920      1933  1329     6     1   \n",
       "305     0.3         98        3  20       1869      1942   955    18    11   \n",
       "272     0.3        103        1  12        594      1767  3086    17     6   \n",
       "1429    0.4        172        4  19        693       850  1384    19     9   \n",
       "\n",
       "      talk_time  three_g  touch_screen  wifi  \n",
       "1748          5        1             1     0  \n",
       "934          14        1             0     0  \n",
       "1033         15        1             0     0  \n",
       "243          16        1             1     1  \n",
       "928          17        1             0     1  \n",
       "...         ...      ...           ...   ...  \n",
       "1016         19        1             0     1  \n",
       "894           7        1             1     0  \n",
       "305           7        1             1     1  \n",
       "272           5        1             1     1  \n",
       "1429          2        0             1     1  \n",
       "\n",
       "[600 rows x 20 columns]>"
      ]
     },
     "execution_count": 58,
     "metadata": {},
     "output_type": "execute_result"
    }
   ],
   "source": [
    "print(\"Pruebas dimensiones\",X_test.shape)\n",
    "print(\"Descripción\")\n",
    "X_test.describe"
   ]
  },
  {
   "cell_type": "markdown",
   "metadata": {},
   "source": [
    "## Modelo de Machine Learning"
   ]
  },
  {
   "cell_type": "markdown",
   "metadata": {},
   "source": [
    "Una vez seleccionadas las variables para incluir en el modelo de regresión, se procede a crearlo:"
   ]
  },
  {
   "cell_type": "code",
   "execution_count": 59,
   "metadata": {},
   "outputs": [],
   "source": [
    "#-------------- \n",
    "# kernel SVM \n",
    "#--------------\n",
    "classifier1 = SVC(kernel=\"rbf\",C=1.0,probability=True)"
   ]
  },
  {
   "cell_type": "code",
   "execution_count": 60,
   "metadata": {},
   "outputs": [
    {
     "name": "stderr",
     "output_type": "stream",
     "text": [
      "c:\\users\\efren\\appdata\\local\\programs\\python\\python38\\lib\\site-packages\\sklearn\\utils\\validation.py:72: DataConversionWarning: A column-vector y was passed when a 1d array was expected. Please change the shape of y to (n_samples, ), for example using ravel().\n",
      "  return f(**kwargs)\n"
     ]
    },
    {
     "data": {
      "text/plain": [
       "SVC(probability=True)"
      ]
     },
     "execution_count": 60,
     "metadata": {},
     "output_type": "execute_result"
    }
   ],
   "source": [
    "# Entrenamos nuestro modelo\n",
    "classifier1.fit(X_train, y_train)"
   ]
  },
  {
   "cell_type": "code",
   "execution_count": 113,
   "metadata": {},
   "outputs": [],
   "source": [
    "# Hacemos las predicciones que en definitiva una línea (en este caso, al ser 2D)\n",
    "y_pred1 = classifier1.predict( X_test )"
   ]
  },
  {
   "cell_type": "code",
   "execution_count": 114,
   "metadata": {},
   "outputs": [
    {
     "data": {
      "text/plain": [
       "array([1, 2, 3, 2, 2, 2, 1, 3, 1, 3, 3, 3, 0, 2, 3, 0, 3, 3, 2, 2, 0, 1,\n",
       "       1, 0, 3, 2, 0, 3, 1, 0, 2, 0, 3, 3, 3, 3, 3, 3, 0, 2, 3, 1, 3, 2,\n",
       "       1, 0, 2, 2, 0, 3, 3, 0, 1, 2, 1, 3, 3, 1, 2, 1, 1, 2, 2, 1, 2, 1,\n",
       "       0, 3, 3, 3, 0, 3, 1, 3, 1, 2, 1, 2, 3, 3, 3, 2, 1, 0, 2, 3, 2, 3,\n",
       "       3, 1, 1, 2, 0, 1, 3, 0, 1, 3, 2, 2, 0, 1, 0, 2, 3, 2, 3, 3, 1, 1,\n",
       "       2, 2, 0, 1, 2, 3, 3, 2, 2, 1, 1, 0, 1, 2, 3, 1, 1, 1, 1, 0, 1, 1,\n",
       "       0, 0, 0, 1, 3, 1, 2, 0, 3, 3, 1, 1, 3, 0, 2, 0, 2, 0, 0, 3, 0, 3,\n",
       "       1, 3, 2, 2, 1, 2, 2, 2, 0, 2, 2, 1, 1, 2, 0, 0, 2, 3, 1, 1, 3, 1,\n",
       "       3, 0, 2, 2, 3, 1, 1, 0, 0, 0, 2, 1, 0, 1, 0, 0, 0, 2, 2, 0, 1, 0,\n",
       "       1, 1, 2, 3, 3, 0, 2, 1, 3, 3, 1, 3, 0, 0, 3, 1, 2, 3, 3, 2, 3, 3,\n",
       "       3, 2, 0, 3, 0, 3, 1, 0, 2, 3, 0, 0, 2, 1, 3, 1, 3, 1, 1, 1, 3, 1,\n",
       "       2, 0, 1, 3, 3, 2, 3, 1, 1, 3, 1, 3, 2, 0, 2, 1, 0, 2, 3, 1, 0, 0,\n",
       "       0, 0, 1, 3, 2, 2, 1, 0, 3, 0, 0, 2, 3, 0, 3, 3, 1, 1, 3, 0, 0, 2,\n",
       "       0, 0, 0, 1, 0, 2, 2, 1, 2, 0, 0, 0, 0, 3, 3, 2, 0, 0, 3, 1, 3, 2,\n",
       "       0, 0, 1, 2, 2, 3, 1, 3, 3, 2, 1, 1, 2, 2, 1, 3, 3, 2, 2, 0, 3, 1,\n",
       "       0, 2, 1, 3, 0, 0, 2, 1, 1, 0, 2, 3, 3, 1, 3, 1, 0, 3, 3, 1, 2, 1,\n",
       "       3, 0, 0, 0, 3, 1, 0, 2, 3, 2, 3, 0, 1, 2, 3, 2, 3, 2, 2, 1, 0, 1,\n",
       "       3, 2, 3, 1, 1, 2, 3, 0, 0, 3, 0, 1, 2, 0, 1, 1, 3, 0, 2, 3, 3, 0,\n",
       "       1, 0, 3, 0, 3, 3, 1, 3, 0, 3, 3, 2, 3, 2, 2, 1, 2, 2, 0, 3, 0, 1,\n",
       "       2, 3, 3, 2, 0, 1, 1, 1, 0, 0, 3, 1, 3, 0, 3, 3, 2, 3, 0, 1, 2, 3,\n",
       "       0, 0, 2, 1, 3, 0, 3, 3, 2, 0, 0, 1, 3, 0, 2, 2, 3, 2, 2, 0, 3, 1,\n",
       "       2, 3, 0, 0, 0, 1, 1, 1, 1, 3, 0, 0, 1, 2, 0, 0, 3, 3, 2, 3, 1, 0,\n",
       "       1, 1, 2, 1, 3, 1, 0, 2, 3, 2, 2, 1, 3, 2, 1, 1, 0, 1, 0, 3, 0, 0,\n",
       "       2, 1, 2, 3, 3, 0, 1, 3, 2, 3, 1, 3, 2, 1, 3, 2, 0, 0, 1, 0, 0, 1,\n",
       "       1, 1, 2, 1, 0, 2, 3, 3, 1, 2, 1, 2, 0, 2, 2, 0, 1, 1, 1, 2, 3, 0,\n",
       "       0, 2, 1, 3, 3, 0, 3, 1, 1, 0, 3, 2, 3, 2, 3, 1, 2, 1, 2, 2, 3, 2,\n",
       "       2, 0, 3, 3, 2, 1, 1, 1, 3, 0, 1, 3, 3, 0, 3, 1, 1, 1, 2, 1, 2, 3,\n",
       "       2, 0, 1, 1, 3, 1], dtype=int64)"
      ]
     },
     "execution_count": 114,
     "metadata": {},
     "output_type": "execute_result"
    }
   ],
   "source": [
    "y_pred1"
   ]
  },
  {
   "cell_type": "code",
   "execution_count": 63,
   "metadata": {},
   "outputs": [
    {
     "data": {
      "text/plain": [
       "array([9.96316443e-01, 9.48130247e-04, 7.76915180e-03, 2.08355262e-02,\n",
       "       1.67014260e-03, 1.77216812e-03, 8.83534815e-01, 1.04866069e-07,\n",
       "       9.89132440e-01, 8.08711671e-07, 2.14636416e-07, 2.30133326e-03,\n",
       "       1.42708636e-02, 2.92878342e-03, 1.96362383e-07, 1.83597177e-07,\n",
       "       3.29367021e-07, 1.00708125e-02, 2.03550927e-02, 6.39436769e-02,\n",
       "       1.41040206e-07, 9.72758819e-01, 7.32335229e-01, 4.84533235e-07,\n",
       "       2.48637560e-03, 1.30237992e-02, 2.49111043e-02, 5.15150634e-08,\n",
       "       9.94060000e-01, 6.76819478e-02, 6.23940311e-07, 4.20794367e-06,\n",
       "       5.26627306e-04, 3.67784827e-07, 3.55580561e-04, 2.45430267e-04,\n",
       "       1.16681226e-03, 2.79812345e-04, 9.96067631e-03, 1.26079950e-03,\n",
       "       4.37630620e-04, 7.05471835e-01, 1.11613952e-06, 4.65992141e-03,\n",
       "       9.07211873e-01, 2.44405711e-03, 1.56135086e-02, 1.51654955e-06,\n",
       "       4.77811411e-04, 7.53384630e-04, 3.86728721e-04, 2.39553766e-03,\n",
       "       8.59097278e-01, 4.18511617e-03, 9.91748868e-01, 9.46791159e-04,\n",
       "       1.12021877e-07, 9.97977322e-01, 9.07903625e-06, 9.07838297e-01,\n",
       "       8.71023287e-01, 2.47520954e-04, 2.47962299e-03, 9.97537365e-01,\n",
       "       1.20686315e-02, 9.98980146e-01, 2.80458420e-07, 7.65533825e-07,\n",
       "       8.75265825e-04, 6.67115118e-07, 2.92263580e-06, 1.41311352e-04,\n",
       "       9.82717513e-01, 1.94893450e-07, 5.96860607e-01, 6.95051725e-07,\n",
       "       9.50851738e-01, 1.17284619e-05, 4.37416442e-03, 1.02304619e-07,\n",
       "       8.71423038e-07, 3.48548730e-03, 8.65830545e-01, 5.57160197e-04,\n",
       "       4.59018893e-04, 7.38362433e-08, 1.11098636e-01, 4.35070053e-07,\n",
       "       1.23604488e-06, 7.90043847e-01, 9.76321673e-01, 1.47767090e-06,\n",
       "       6.21967671e-07, 6.10151347e-01, 3.95936221e-03, 7.82999101e-04,\n",
       "       9.80765119e-01, 5.35877620e-03, 4.64017007e-03, 4.17251493e-03,\n",
       "       2.15526728e-01, 7.47221078e-01, 4.08100361e-05, 8.39566727e-03,\n",
       "       1.73194960e-07, 2.85051236e-03, 6.88058842e-07, 6.50692949e-03,\n",
       "       9.99224409e-01, 7.68023021e-01, 2.39203509e-01, 5.91492598e-03,\n",
       "       1.94390644e-01, 9.98378666e-01, 1.38344592e-06, 2.29139383e-04,\n",
       "       7.59134205e-03, 1.68578777e-06, 5.13195841e-02, 9.21893556e-01,\n",
       "       9.66626245e-01, 2.08241148e-04, 8.85095956e-01, 4.50119426e-03,\n",
       "       5.19613758e-04, 9.60558876e-01, 7.01261035e-01, 9.82433305e-01,\n",
       "       9.99500638e-01, 3.48677774e-01, 9.24500315e-01, 9.69852393e-01,\n",
       "       8.29477451e-07, 5.03324190e-03, 4.49398642e-07, 9.98822296e-01,\n",
       "       3.02838164e-03, 6.67248072e-01, 8.62282066e-02, 3.84810973e-05,\n",
       "       3.60863828e-04, 4.02507373e-03, 9.92955906e-01, 9.12819314e-01,\n",
       "       2.31526914e-07, 9.64052101e-07, 2.31476763e-01, 2.22231161e-02,\n",
       "       1.85193514e-03, 4.13460721e-06, 6.87796916e-06, 2.71561823e-07,\n",
       "       3.41722784e-07, 2.57554499e-03, 9.99582531e-01, 4.49908372e-07,\n",
       "       1.03914954e-03, 9.67872376e-07, 8.66416148e-01, 6.32028034e-02,\n",
       "       4.77716989e-05, 7.08635508e-03, 6.52343119e-06, 3.55610907e-03,\n",
       "       5.64351187e-03, 5.26578772e-01, 9.71191283e-01, 1.32611466e-03,\n",
       "       7.33774518e-06, 4.63485417e-06, 3.68842834e-01, 1.21846646e-03,\n",
       "       7.02098905e-01, 9.83318042e-01, 2.69443664e-04, 9.99138331e-01,\n",
       "       7.32793110e-04, 1.77188057e-07, 2.35706404e-01, 1.27650729e-06,\n",
       "       6.07476441e-04, 9.99336006e-01, 9.33887197e-01, 1.47406028e-01,\n",
       "       4.37520338e-03, 1.01821749e-02, 3.05077205e-01, 9.19132645e-01,\n",
       "       2.04222178e-04, 9.86893546e-01, 2.08294835e-01, 2.60893810e-01,\n",
       "       8.02225303e-07, 2.26812128e-04, 8.49002975e-03, 3.09061628e-07,\n",
       "       8.54386993e-01, 6.00257249e-03, 9.84561417e-01, 9.87169137e-01,\n",
       "       2.05930202e-01, 3.17914772e-03, 3.64658912e-04, 1.25229331e-05,\n",
       "       7.51429892e-03, 4.00710310e-01, 2.83380422e-03, 2.81863248e-03,\n",
       "       9.85115797e-01, 1.60598946e-03, 4.87695994e-01, 7.35758602e-04,\n",
       "       1.00276157e-07, 9.16633162e-01, 1.14278122e-01, 9.38519850e-07,\n",
       "       3.63901530e-03, 1.94730193e-03, 2.98243445e-04, 2.46504445e-07,\n",
       "       3.75465765e-03, 6.88429549e-07, 1.64535823e-06, 1.15429364e-03,\n",
       "       7.30086480e-05, 5.99812238e-08, 9.95620588e-01, 2.46760910e-04,\n",
       "       2.23984200e-04, 3.17217960e-04, 1.05884848e-01, 2.99677514e-03,\n",
       "       6.77669792e-06, 9.99669688e-01, 1.15154714e-03, 9.84437789e-01,\n",
       "       3.05826792e-04, 9.98125927e-01, 6.89169611e-01, 8.68479609e-01,\n",
       "       4.63029894e-03, 6.46595209e-01, 1.94202153e-03, 1.22280210e-06,\n",
       "       5.87690034e-01, 1.05015386e-02, 1.41970713e-07, 1.13115388e-03,\n",
       "       8.50663930e-07, 7.65005491e-01, 9.95144031e-01, 2.13862780e-04,\n",
       "       9.79266602e-01, 1.76375035e-03, 3.12262985e-06, 2.73160213e-02,\n",
       "       8.30496777e-03, 9.68483755e-01, 2.40758622e-01, 1.07542948e-01,\n",
       "       1.52939755e-04, 9.80349510e-01, 4.01174097e-07, 2.84041359e-03,\n",
       "       1.83504294e-04, 2.18852858e-03, 5.14207601e-01, 2.33984207e-03,\n",
       "       3.40988754e-04, 7.42771894e-03, 9.51983873e-01, 9.32491636e-07,\n",
       "       1.41237488e-04, 4.25718575e-02, 3.41616405e-07, 3.51969426e-03,\n",
       "       1.52712190e-07, 2.34409507e-07, 1.30616374e-03, 4.78527274e-03,\n",
       "       7.71809844e-01, 8.10022427e-01, 2.72559982e-07, 1.78980116e-04,\n",
       "       1.20746932e-01, 4.59251590e-03, 2.43676155e-05, 1.44360627e-06,\n",
       "       8.17790624e-07, 9.64930865e-01, 5.41991142e-03, 1.03348227e-05,\n",
       "       4.28346579e-06, 5.94252360e-01, 7.56202718e-04, 8.34286029e-04,\n",
       "       5.44498981e-03, 9.05642505e-04, 2.41269216e-06, 3.92297970e-03,\n",
       "       6.85475041e-07, 3.86752753e-04, 9.57141584e-06, 4.34198055e-06,\n",
       "       1.68849614e-03, 8.28632372e-01, 6.09354046e-04, 3.33064107e-02,\n",
       "       9.53721834e-05, 1.17007889e-05, 9.70622060e-01, 7.40565356e-03,\n",
       "       7.64887836e-03, 4.17561013e-04, 6.40297790e-01, 1.12467774e-07,\n",
       "       2.37516715e-03, 4.92742780e-05, 9.96517421e-01, 9.99165222e-01,\n",
       "       8.23162530e-03, 1.04247309e-06, 9.96928384e-01, 8.15230770e-08,\n",
       "       6.88865861e-07, 6.32797866e-02, 4.29103187e-05, 1.31057737e-04,\n",
       "       1.28374361e-03, 9.71514092e-01, 6.45387914e-04, 2.28407232e-05,\n",
       "       9.98466573e-01, 9.75024587e-04, 1.39555560e-06, 1.64709442e-07,\n",
       "       2.67978299e-03, 9.94712460e-01, 9.89791839e-01, 5.48274689e-02,\n",
       "       1.49096766e-05, 9.24250919e-04, 3.58923109e-04, 9.96079736e-01,\n",
       "       3.05228557e-03, 9.89072507e-01, 1.68989216e-03, 3.84222521e-08,\n",
       "       1.98498836e-07, 9.97836631e-01, 8.02233696e-06, 9.97798462e-01,\n",
       "       7.46705088e-08, 1.50652939e-01, 2.24320893e-04, 2.49574827e-07,\n",
       "       5.89077868e-03, 9.80178606e-01, 2.33551322e-07, 1.83135789e-03,\n",
       "       2.43479818e-04, 8.97465820e-07, 3.77065167e-03, 2.38976819e-04,\n",
       "       9.96460161e-01, 1.23709901e-02, 1.74869626e-03, 2.09597284e-03,\n",
       "       1.08526150e-03, 2.56263478e-01, 1.86205499e-05, 6.84689775e-01,\n",
       "       2.30119060e-03, 9.41472966e-01, 4.66703455e-08, 5.98089274e-02,\n",
       "       1.69620255e-03, 9.96680788e-01, 8.24229969e-01, 3.14411443e-05,\n",
       "       5.14406190e-04, 2.00097380e-05, 3.83166556e-07, 7.54309083e-07,\n",
       "       6.98111010e-02, 9.99678238e-01, 2.88581828e-03, 8.01191674e-02,\n",
       "       9.74762918e-01, 9.99099962e-01, 9.32308132e-03, 5.19250873e-06,\n",
       "       2.92868323e-02, 4.02546103e-03, 9.30570637e-07, 1.49141343e-01,\n",
       "       9.90026132e-01, 4.41213331e-02, 1.32980561e-03, 1.86778852e-05,\n",
       "       8.52641501e-07, 4.77838520e-03, 9.98689294e-01, 3.32857884e-03,\n",
       "       3.01593801e-03, 2.63265318e-04, 5.73195973e-03, 4.73676097e-06,\n",
       "       2.95385882e-04, 2.49188444e-03, 1.33328803e-03, 9.99012937e-01,\n",
       "       1.59146466e-06, 6.75872027e-07, 7.76122344e-04, 5.48608195e-07,\n",
       "       4.06895689e-02, 8.66650531e-01, 7.94731034e-07, 8.20781304e-07,\n",
       "       1.23720346e-04, 1.87472065e-03, 2.41152915e-04, 9.53506839e-01,\n",
       "       9.98673699e-01, 9.87339594e-01, 4.81887474e-01, 2.36701252e-02,\n",
       "       5.65668056e-08, 9.82873651e-01, 2.04332955e-03, 5.41745160e-07,\n",
       "       2.77748519e-04, 5.70969367e-07, 7.22555076e-07, 3.34703111e-04,\n",
       "       1.24966522e-02, 9.73920057e-01, 1.01258337e-03, 5.79201320e-07,\n",
       "       2.12581763e-04, 1.66406601e-06, 6.08526412e-03, 9.95243573e-01,\n",
       "       7.71149292e-08, 1.49581506e-04, 3.43116132e-04, 4.84089188e-07,\n",
       "       7.23650464e-02, 6.51058107e-02, 2.64000840e-03, 6.05402888e-01,\n",
       "       1.09623536e-03, 1.95775854e-03, 2.76041306e-06, 7.64196136e-03,\n",
       "       5.61593517e-03, 8.71884307e-05, 1.13962576e-06, 1.73772038e-01,\n",
       "       8.72013632e-07, 9.97180392e-01, 1.56567487e-06, 8.70906279e-08,\n",
       "       2.74493096e-02, 7.11064493e-03, 2.13629494e-01, 9.98378605e-01,\n",
       "       6.28540063e-01, 7.90216607e-01, 9.54574333e-01, 2.61996392e-03,\n",
       "       1.47238232e-04, 1.88753196e-02, 9.97186660e-01, 4.23625074e-02,\n",
       "       3.11712296e-04, 1.33552167e-01, 6.80662748e-07, 3.86142194e-03,\n",
       "       1.17708632e-01, 4.28812031e-07, 9.46166888e-01, 5.95463876e-05,\n",
       "       9.99722672e-01, 9.99301570e-01, 7.42527721e-03, 9.96288444e-01,\n",
       "       5.08192381e-03, 9.96593972e-01, 3.36862815e-07, 4.19290460e-02,\n",
       "       3.75482014e-03, 5.52341159e-02, 1.92859003e-02, 9.94457358e-01,\n",
       "       6.34829227e-08, 1.02899293e-02, 9.47961323e-01, 9.64762156e-01,\n",
       "       1.66258999e-05, 9.97955360e-01, 9.50136938e-03, 4.54109009e-03,\n",
       "       3.00843776e-03, 6.86931852e-07, 5.92967460e-03, 5.66858775e-01,\n",
       "       2.45133547e-03, 1.09011446e-06, 1.01997931e-06, 8.25278959e-06,\n",
       "       9.96995536e-01, 9.15785586e-07, 3.17146137e-02, 6.14627139e-08,\n",
       "       9.99351290e-01, 1.01112579e-06, 8.13168139e-03, 9.90477343e-01,\n",
       "       4.07042243e-04, 1.96354735e-03, 1.62452476e-07, 1.43579160e-07,\n",
       "       9.96118962e-01, 2.70350875e-05, 2.75825732e-05, 9.65946836e-01,\n",
       "       9.98117901e-01, 9.80315517e-01, 9.86729673e-07, 9.96020800e-01,\n",
       "       3.41042113e-02, 1.20755549e-05, 5.76695365e-03, 1.31383409e-02,\n",
       "       9.89234586e-01, 1.35086510e-06, 8.66094994e-01, 1.65188711e-03,\n",
       "       1.25041374e-01, 6.51650947e-04, 3.94660661e-04, 5.30119380e-03,\n",
       "       9.40169099e-01, 9.90743064e-01, 4.12917011e-01, 3.90282392e-03,\n",
       "       1.48968402e-03, 2.28117727e-06, 1.00241898e-03, 1.89184202e-03,\n",
       "       8.38883513e-01, 1.21884088e-04, 4.11315432e-04, 3.48311005e-07,\n",
       "       3.21315425e-03, 9.93829465e-01, 9.73253666e-01, 2.49811620e-06,\n",
       "       1.19872063e-03, 1.18040451e-02, 2.63739376e-04, 2.70858659e-03,\n",
       "       4.42992508e-03, 7.06248756e-01, 5.53216074e-03, 8.19399834e-01,\n",
       "       8.32619101e-02, 1.96364425e-03, 4.22267218e-07, 1.09917663e-01,\n",
       "       2.82621419e-03, 2.94658944e-06, 1.11962292e-02, 1.25000523e-04,\n",
       "       3.84715950e-05, 9.95648002e-01, 7.89757426e-01, 9.97156684e-01,\n",
       "       2.19728162e-07, 1.70249117e-02, 9.98533017e-01, 3.49828891e-04,\n",
       "       3.89525187e-07, 1.09577539e-05, 5.55520711e-03, 9.98971146e-01,\n",
       "       7.41191621e-01, 9.97232420e-01, 5.66775825e-07, 9.80403844e-01,\n",
       "       4.01347005e-03, 3.72813741e-07, 4.00664567e-03, 2.24514855e-01,\n",
       "       6.34751459e-01, 9.97741972e-01, 4.15180032e-03, 9.90158074e-01])"
      ]
     },
     "execution_count": 63,
     "metadata": {},
     "output_type": "execute_result"
    }
   ],
   "source": [
    "predict_values=classifier1.predict_proba(X_test)\n",
    "predict_values[:, 1]"
   ]
  },
  {
   "cell_type": "code",
   "execution_count": null,
   "metadata": {},
   "outputs": [],
   "source": [
    "## Evaluación"
   ]
  },
  {
   "cell_type": "code",
   "execution_count": 71,
   "metadata": {},
   "outputs": [
    {
     "data": {
      "text/plain": [
       "array([1, 2, 3, 2, 2, 2, 1, 3, 1, 3, 3, 3, 0, 2, 3, 0, 3, 3, 2, 2, 0, 1,\n",
       "       1, 0, 3, 2, 0, 3, 1, 0, 2, 0, 3, 3, 3, 3, 3, 3, 0, 2, 3, 1, 3, 2,\n",
       "       1, 0, 2, 2, 0, 3, 3, 0, 1, 2, 1, 3, 3, 1, 2, 1, 1, 2, 2, 1, 2, 1,\n",
       "       0, 3, 3, 3, 0, 3, 1, 3, 1, 2, 1, 2, 3, 3, 3, 2, 1, 0, 2, 3, 2, 3,\n",
       "       3, 1, 1, 2, 0, 1, 3, 0, 1, 3, 2, 2, 0, 1, 0, 2, 3, 2, 3, 3, 1, 1,\n",
       "       2, 2, 0, 1, 2, 3, 3, 2, 2, 1, 1, 0, 1, 2, 3, 1, 1, 1, 1, 0, 1, 1,\n",
       "       0, 0, 0, 1, 3, 1, 2, 0, 3, 3, 1, 1, 3, 0, 2, 0, 2, 0, 0, 3, 0, 3,\n",
       "       1, 3, 2, 2, 1, 2, 2, 2, 0, 2, 2, 1, 1, 2, 0, 0, 2, 3, 1, 1, 3, 1,\n",
       "       3, 0, 2, 2, 3, 1, 1, 0, 0, 0, 2, 1, 0, 1, 0, 0, 0, 2, 2, 0, 1, 0,\n",
       "       1, 1, 2, 3, 3, 0, 2, 1, 3, 3, 1, 3, 0, 0, 3, 1, 2, 3, 3, 2, 3, 3,\n",
       "       3, 2, 0, 3, 0, 3, 1, 0, 2, 3, 0, 0, 2, 1, 3, 1, 3, 1, 1, 1, 3, 1,\n",
       "       2, 0, 1, 3, 3, 2, 3, 1, 1, 3, 1, 3, 2, 0, 2, 1, 0, 2, 3, 1, 0, 0,\n",
       "       0, 0, 1, 3, 2, 2, 1, 0, 3, 0, 0, 2, 3, 0, 3, 3, 1, 1, 3, 0, 0, 2,\n",
       "       0, 0, 0, 1, 0, 2, 2, 1, 2, 0, 0, 0, 0, 3, 3, 2, 0, 0, 3, 1, 3, 2,\n",
       "       0, 0, 1, 2, 2, 3, 1, 3, 3, 2, 1, 1, 2, 2, 1, 3, 3, 2, 2, 0, 3, 1,\n",
       "       0, 2, 1, 3, 0, 0, 2, 1, 1, 0, 2, 3, 3, 1, 3, 1, 0, 3, 3, 1, 2, 1,\n",
       "       3, 0, 0, 0, 3, 1, 0, 2, 3, 2, 3, 0, 1, 2, 3, 2, 3, 2, 2, 1, 0, 1,\n",
       "       3, 2, 3, 1, 1, 2, 3, 0, 0, 3, 0, 1, 2, 0, 1, 1, 3, 0, 2, 3, 3, 0,\n",
       "       1, 0, 3, 0, 3, 3, 1, 3, 0, 3, 3, 2, 3, 2, 2, 1, 2, 2, 0, 3, 0, 1,\n",
       "       2, 3, 3, 2, 0, 1, 1, 1, 0, 0, 3, 1, 3, 0, 3, 3, 2, 3, 0, 1, 2, 3,\n",
       "       0, 0, 2, 1, 3, 0, 3, 3, 2, 0, 0, 1, 3, 0, 2, 2, 3, 2, 2, 0, 3, 1,\n",
       "       2, 3, 0, 0, 0, 1, 1, 1, 1, 3, 0, 0, 1, 2, 0, 0, 3, 3, 2, 3, 1, 0,\n",
       "       1, 1, 2, 1, 3, 1, 0, 2, 3, 2, 2, 1, 3, 2, 1, 1, 0, 1, 0, 3, 0, 0,\n",
       "       2, 1, 2, 3, 3, 0, 1, 3, 2, 3, 1, 3, 2, 1, 3, 2, 0, 0, 1, 0, 0, 1,\n",
       "       1, 1, 2, 1, 0, 2, 3, 3, 1, 2, 1, 2, 0, 2, 2, 0, 1, 1, 1, 2, 3, 0,\n",
       "       0, 2, 1, 3, 3, 0, 3, 1, 1, 0, 3, 2, 3, 2, 3, 1, 2, 1, 2, 2, 3, 2,\n",
       "       2, 0, 3, 3, 2, 1, 1, 1, 3, 0, 1, 3, 3, 0, 3, 1, 1, 1, 2, 1, 2, 3,\n",
       "       2, 0, 1, 1, 3, 1], dtype=int64)"
      ]
     },
     "execution_count": 71,
     "metadata": {},
     "output_type": "execute_result"
    }
   ],
   "source": [
    "np.array(y_pred1)"
   ]
  },
  {
   "cell_type": "code",
   "execution_count": 115,
   "metadata": {},
   "outputs": [
    {
     "data": {
      "text/plain": [
       "array([[136,   0,   0,   0],\n",
       "       [  4, 146,   4,   0],\n",
       "       [  0,   9, 132,   9],\n",
       "       [  0,   0,   4, 156]], dtype=int64)"
      ]
     },
     "execution_count": 115,
     "metadata": {},
     "output_type": "execute_result"
    }
   ],
   "source": [
    "matrix=confusion_matrix(np.array(y_test), np.array(y_pred1))\n",
    "matrix"
   ]
  },
  {
   "cell_type": "code",
   "execution_count": 116,
   "metadata": {},
   "outputs": [
    {
     "data": {
      "image/png": "[encoded data removed]",
      "text/plain": [
       "<Figure size 576x576 with 2 Axes>"
      ]
     },
     "metadata": {
      "needs_background": "light"
     },
     "output_type": "display_data"
    }
   ],
   "source": [
    "figure = plt.figure(figsize=(8, 8))\n",
    "sns.heatmap(matrix, annot=True,fmt='g', cmap=plt.cm.Blues)\n",
    "plt.tight_layout()\n",
    "plt.ylabel('True label')\n",
    "plt.xlabel('Predicted label')\n",
    "plt.show()"
   ]
  },
  {
   "cell_type": "code",
   "execution_count": 117,
   "metadata": {},
   "outputs": [
    {
     "name": "stdout",
     "output_type": "stream",
     "text": [
      "Mean kernel-SVM CrossVal Accuracy on model Set 0.94, with std=0.03\n",
      "Mean kernel-SVM CrossVal Accuracy on Train Set 0.95, with std=0.02\n"
     ]
    },
    {
     "data": {
      "text/plain": [
       "0.955"
      ]
     },
     "execution_count": 117,
     "metadata": {},
     "output_type": "execute_result"
    }
   ],
   "source": [
    "scoresSVC = cross_val_score( classifier1, X_test, y_test, cv=10)\n",
    "print(\"Mean kernel-SVM CrossVal Accuracy on model Set %.2f, with std=%.2f\" % (scoresSVC.mean(), scoresSVC.std() ))\n",
    "\n",
    "scoresSVC = cross_val_score( classifier1, X_train, y_train, cv=10)\n",
    "print(\"Mean kernel-SVM CrossVal Accuracy on Train Set %.2f, with std=%.2f\" % (scoresSVC.mean(), scoresSVC.std() ))\n",
    "classifier1.score(X_train, y_train)"
   ]
  },
  {
   "cell_type": "code",
   "execution_count": 89,
   "metadata": {},
   "outputs": [],
   "source": [
    "y_pred_testing = classifier1.predict(test[[\"battery_power\",\"blue\",\"clock_speed\",\"dual_sim\",\"fc\",\"four_g\",\"int_memory\",\n",
    "                                               \"m_dep\",\"mobile_wt\",\"n_cores\",\"pc\",\"px_height\",\"px_width\",\"ram\",\"sc_h\",\"sc_w\",\n",
    "                                               \"talk_time\",\"three_g\",\"touch_screen\",\"wifi\"]] )"
   ]
  },
  {
   "cell_type": "code",
   "execution_count": 90,
   "metadata": {},
   "outputs": [
    {
     "data": {
      "text/plain": [
       "array([3, 3, 2, 3, 1, 3, 3, 1, 3, 0, 3, 3, 0, 0, 2, 0, 2, 1, 3, 2, 1, 3,\n",
       "       1, 1, 3, 0, 2, 0, 3, 0, 2, 0, 3, 0, 1, 1, 3, 1, 2, 1, 1, 2, 0, 0,\n",
       "       0, 1, 0, 3, 1, 2, 1, 0, 3, 0, 3, 1, 3, 1, 1, 3, 3, 3, 0, 1, 1, 1,\n",
       "       1, 3, 1, 2, 1, 2, 2, 3, 3, 0, 2, 0, 2, 3, 0, 3, 3, 0, 3, 0, 3, 1,\n",
       "       3, 0, 1, 2, 2, 1, 2, 2, 0, 2, 1, 2, 1, 0, 0, 3, 0, 2, 0, 1, 2, 3,\n",
       "       3, 3, 1, 3, 3, 3, 3, 2, 3, 0, 0, 3, 2, 1, 2, 0, 3, 2, 3, 1, 0, 2,\n",
       "       1, 1, 3, 1, 1, 0, 3, 2, 1, 2, 1, 2, 2, 3, 3, 3, 2, 3, 2, 3, 1, 0,\n",
       "       3, 2, 3, 3, 3, 3, 2, 2, 3, 3, 3, 3, 1, 0, 3, 0, 0, 0, 2, 1, 0, 1,\n",
       "       0, 0, 1, 2, 1, 0, 0, 1, 1, 2, 2, 1, 0, 0, 0, 1, 0, 3, 1, 0, 2, 2,\n",
       "       3, 3, 1, 2, 3, 2, 3, 2, 2, 1, 0, 0, 1, 3, 0, 2, 3, 3, 0, 2, 0, 3,\n",
       "       2, 3, 3, 1, 0, 1, 0, 3, 0, 1, 0, 2, 2, 1, 2, 0, 3, 0, 3, 1, 2, 0,\n",
       "       0, 2, 1, 3, 3, 3, 1, 1, 3, 0, 0, 2, 3, 3, 1, 3, 1, 1, 3, 2, 1, 2,\n",
       "       3, 3, 3, 1, 0, 1, 2, 3, 1, 1, 3, 2, 0, 3, 0, 0, 2, 0, 0, 3, 2, 3,\n",
       "       3, 2, 1, 3, 3, 2, 3, 1, 2, 1, 2, 0, 2, 3, 1, 0, 0, 3, 0, 3, 0, 1,\n",
       "       2, 0, 2, 3, 1, 3, 2, 2, 1, 2, 0, 0, 0, 1, 3, 2, 0, 0, 0, 3, 2, 0,\n",
       "       2, 3, 1, 2, 2, 2, 3, 1, 3, 3, 2, 2, 2, 3, 3, 0, 3, 0, 3, 1, 3, 1,\n",
       "       3, 3, 0, 1, 0, 3, 1, 3, 2, 3, 0, 0, 0, 0, 2, 0, 0, 2, 2, 1, 2, 2,\n",
       "       2, 0, 1, 0, 0, 3, 2, 0, 3, 1, 2, 2, 1, 2, 3, 1, 1, 2, 2, 1, 2, 0,\n",
       "       1, 1, 0, 3, 2, 0, 0, 1, 0, 0, 1, 1, 0, 0, 0, 2, 2, 3, 2, 3, 0, 3,\n",
       "       0, 3, 0, 1, 1, 1, 2, 0, 3, 2, 3, 3, 1, 3, 1, 3, 1, 3, 2, 0, 1, 2,\n",
       "       1, 1, 0, 0, 0, 1, 2, 1, 0, 3, 2, 0, 2, 2, 0, 0, 3, 1, 1, 0, 3, 3,\n",
       "       3, 0, 3, 0, 2, 3, 3, 3, 0, 2, 0, 2, 3, 0, 1, 1, 0, 0, 1, 1, 1, 3,\n",
       "       3, 3, 2, 3, 1, 2, 2, 3, 3, 3, 2, 0, 2, 1, 2, 2, 1, 0, 2, 2, 0, 0,\n",
       "       0, 3, 1, 0, 2, 2, 2, 0, 3, 0, 2, 2, 1, 3, 0, 2, 3, 0, 1, 1, 3, 3,\n",
       "       1, 1, 2, 3, 2, 0, 3, 1, 2, 0, 3, 3, 1, 3, 2, 2, 3, 0, 1, 2, 3, 1,\n",
       "       3, 2, 3, 1, 1, 1, 0, 3, 1, 0, 3, 2, 3, 2, 0, 3, 3, 3, 2, 3, 3, 1,\n",
       "       2, 0, 2, 2, 3, 1, 0, 1, 1, 2, 2, 2, 0, 0, 2, 2, 3, 2, 0, 2, 1, 3,\n",
       "       3, 0, 1, 3, 0, 2, 1, 1, 0, 0, 2, 1, 0, 1, 1, 2, 2, 0, 2, 2, 1, 0,\n",
       "       3, 0, 0, 3, 2, 0, 0, 0, 0, 0, 3, 0, 3, 1, 3, 2, 1, 3, 3, 0, 1, 0,\n",
       "       3, 2, 2, 2, 0, 3, 0, 2, 0, 2, 0, 0, 1, 1, 1, 2, 1, 3, 1, 3, 2, 2,\n",
       "       1, 3, 2, 0, 1, 2, 0, 3, 3, 0, 2, 1, 1, 2, 0, 3, 2, 0, 3, 2, 3, 0,\n",
       "       0, 3, 0, 2, 2, 3, 2, 2, 2, 2, 1, 2, 3, 0, 1, 0, 1, 2, 1, 0, 0, 1,\n",
       "       0, 0, 3, 0, 1, 2, 0, 0, 1, 1, 3, 0, 3, 2, 3, 0, 0, 1, 2, 2, 1, 0,\n",
       "       1, 1, 0, 1, 1, 0, 1, 3, 3, 0, 3, 1, 2, 3, 0, 1, 0, 2, 2, 0, 3, 1,\n",
       "       0, 3, 0, 1, 0, 3, 3, 3, 2, 3, 0, 3, 2, 0, 0, 0, 2, 3, 2, 0, 2, 1,\n",
       "       3, 0, 0, 3, 2, 0, 3, 1, 2, 1, 1, 1, 3, 1, 1, 1, 2, 1, 0, 2, 2, 0,\n",
       "       2, 0, 0, 0, 0, 2, 3, 3, 3, 0, 1, 2, 1, 1, 0, 0, 2, 1, 0, 2, 0, 3,\n",
       "       2, 2, 1, 2, 0, 2, 1, 3, 0, 0, 3, 2, 3, 0, 0, 2, 3, 3, 1, 2, 2, 1,\n",
       "       0, 0, 3, 3, 0, 3, 0, 0, 0, 2, 2, 1, 2, 0, 3, 2, 1, 2, 3, 3, 0, 1,\n",
       "       1, 2, 1, 2, 2, 0, 1, 3, 1, 1, 3, 0, 2, 3, 2, 1, 1, 1, 3, 3, 0, 2,\n",
       "       3, 0, 2, 3, 3, 2, 2, 3, 2, 0, 1, 2, 0, 2, 1, 1, 2, 2, 2, 1, 2, 1,\n",
       "       0, 1, 3, 1, 0, 1, 2, 3, 1, 0, 0, 3, 2, 2, 3, 0, 3, 3, 2, 1, 3, 0,\n",
       "       1, 3, 1, 1, 1, 1, 3, 2, 0, 3, 0, 2, 3, 0, 3, 1, 3, 3, 1, 0, 2, 3,\n",
       "       1, 0, 2, 1, 2, 1, 2, 0, 2, 2, 0, 2, 3, 2, 3, 0, 2, 1, 1, 2, 2, 3,\n",
       "       3, 0, 2, 1, 2, 1, 3, 1, 1, 3, 0, 1, 0, 0, 3, 3, 2, 0, 0, 0, 0, 3,\n",
       "       2, 3, 3, 0, 0, 2, 1, 0, 2, 2], dtype=int64)"
      ]
     },
     "execution_count": 90,
     "metadata": {},
     "output_type": "execute_result"
    }
   ],
   "source": [
    "y_pred_testing "
   ]
  },
  {
   "cell_type": "markdown",
   "metadata": {},
   "source": [
    "## Resultados\n",
    "En conclusión, los valores obtenidos por la clasifición verdaderos positivos son buenos. Por lo cual no se recomienda utilizar este modelo de machine learning."
   ]
  },
  {
   "cell_type": "code",
   "execution_count": null,
   "metadata": {},
   "outputs": [],
   "source": []
  }
 ],
 "metadata": {
  "kernelspec": {
   "display_name": "Python 3",
   "language": "python",
   "name": "python3"
  },
  "language_info": {
   "codemirror_mode": {
    "name": "ipython",
    "version": 3
   },
   "file_extension": ".py",
   "mimetype": "text/x-python",
   "name": "python",
   "nbconvert_exporter": "python",
   "pygments_lexer": "ipython3",
   "version": "3.8.6"
  }
 },
 "nbformat": 4,
 "nbformat_minor": 4
}
